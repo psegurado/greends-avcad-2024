{
 "cells": [
  {
   "attachments": {},
   "cell_type": "markdown",
   "metadata": {},
   "source": [
    "# Analysis and Visualization of Complex Agro-Environmental Data\n",
    "---\n",
    "## Bivariate analysis and visualization"
   ]
  },
  {
   "cell_type": "code",
   "execution_count": null,
   "metadata": {},
   "outputs": [],
   "source": [
    "import pandas as pd\n",
    "import zipfile\n",
    "import seaborn as sns # For plotting\n",
    "import matplotlib.pyplot as plt # For showing plots"
   ]
  },
  {
   "cell_type": "code",
   "execution_count": null,
   "metadata": {},
   "outputs": [],
   "source": [
    "df = pd.read_csv('EFIplus_medit.zip',compression='zip', sep=\";\")"
   ]
  },
  {
   "cell_type": "code",
   "execution_count": null,
   "metadata": {},
   "outputs": [],
   "source": [
    "# clean up the dataset to remove unnecessary columns (eg. REG) \n",
    "df.drop(df.iloc[:,5:15], axis=1, inplace=True)\n",
    "\n",
    "# let's rename some columns so that they make sense\n",
    "df.rename(columns={'Sum of Run1_number_all':'Total_fish_individuals'}, inplace=True) # inplace=\"True\" means that df will be updated\n",
    "\n",
    "# for sake of consistency, let's also make all column labels of type string\n",
    "df.columns = list(map(str, df.columns))"
   ]
  },
  {
   "cell_type": "code",
   "execution_count": null,
   "metadata": {},
   "outputs": [],
   "source": [
    "# Check data types\n",
    "pd.options.display.max_rows = 154 # maximum number of rows displayed.\n",
    "df.dtypes"
   ]
  },
  {
   "attachments": {},
   "cell_type": "markdown",
   "metadata": {},
   "source": [
    "### Visualizing pairs of `categorical` variables"
   ]
  },
  {
   "attachments": {},
   "cell_type": "markdown",
   "metadata": {},
   "source": [
    "#### Crosstabulate categorical data"
   ]
  },
  {
   "cell_type": "code",
   "execution_count": null,
   "metadata": {},
   "outputs": [],
   "source": [
    "ctab = pd.crosstab(df['Eutrophication'], df['Salmo trutta fario'])\n",
    "print(ctab)"
   ]
  },
  {
   "attachments": {},
   "cell_type": "markdown",
   "metadata": {},
   "source": [
    "#### Barplot"
   ]
  },
  {
   "cell_type": "code",
   "execution_count": null,
   "metadata": {},
   "outputs": [],
   "source": [
    "\n",
    "# Creating barplot from crosstable\n",
    "barplot = ctab.plot.bar(rot=0)"
   ]
  },
  {
   "attachments": {},
   "cell_type": "markdown",
   "metadata": {},
   "source": [
    "### visualizing `categorical` *versus* `continuous` variables"
   ]
  },
  {
   "attachments": {},
   "cell_type": "markdown",
   "metadata": {},
   "source": [
    "#### Barplots\n",
    "\n",
    "`Barplots` are typically used to visualize quantitative variables against categorical variables. This visualization is preferred when there is a limited number of categories and are used when the focus is on comparing quantities. If each category has a correspondent sample of observations, then barplots must show error bars to express data variability."
   ]
  },
  {
   "cell_type": "code",
   "execution_count": null,
   "metadata": {},
   "outputs": [],
   "source": [
    "sns.barplot(x=\"Country\", y=\"prec_ann_catch\", data=df)\n",
    "plt.show()"
   ]
  },
  {
   "cell_type": "code",
   "execution_count": null,
   "metadata": {},
   "outputs": [],
   "source": [
    "sns.barplot(data=df, x=\"Catchment_name\", y=\"prec_ann_catch\", estimator=\"mean\")\n",
    "plt.xticks(rotation=90)\n",
    "plt.show()"
   ]
  },
  {
   "cell_type": "code",
   "execution_count": null,
   "metadata": {},
   "outputs": [],
   "source": [
    "sns.barplot(data=df, x=\"Catchment_name\", y=\"prec_ann_catch\", estimator=\"mean\", color=\"skyblue\")\n",
    "plt.xticks(rotation=90)\n",
    "plt.show()"
   ]
  },
  {
   "attachments": {},
   "cell_type": "markdown",
   "metadata": {
    "vscode": {
     "languageId": "python"
    }
   },
   "source": [
    "#### Boxplots\n",
    "\n",
    "`Boxplots` are also often use to visualize quantitative variables against categorical variables but now the focus is on analysing overlap among samples' distributions."
   ]
  },
  {
   "cell_type": "code",
   "execution_count": null,
   "metadata": {},
   "outputs": [],
   "source": [
    "sns.boxplot(x=\"Country\", y=\"prec_ann_catch\", data=df).set_title(\"Box plot of Total Annual Precipitation\")\n",
    "plt.show()"
   ]
  },
  {
   "attachments": {},
   "cell_type": "markdown",
   "metadata": {},
   "source": [
    "#### violin plots\n",
    "\n",
    "`violin plots` are increasingly used over boxplot to analyse overlap among samples. The probability distribution allows more detail on analysing overlap among samples.  "
   ]
  },
  {
   "cell_type": "code",
   "execution_count": null,
   "metadata": {},
   "outputs": [],
   "source": [
    "dfsub = df[(df['Catchment_name']=='Mondego') | \n",
    "    (df['Catchment_name']=='Douro') |\n",
    "    (df['Catchment_name']=='Minho') |\n",
    "    (df['Catchment_name']=='Tejo')\n",
    "    ]\n",
    "sns.violinplot(\n",
    "    data= dfsub,\n",
    "    x='temp_ann',\n",
    "    y='Catchment_name',\n",
    "    color='#219ebc', # HEX color picked from here: https://coolors.co/palettes/trending - don't forget to start by \"#\"\n",
    "    )\n",
    "plt.tick_params(left=False) # removes tickmarks\n",
    "sns.despine(left=True)\n",
    "plt.xlabel('Mean Annual Temperature')\n",
    "plt.ylabel('')\n",
    "plt.show()"
   ]
  },
  {
   "attachments": {},
   "cell_type": "markdown",
   "metadata": {},
   "source": [
    "#### Stripplots\n",
    "\n",
    "`Stripplots` are used with the same end as boxplots and violin plots. A `jitter` function is used to randomly display data points along an axis that is perpendicular to the continuous variable axis, which forms a strip of variable width where obervations are plotted. "
   ]
  },
  {
   "cell_type": "code",
   "execution_count": null,
   "metadata": {},
   "outputs": [],
   "source": [
    "# Less code\n",
    "\n",
    "dfsub = df[(df['Catchment_name']=='Mondego') | \n",
    "    (df['Catchment_name']=='Douro') |\n",
    "    (df['Catchment_name']=='Minho') |\n",
    "    (df['Catchment_name']=='Tejo')\n",
    "    ]\n",
    "\n",
    "sns.stripplot(\n",
    "    data= dfsub,\n",
    "    x='Catchment_name',\n",
    "    y='temp_ann',\n",
    "    )\n",
    "plt.tick_params(bottom=False) # removes bottom tickmarks\n",
    "sns.despine(bottom=True)\n",
    "plt.ylabel('Mean Annual Temperature')\n",
    "plt.xlabel('')\n",
    "plt.show()"
   ]
  },
  {
   "cell_type": "code",
   "execution_count": null,
   "metadata": {},
   "outputs": [],
   "source": [
    "# Less code and inverted\n",
    "\n",
    "dfsub = df[(df['Catchment_name']=='Mondego') | \n",
    "    (df['Catchment_name']=='Douro') |\n",
    "    (df['Catchment_name']=='Minho') |\n",
    "    (df['Catchment_name']=='Tejo')\n",
    "    ]\n",
    "\n",
    "sns.stripplot(\n",
    "    data= dfsub,\n",
    "    x='temp_ann',\n",
    "    y='Catchment_name',\n",
    "    jitter=0.3, # the ammount of jitter (i.e. random point dispersion along the x-axis).\n",
    "    linewidth=0, # no line around the points\n",
    "    color='#c490d1', # HEX color picked from here: https://coolors.co/palettes/trending - don't forget to start by \"#\"\n",
    "    alpha=.7,\n",
    "    s=5 # point size\n",
    "    )\n",
    "plt.tick_params(left=False) # removes bottom tickmarks\n",
    "sns.despine(left=True)\n",
    "plt.xlabel('Mean Annual Temperature')\n",
    "plt.ylabel('')\n",
    "plt.show()"
   ]
  },
  {
   "attachments": {},
   "cell_type": "markdown",
   "metadata": {},
   "source": [
    "#### Mixed visualizations\n",
    "\n",
    "It is becoming frequent to mix visualizations such as boxplots and strip plots in the same plot, offering complementary information about the data."
   ]
  },
  {
   "attachments": {},
   "cell_type": "markdown",
   "metadata": {},
   "source": [
    "##### Box plots with jitter"
   ]
  },
  {
   "cell_type": "code",
   "execution_count": null,
   "metadata": {},
   "outputs": [],
   "source": [
    "\n",
    "dfsub = df[(df['Catchment_name']=='Mondego') | \n",
    "    (df['Catchment_name']=='Douro') |\n",
    "    (df['Catchment_name']=='Minho') |\n",
    "    (df['Catchment_name']=='Tejo')\n",
    "    ]\n",
    "sns.boxplot(\n",
    "    data= dfsub,\n",
    "    x='temp_ann',\n",
    "    y='Catchment_name',\n",
    "    width=0.4,\n",
    "    fliersize=0,\n",
    "    color='#219ebc', # HEX color picked from here: https://coolors.co/palettes/trending - don't forget to start by \"#\"\n",
    "    )\n",
    "sns.stripplot(\n",
    "    data= dfsub,\n",
    "    x='temp_ann',\n",
    "    y='Catchment_name',\n",
    "    jitter=0.1, # the ammount of jitter (i.e. random point dispersion along the x-axis).\n",
    "    linewidth=0, # no line around the poits\n",
    "    color='#9e2a2b', # HEX color picked from here: https://coolors.co/palettes/trending - don't forget to start by \"#\"\n",
    "    alpha=.3,\n",
    "    s=3, # point size\n",
    "    )\n",
    "plt.tick_params(left=False) # removes tickmarks\n",
    "sns.despine(left=True)\n",
    "plt.xlabel('Mean Annual Temperature')\n",
    "plt.ylabel('')\n",
    "plt.show()"
   ]
  },
  {
   "attachments": {},
   "cell_type": "markdown",
   "metadata": {},
   "source": [
    "### visualizing pairs of `continuous` variables"
   ]
  },
  {
   "attachments": {},
   "cell_type": "markdown",
   "metadata": {},
   "source": [
    "#### Line plot\n",
    "\n"
   ]
  },
  {
   "cell_type": "code",
   "execution_count": null,
   "metadata": {},
   "outputs": [],
   "source": [
    "sns.lineplot(data=df, x='temp_ann', y='prec_ann_catch')\n",
    "plt.show()"
   ]
  },
  {
   "attachments": {},
   "cell_type": "markdown",
   "metadata": {},
   "source": [
    "#### Scatter plots\n",
    "\n",
    "`scatter plots` are a useful method of comparing continuous variables against each other. They often are used to map independent and dependent variables on a 2D graph. The data in a scatter plot is considered to express a trend. With further analysis using tools like regression, we can mathematically calculate this relationship and use it to predict trends outside the dataset."
   ]
  },
  {
   "cell_type": "code",
   "execution_count": null,
   "metadata": {},
   "outputs": [],
   "source": [
    "sns.scatterplot(data=df, x='Elevation_mean_catch', y='prec_ann_catch')\n",
    "plt.show()"
   ]
  },
  {
   "cell_type": "code",
   "execution_count": null,
   "metadata": {},
   "outputs": [],
   "source": [
    "sns.jointplot(data=df, x='Elevation_mean_catch', y='prec_ann_catch')\n",
    "plt.show()"
   ]
  },
  {
   "cell_type": "code",
   "execution_count": null,
   "metadata": {},
   "outputs": [],
   "source": [
    "\n",
    "g = sns.JointGrid(data=df, x='Elevation_mean_catch', y='prec_ann_catch')\n",
    "g.plot(sns.scatterplot, sns.boxplot)\n",
    "plt.show()"
   ]
  },
  {
   "cell_type": "code",
   "execution_count": null,
   "metadata": {},
   "outputs": [],
   "source": [
    "g = sns.JointGrid(data=df[df['Catchment_name']=='Mondego'], x='Elevation_mean_catch', y='prec_ann_catch')\n",
    "g.plot(sns.regplot, sns.boxplot)\n",
    "plt.show()"
   ]
  },
  {
   "cell_type": "code",
   "execution_count": null,
   "metadata": {},
   "outputs": [],
   "source": [
    "sns.jointplot(data=df, x='Elevation_mean_catch', y='prec_ann_catch', kind=\"hist\")\n",
    "plt.show()"
   ]
  },
  {
   "cell_type": "code",
   "execution_count": null,
   "metadata": {},
   "outputs": [],
   "source": [
    "sns.jointplot(data=df, x='Elevation_mean_catch', y='prec_ann_catch', kind=\"hex\")\n",
    "plt.show()"
   ]
  },
  {
   "cell_type": "code",
   "execution_count": null,
   "metadata": {},
   "outputs": [],
   "source": [
    "g = sns.jointplot(data=df, x='Elevation_mean_catch', y='prec_ann_catch')\n",
    "g.plot_joint(sns.kdeplot, color=\"r\", zorder=1, levels=6)\n",
    "g.plot_marginals(sns.rugplot, color=\"r\", height=-.15, clip_on=False)\n",
    "plt.show()"
   ]
  },
  {
   "cell_type": "code",
   "execution_count": null,
   "metadata": {},
   "outputs": [],
   "source": [
    "sns.scatterplot(data=df, x='Elevation_mean_catch', y='prec_ann_catch', hue='Country', palette=\"colorblind\")\n",
    "plt.show()"
   ]
  },
  {
   "cell_type": "code",
   "execution_count": null,
   "metadata": {},
   "outputs": [],
   "source": [
    "sns.jointplot(data=df, x='Elevation_mean_catch', y='prec_ann_catch', hue='Country')\n",
    "plt.show()"
   ]
  },
  {
   "cell_type": "code",
   "execution_count": null,
   "metadata": {},
   "outputs": [],
   "source": [
    "sns.jointplot(data=df, x='Elevation_mean_catch', y='prec_ann_catch', hue='Country', kind=\"kde\")\n",
    "plt.show()"
   ]
  }
 ],
 "metadata": {
  "kernelspec": {
   "display_name": "Python 3",
   "language": "python",
   "name": "python3"
  },
  "language_info": {
   "codemirror_mode": {
    "name": "ipython",
    "version": 3
   },
   "file_extension": ".py",
   "mimetype": "text/x-python",
   "name": "python",
   "nbconvert_exporter": "python",
   "pygments_lexer": "ipython3",
   "version": "3.11.2"
  },
  "orig_nbformat": 4
 },
 "nbformat": 4,
 "nbformat_minor": 2
}

{
 "cells": [
  {
   "attachments": {},
   "cell_type": "markdown",
   "metadata": {},
   "source": [
    "# Analysis and Visualization of Complex Agro-Environmental Data\n",
    "---\n",
    "## Cluster Analysis - Agglomerative hierarchical clustering\n",
    "\n",
    "Hierarchical agglomerative cluster analysis is one of the most widely used clustering approaches to group objects based on their dissimilarities. It is based on grouping successively objects and previously defined clusters. The aim of this approach is toward grouping data into a tree of clusters called dendrograms, which graphically represents the hierarchical relationship between the underlying clusters.\n",
    "\n",
    "In `python` the method is implemented in the `dendrogram()` and `linkage()` functions of the `scipy` module, and in the `AgglomerativeClustering()` function of the `sklearn.cluster` module.\n",
    "\n",
    "To run the analysis you first need to import necessary modules and functions:"
   ]
  },
  {
   "cell_type": "code",
   "execution_count": null,
   "metadata": {},
   "outputs": [],
   "source": [
    "import numpy as np # for getting our distribution\n",
    "import pandas as pd # to handle data frames\n",
    "import matplotlib.pyplot as plt # for plotting\n",
    "import seaborn as sns # for plotting\n",
    "from scipy import stats # to compute statistics\n",
    "from scipy.cluster.hierarchy import dendrogram, linkage # to run the linkage method and create dendrograms\n",
    "from sklearn.cluster import AgglomerativeClustering # to perform agglomerative clustering"
   ]
  },
  {
   "attachments": {},
   "cell_type": "markdown",
   "metadata": {},
   "source": [
    "Create a 2D DataFrame, with 2 variables."
   ]
  },
  {
   "cell_type": "code",
   "execution_count": null,
   "metadata": {},
   "outputs": [],
   "source": [
    "df=pd.DataFrame({\"X\": [12,15,18,10,8,9,12,20,29,16,24,9,27], \"Y\": [6,16,17,8,7,6,9,18,8,14,6,7,9]})\n",
    "df"
   ]
  },
  {
   "attachments": {},
   "cell_type": "markdown",
   "metadata": {},
   "source": [
    "Plot the data. It is evident that there are three groups of objects that are expected to be defined."
   ]
  },
  {
   "cell_type": "code",
   "execution_count": null,
   "metadata": {},
   "outputs": [],
   "source": [
    "plt.scatter(\"X\",\"Y\", data=df)\n",
    "plt.show()"
   ]
  },
  {
   "attachments": {},
   "cell_type": "markdown",
   "metadata": {},
   "source": [
    "Create dendrograms using `Scipy` Check the `linkage()` and `dendrogram()` functions help files."
   ]
  },
  {
   "cell_type": "code",
   "execution_count": null,
   "metadata": {},
   "outputs": [],
   "source": [
    "help(linkage)"
   ]
  },
  {
   "cell_type": "code",
   "execution_count": null,
   "metadata": {},
   "outputs": [],
   "source": [
    "Help(dendrogram)"
   ]
  },
  {
   "attachments": {},
   "cell_type": "markdown",
   "metadata": {},
   "source": [
    "Compute a dendrogram with single linkage"
   ]
  },
  {
   "cell_type": "code",
   "execution_count": null,
   "metadata": {},
   "outputs": [],
   "source": [
    "dendrogram_plot = dendrogram(linkage(df, method='single'))\n",
    "plt.title('single linkage' )\n",
    "plt.xlabel('objects')\n",
    "plt.ylabel('Distance')\n",
    "plt.show()"
   ]
  },
  {
   "attachments": {},
   "cell_type": "markdown",
   "metadata": {},
   "source": [
    "Compute a dendrogram with complete linkage"
   ]
  },
  {
   "cell_type": "code",
   "execution_count": null,
   "metadata": {},
   "outputs": [],
   "source": [
    "dendrogram_plot = dendrogram(linkage(df, method='complete'))\n",
    "plt.title('complete linkage' )\n",
    "plt.xlabel('objects')\n",
    "plt.ylabel('Distance')\n",
    "plt.show()"
   ]
  },
  {
   "attachments": {},
   "cell_type": "markdown",
   "metadata": {},
   "source": [
    "Compute a dendrogram with average linkage"
   ]
  },
  {
   "cell_type": "code",
   "execution_count": null,
   "metadata": {},
   "outputs": [],
   "source": [
    "dendrogram_plot = dendrogram(linkage(df, method='average'))\n",
    "plt.title('average linkage' )\n",
    "plt.xlabel('objects')\n",
    "plt.ylabel('Distance')\n",
    "plt.show()"
   ]
  },
  {
   "attachments": {},
   "cell_type": "markdown",
   "metadata": {},
   "source": [
    "Compute a dendrogram with centroid linkage"
   ]
  },
  {
   "cell_type": "code",
   "execution_count": null,
   "metadata": {},
   "outputs": [],
   "source": [
    "dendrogram_plot = dendrogram(linkage(df, method='centroid'))\n",
    "plt.title('centroid linkage' )\n",
    "plt.xlabel('objects')\n",
    "plt.ylabel('Distance')\n",
    "plt.show()"
   ]
  },
  {
   "attachments": {},
   "cell_type": "markdown",
   "metadata": {},
   "source": [
    "Compute a dendrogram with Ward's linkage"
   ]
  },
  {
   "cell_type": "code",
   "execution_count": null,
   "metadata": {},
   "outputs": [],
   "source": [
    "dendrogram_plot = dendrogram(linkage(df, method='ward'))\n",
    "plt.title('Ward linkage' )\n",
    "plt.xlabel('objects')\n",
    "plt.ylabel('Distance')\n",
    "plt.show()"
   ]
  },
  {
   "attachments": {},
   "cell_type": "markdown",
   "metadata": {},
   "source": [
    "Compute a dendrogram with average linkage and other options"
   ]
  },
  {
   "cell_type": "code",
   "execution_count": null,
   "metadata": {},
   "outputs": [],
   "source": [
    "# run linkage\n",
    "linkward = linkage(df, \n",
    "                   metric = 'cityblock', # cityblock or Manhattan dissimilarity for the dissimilarity matrix\n",
    "                   method='average') # you may compare with other methods except 'centroid' and 'ward' which will only run only with euclidean distances.\n",
    "\n",
    "# run dendrogram\n",
    "plt.figure(figsize=(10, 8))\n",
    "dendrogram_plot = dendrogram(linkward, \n",
    "                            truncate_mode='lastp',  # show only the last p merged clusters - important when there are too many objects\n",
    "                            p=10,  # p merged clusters to show \n",
    "                            leaf_font_size=12.,\n",
    "                            show_contracted=True,  # to get a distribution impression in truncated branches\n",
    "                            orientation='right') # orientation 90º right\n",
    "plt.title('Ward linkage' )\n",
    "plt.xlabel('Distance')\n",
    "plt.ylabel('Objects')\n",
    "\n",
    "# set the number and cluster composition by considering a maximum distance of 8 by drawing a vertical line (x=8)\n",
    "plt.axvline(x=8, color='r', linestyle='--')"
   ]
  },
  {
   "attachments": {},
   "cell_type": "markdown",
   "metadata": {},
   "source": [
    "Visualize the clusters in a scatter plot. Now we will use the `AgglomerativeClustering()` function of `sklear.cluster` that generates labels for each object (row in the DataFrame df) by defining the number of clusters we are interested on.\n"
   ]
  },
  {
   "cell_type": "code",
   "execution_count": null,
   "metadata": {},
   "outputs": [],
   "source": [
    "# run cluster analysis and define 3 clusters (equivalent to the clusters defined by the horizontal line in the previous dendrogram)\n",
    "cluster3 = AgglomerativeClustering(n_clusters=3, # We are interested in only 3 clusters\n",
    "                                    metric='manhattan', # equivalent to 'cityblock'\n",
    "                                    linkage='average')\n",
    "cluster3.fit_predict(df)\n",
    "group3_labels = cluster3.labels_\n",
    "group3_labels # labels of each group of objects (each line in df)"
   ]
  },
  {
   "cell_type": "code",
   "execution_count": null,
   "metadata": {},
   "outputs": [],
   "source": [
    "plt.scatter(df['X'], df['Y'], c=group3_labels)\n",
    "plt.title('Average linkage' )\n",
    "plt.xlabel('X')\n",
    "plt.ylabel('Y')\n",
    "plt.show()"
   ]
  },
  {
   "cell_type": "code",
   "execution_count": null,
   "metadata": {},
   "outputs": [],
   "source": [
    "# The same but now considering 6 clusters\n",
    "cluster6 = AgglomerativeClustering(n_clusters=6, \n",
    "                                    metric='manhattan', # equivalent to 'cityblock'\n",
    "                                    linkage='average')\n",
    "cluster6.fit_predict(df)\n",
    "group6_labels = cluster6.labels_\n",
    "plt.scatter(df['X'], df['Y'], c=group6_labels)\n",
    "plt.title('Average linkage' )\n",
    "plt.xlabel('X')\n",
    "plt.ylabel('Y')\n",
    "plt.show()"
   ]
  },
  {
   "attachments": {},
   "cell_type": "markdown",
   "metadata": {},
   "source": [
    "#### Plot a heatmap with dendrogram by clustering rows using average linkage\n",
    "The `Seaborn` module has an interesing visualization tool that help to visualize variable patterns and dissimilarities among objects in large datasets. It plots a heatplot combined with a dendrogram using a user defined linkage method, either to group objects (rows) or variables (columns)."
   ]
  },
  {
   "cell_type": "code",
   "execution_count": null,
   "metadata": {},
   "outputs": [],
   "source": [
    "sns.clustermap(df, col_cluster=False, row_cluster=True, method='average')\n",
    "plt.show()"
   ]
  },
  {
   "attachments": {},
   "cell_type": "markdown",
   "metadata": {},
   "source": [
    "## Divisive Cluster Analysis (DIANA)\n",
    "\n",
    "Another hierarchical clustering approach is the Divisive Hierarchical Cluster Analysis (DIANA), which is not so commonly used and, to our knowledge, it is not implemented in any python's module (but check e.g. here: https://github.com/div338/Divisive-Clustering-Analysis-Program-DIANA-/blob/master/divisive_clustering.py)"
   ]
  },
  {
   "attachments": {},
   "cell_type": "markdown",
   "metadata": {},
   "source": [
    "## References\n",
    "\n",
    "An Introduction to Hierarchical Clustering in Python https://www.datacamp.com/tutorial/introduction-hierarchical-clustering-python\n",
    "\n",
    "Hierarchical clustering. https://docs.scipy.org/doc/scipy/reference/cluster.hierarchy.html\n",
    "\n",
    "SciPy Hierarchical Clustering and Dendrogram Tutorial. https://joernhees.de/blog/2015/08/26/scipy-hierarchical-clustering-and-dendrogram-tutorial/"
   ]
  }
 ],
 "metadata": {
  "kernelspec": {
   "display_name": "Python 3",
   "language": "python",
   "name": "python3"
  },
  "language_info": {
   "codemirror_mode": {
    "name": "ipython",
    "version": 3
   },
   "file_extension": ".py",
   "mimetype": "text/x-python",
   "name": "python",
   "nbconvert_exporter": "python",
   "pygments_lexer": "ipython3",
   "version": "3.11.2"
  },
  "orig_nbformat": 4
 },
 "nbformat": 4,
 "nbformat_minor": 2
}

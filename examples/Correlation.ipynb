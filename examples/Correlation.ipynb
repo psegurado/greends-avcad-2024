{
 "cells": [
  {
   "attachments": {},
   "cell_type": "markdown",
   "metadata": {},
   "source": [
    "# Analysis and Visualization of Complex Agro-Environmental Data\n",
    "---\n",
    "## Correlation"
   ]
  },
  {
   "attachments": {},
   "cell_type": "markdown",
   "metadata": {},
   "source": [
    "### 1. The bivariate normal distribution\n",
    "\n",
    "Sometimes we can get information about how two variables (or more) relate simply by plot them\n",
    "together. The following example shows how plotting two variables together can provide information\n",
    "that is missed when plotting each one separately. "
   ]
  },
  {
   "cell_type": "code",
   "execution_count": null,
   "metadata": {},
   "outputs": [],
   "source": [
    "# import the packages we are going to be using\n",
    "import numpy as np # for getting our distribution\n",
    "import pandas as pd # to handle data frames\n",
    "import matplotlib.pyplot as plt # for plotting\n",
    "import seaborn as sns # for plotting\n",
    "from scipy import stats # to compute statistics"
   ]
  },
  {
   "cell_type": "code",
   "execution_count": null,
   "metadata": {},
   "outputs": [],
   "source": [
    "\n",
    "# correlation coefficient r - When we have a r of 1 then we will get a perfectly\n",
    "# upward sloping line, and if we have a r of -1, we will get\n",
    "# a perfectly downward slopping line. A r of 0 will\n",
    "# get us a 'cloud' of points. Here we will consider r=0.90, but you can try other values too.\n",
    "\n",
    "# Simulate data to plot\n",
    "r = 0.90\n",
    "mean = [15, 5]\n",
    "cov = [[1, r], [r, 1]]\n",
    "x, y = x, y = np.random.multivariate_normal(mean, cov, 400).T\n",
    "\n",
    "# Adjust the figure size\n",
    "plt.figure(figsize=(10,5))\n",
    "\n",
    "# Plot the histograms of X and Y\n",
    "plt.subplot(1,2,1)\n",
    "plt.hist(x = x, bins = 15)\n",
    "plt.title(\"X\")\n",
    "plt.subplot(1,2,2)\n",
    "plt.hist(x = y, bins = 15)\n",
    "plt.title(\"Y\")\n",
    "plt.show()"
   ]
  },
  {
   "cell_type": "code",
   "execution_count": null,
   "metadata": {},
   "outputs": [],
   "source": [
    "# Plot the data (bivariate joint distributions must necessarily be visualized in a 2D or 3D axis system)\n",
    "plt.figure(figsize=(10,10))\n",
    "plt.subplot(2,2,1)\n",
    "plt.scatter(x = x, y = y)\n",
    "plt.title(\"Joint Distribution of X and Y\")\n",
    "# Plot the Marginal X Distribution\n",
    "plt.subplot(2,2,3)\n",
    "plt.hist(x = x, bins = 15)\n",
    "plt.title(\"Marginal Distribution of X\")\n",
    "# Plot the Marginal Y Distribution\n",
    "plt.subplot(2,2,2)\n",
    "plt.hist(x = y, orientation = \"horizontal\", bins = 15)\n",
    "plt.title(\"Marginal Distribution of Y\")\n",
    "\n",
    "plt.show()\n"
   ]
  },
  {
   "attachments": {},
   "cell_type": "markdown",
   "metadata": {},
   "source": [
    "#### 2D visualization of bivariate normal distribution"
   ]
  },
  {
   "cell_type": "code",
   "execution_count": null,
   "metadata": {},
   "outputs": [],
   "source": [
    "from mpl_toolkits import mplot3d\n",
    "from matplotlib import cm\n",
    "from scipy.stats import multivariate_normal\n",
    "\n",
    "plt.subplots(figsize=(5, 5)) # define figure size\n",
    "\n",
    "mu = np.array([2.1, 1.9]) # mean of x and y\n",
    "sdx = 0.6 # standard deviation of x\n",
    "sdy = 0.4 # standard deviation of y\n",
    "r = 0.6 # correlation\n",
    "cov = np.array([[sdx**2, sdx*sdy*r],[sdy*sdx*r, sdy**2]]) # covariance matrix\n",
    "rv = np.random.multivariate_normal(mu, cov, 1000) # produce a multivariate random variable (array of 2 random variables)\n",
    "da = pd.DataFrame(rv) # convert the array to dataframe (1000x2 table)\n",
    "da.rename({0: 'X', 1: 'Y'}, axis=1, inplace=True)\n",
    "\n",
    "sns.kdeplot(x=da['X'], y=da['Y'], fill=True, cmap=cm.coolwarm, bw_adjust=10, levels=100, thresh=0)\n",
    "plt.show()"
   ]
  },
  {
   "attachments": {},
   "cell_type": "markdown",
   "metadata": {},
   "source": [
    "#### 3D visualization of bivariate normal distribution"
   ]
  },
  {
   "cell_type": "code",
   "execution_count": null,
   "metadata": {},
   "outputs": [],
   "source": [
    "from mpl_toolkits import mplot3d\n",
    "from matplotlib import cm\n",
    "from scipy.stats import multivariate_normal\n",
    "\n",
    "# Simulate data\n",
    "mu = np.array([2.1, 1.9]) # mean of x and y\n",
    "sdx = 0.6 # standard deviation of x\n",
    "sdy = 0.4 # standard deviation of y\n",
    "r = 0.6 # correlation\n",
    "cov = np.array([[sdx**2, sdx*sdy*r],[sdy*sdx*r, sdy**2]]) # covariance matrix\n",
    "rv = multivariate_normal(mu, cov) # produce a multivariate random variable\n",
    "\n",
    "x = np.linspace(0, 4, num=300) # linspace - Return evenly spaced numbers over a specified interval (num=Number of samples to generate)\n",
    "y = np.linspace(0, 4, num=300)\n",
    "X, Y = np.meshgrid(x, y) # Return coordinate matrices from coordinate vectors.\n",
    "pos = np.dstack((X, Y)) # Stack array\n",
    "\n",
    "Z = rv.pdf(pos) # Probability density function applied to the stacked array"
   ]
  },
  {
   "cell_type": "code",
   "execution_count": null,
   "metadata": {},
   "outputs": [],
   "source": [
    "# Produce 3D plot (uncheck some lines of code with \"#\"\" to understand what they do)\n",
    "\n",
    "fig = plt.figure()\n",
    "ax = fig.add_subplot(111, projection='3d') # 111 means 1x1 grid, first subplot, projection is defined as 3D\n",
    "ax.plot_surface(X, Y, Z, rstride=2, cstride=2, cmap=cm.coolwarm, antialiased=False ) # antialiased - removes grid from surface; The rstride and cstride kwargs set the stride used to sample the input data to generate the graph\n",
    "ax.view_init(30, -125) # change the angles (vertical, horizontal)\n",
    "\n",
    "cset = ax.contour(X, Y, Z, zdir='x', levels=1, offset=4.2, cmap='Blues') # contor line in x with 1 level\n",
    "cset = ax.contour(X, Y, Z, zdir='y', levels=1, offset=4.2, cmap='Blues') # contor line in y with 1 level\n",
    "\n",
    "#draw filled probability density function\n",
    "#cset = ax.contourf(X, Y, Z, zdir='x', levels=1, alpha=0.3, offset=4.2, cmap='Blues')\n",
    "#cset = ax.contourf(X, Y, Z, zdir='y', levels=1, alpha=0.3, offset=4.2, cmap='Blues')\n",
    "\n",
    "plt.subplots_adjust(left=0, bottom=0, right=1, top=1, wspace=0, hspace=0)\n",
    "\n",
    "ax.set_xlabel('X')\n",
    "ax.set_ylabel('Y')\n",
    "ax.set_zlabel('Z')\n",
    "\n",
    "plt.show()"
   ]
  },
  {
   "attachments": {},
   "cell_type": "markdown",
   "metadata": {},
   "source": [
    "### 2. Run correlation analysis\n",
    "\n",
    "Correlation analysis is a very common procedure in exploratory data analysis to explore relationships between variables in a dataset. Although correlation does not imply causation, causation most often imply correlation. Hence, complemented with regression-based methods, they are important basis to establish hypothesis to be tested with further confirmatory statistics."
   ]
  },
  {
   "attachments": {},
   "cell_type": "markdown",
   "metadata": {},
   "source": [
    "#### Example with the [penguin](https://www.kaggle.com/datasets/parulpandey/palmer-archipelago-antarctica-penguin-data) dataset\n",
    "\n",
    "The penguin dataset provides biometric data for 3 species of penguins from the Palmer Archipelago (Antarctica). The more relevant variables are:\n",
    "\n",
    "* Species: penguin species (Chinstrap, Adélie, or Gentoo)\n",
    "* Island: island name (Dream, Torgersen, or Biscoe) in the Palmer Archipelago (Antarctica)\n",
    "* Culmen Length (mm) - length of \"the upper ridge of a bird's beak\"\n",
    "* Culmen Depth (mm) - depth of \"the upper ridge of a bird's beak\"\n",
    "* Flipper Length (mm) - length of the flippers (penguin's wings)\n",
    "* Body mass (g)\n",
    "* Sex: penguin sex\n",
    "\n",
    "![Alt text](https://storopoli.io/Estatistica/5-Correlacoes_files/figure-html5/fig-palmer-penguins-1.png)"
   ]
  },
  {
   "cell_type": "code",
   "execution_count": null,
   "metadata": {},
   "outputs": [],
   "source": [
    "data = pd.read_csv('penguins_lter.csv')\n",
    "data.drop(data.iloc[:,14:18], axis=1, inplace=True)\n",
    "data = data.dropna()\n",
    "data.info()"
   ]
  },
  {
   "attachments": {},
   "cell_type": "markdown",
   "metadata": {},
   "source": [
    "##### Test correlation between flipper length and body mass of *penguins* individuals and compare results with rank correlation approaches"
   ]
  },
  {
   "cell_type": "code",
   "execution_count": null,
   "metadata": {},
   "outputs": [],
   "source": [
    "# test Pearson's correlation between flipper length and body mass\n",
    "stat, p = stats.pearsonr(x=data[\"Flipper Length (mm)\"], y=data[\"Body Mass (g)\"])\n",
    "print('r=%.3f, p-value=%.3f' % (stat, p))"
   ]
  },
  {
   "cell_type": "code",
   "execution_count": null,
   "metadata": {},
   "outputs": [],
   "source": [
    "# test Spearman's Rank Correlation between flipper length and body mass\n",
    "stat, p = stats.spearmanr(a=data[\"Flipper Length (mm)\"], b=data[\"Body Mass (g)\"])\n",
    "print('r=%.3f, p-value=%.3f' % (stat, p))"
   ]
  },
  {
   "cell_type": "code",
   "execution_count": null,
   "metadata": {},
   "outputs": [],
   "source": [
    "# test Kendall’s Rank Correlation between flipper length and body mass\n",
    "stat, p = stats.kendalltau(x=data[\"Flipper Length (mm)\"], y=data[\"Body Mass (g)\"])\n",
    "print('r=%.3f, p-value=%.3f' % (stat, p))"
   ]
  },
  {
   "attachments": {},
   "cell_type": "markdown",
   "metadata": {},
   "source": [
    "#### Visualizing correlation\n",
    "\n",
    "The most obvious form of visualizing correlations is using a scatterplot. However, matplotlib, seaborn and other python modules provide easy ways of producing other more informative and appealing visualizations."
   ]
  },
  {
   "cell_type": "code",
   "execution_count": null,
   "metadata": {},
   "outputs": [],
   "source": [
    "# Scatter plots\n",
    "sns.scatterplot(x=data[\"Flipper Length (mm)\"], y=data[\"Body Mass (g)\"])\n",
    "plt.show()"
   ]
  },
  {
   "cell_type": "code",
   "execution_count": null,
   "metadata": {},
   "outputs": [],
   "source": [
    "# Scatter plots with group defined by Species\n",
    "plt.subplots(figsize=(8, 8))\n",
    "sns.scatterplot(x=data[\"Flipper Length (mm)\"], y=data[\"Body Mass (g)\"], hue = data['Species']);\n",
    "plt.legend(title='Species', fontsize='12', title_fontsize='14')\n",
    "# plt.legend(bbox_to_anchor=(1.02, 1), title='Species', fontsize='12', title_fontsize='14') # to place the legend outside the plot area\n",
    "plt.show()"
   ]
  },
  {
   "cell_type": "code",
   "execution_count": null,
   "metadata": {},
   "outputs": [],
   "source": [
    "# Scatter plots with group defined by Sex\n",
    "plt.subplots(figsize=(8, 8))\n",
    "sns.scatterplot(x=data[\"Flipper Length (mm)\"], y=data[\"Body Mass (g)\"], hue = data['Sex']);\n",
    "plt.legend(title='Species', fontsize='12', title_fontsize='14')\n",
    "# plt.legend(bbox_to_anchor=(1.02, 1), title='Species', fontsize='12', title_fontsize='14') # to place the legend outside the plot area\n",
    "plt.show()"
   ]
  },
  {
   "cell_type": "code",
   "execution_count": null,
   "metadata": {},
   "outputs": [],
   "source": [
    "# Kernel density plots\n",
    "sns.kdeplot(x=data[\"Flipper Length (mm)\"], y=data[\"Body Mass (g)\"], cmap=\"Blues\", fill=True, thresh=0);"
   ]
  },
  {
   "cell_type": "code",
   "execution_count": null,
   "metadata": {},
   "outputs": [],
   "source": [
    "# Composed plots with scatterplot and histograms\n",
    "stat, p = stats.pearsonr(x=data[\"Flipper Length (mm)\"], y=data[\"Body Mass (g)\"])\n",
    "\n",
    "g=sns.jointplot(x=data[\"Flipper Length (mm)\"], y=data[\"Body Mass (g)\"], kind='reg', data=data, joint_kws={'line_kws':{'color':'red'}})\n",
    "g.ax_joint.text(x=175, y=6000, s=('r=%.3f, p-value=%.3f' % (stat, p))); # to show results from the correlation test"
   ]
  },
  {
   "cell_type": "code",
   "execution_count": null,
   "metadata": {},
   "outputs": [],
   "source": [
    "# Composed Kernel density plots\n",
    "stat, p = stats.pearsonr(x=data[\"Flipper Length (mm)\"], y=data[\"Body Mass (g)\"])\n",
    "\n",
    "g=sns.jointplot(x=data[\"Flipper Length (mm)\"], y=data[\"Body Mass (g)\"], kind='kde', data=data, fill=True, cmap=\"Blues\")\n",
    "g.ax_joint.text(x=175, y=6000, s=('r=%.3f, p-value=%.3f' % (stat, p)))\n",
    "plt.show()"
   ]
  },
  {
   "cell_type": "code",
   "execution_count": null,
   "metadata": {},
   "outputs": [],
   "source": [
    "# Scatterplot with histograms and Kernel Density\n",
    "\n",
    "g=sns.jointplot(x=data[\"Flipper Length (mm)\"], y=data[\"Body Mass (g)\"], data=data)\n",
    "g.plot_joint(sns.kdeplot, color=\"r\", zorder=0, levels=6)\n",
    "g.plot_marginals(sns.rugplot, color=\"r\", height=-.15, clip_on=False)\n",
    "plt.show()"
   ]
  },
  {
   "attachments": {},
   "cell_type": "markdown",
   "metadata": {},
   "source": [
    "### 3. Correlation matrices\n",
    "\n",
    "Correlation matrices is an important output of multivariate exploratory data analysis. It is also the basis of multivariate Ordination techniques such as Principal Components Analysis. It provides an important overview of wich variables in our dataset are more related with each other. Multicolinearity is a major issue for regression-based as well as other modelling approaches, including machine learning. The graphical analysis of multicolinearity is an essential step to select predictor variables for modelling purposes.\n",
    "\n",
    "Different visualizations are more or less adequate depending on the purposes as well as the number of targeted variables of correlation analysis."
   ]
  },
  {
   "cell_type": "code",
   "execution_count": null,
   "metadata": {},
   "outputs": [],
   "source": [
    "list(data.columns)"
   ]
  },
  {
   "cell_type": "code",
   "execution_count": null,
   "metadata": {},
   "outputs": [],
   "source": [
    "# Scatterplots and histograms\n",
    "import seaborn as sns\n",
    "data_sel = data.iloc[:,[2,9,10,11,12,13]]\n",
    "sns.pairplot(data_sel);"
   ]
  },
  {
   "cell_type": "code",
   "execution_count": null,
   "metadata": {},
   "outputs": [],
   "source": [
    "# Scatterplots and KDE - categorized by \"species\"\n",
    "import seaborn as sns\n",
    "sns.pairplot(data_sel, hue='Species');"
   ]
  },
  {
   "cell_type": "code",
   "execution_count": null,
   "metadata": {},
   "outputs": [],
   "source": [
    "# correlation map or heatplot\n",
    "f,ax = plt.subplots(figsize=(10, 7))\n",
    "sns.heatmap(data_sel.corr(), annot=True, linewidths=.5, fmt= '.1f', ax=ax, cmap='coolwarm_r'); # '_r' after the palette name reverse the color order of the palette"
   ]
  },
  {
   "cell_type": "code",
   "execution_count": null,
   "metadata": {},
   "outputs": [],
   "source": [
    "# Composite plot mixing scatterplots and univariate/bivariate Kernel Density Estimates\n",
    "\n",
    "plt.rcParams[\"axes.labelsize\"] = 18\n",
    "g = sns.PairGrid(data_sel, diag_sharey=False)\n",
    "axes = g.axes\n",
    "g.map_upper(plt.scatter,  linewidths=1, \n",
    "            edgecolor=\"w\", s=90, alpha = 0.5)\n",
    "g.map_diag(sns.kdeplot, lw = 4, legend=False)\n",
    "g.map_lower(sns.kdeplot, cmap=\"Blues_d\")\n",
    "plt.show()"
   ]
  },
  {
   "cell_type": "code",
   "execution_count": null,
   "metadata": {},
   "outputs": [],
   "source": [
    "# Composite plot mixing scatterplots, smoothed lines, histograms and tabular charts (R-style)\n",
    "\n",
    "import matplotlib.pyplot as plt\n",
    "from scipy import stats\n",
    "import seaborn as sns\n",
    "import numpy as np\n",
    "\n",
    "def corrdot(*args, **kwargs):\n",
    "    corr_r = args[0].corr(args[1], 'pearson')\n",
    "    corr_text = round(corr_r, 2)\n",
    "    ax = plt.gca()\n",
    "    font_size = abs(corr_r) * 60 + 5\n",
    "    ax.annotate(corr_text, [.5, .5,],  xycoords=\"axes fraction\",\n",
    "                ha='center', va='center', fontsize=font_size)\n",
    "\n",
    "def corrfunc(x, y, **kws):\n",
    "    r, p = stats.pearsonr(x, y)\n",
    "    p_stars = ''\n",
    "    if p <= 0.05:\n",
    "        p_stars = '*'\n",
    "    if p <= 0.01:\n",
    "        p_stars = '**'\n",
    "    if p <= 0.001:\n",
    "        p_stars = '***'\n",
    "    ax = plt.gca()\n",
    "    ax.annotate(p_stars, xy=(0.65, 0.6), xycoords=ax.transAxes,\n",
    "                color='red', fontsize=50)\n",
    "\n",
    "sns.set(style='white', font_scale=1.6)\n",
    "g = sns.PairGrid(data_sel, aspect=1.5, diag_sharey=False, despine=False)\n",
    "g.map_lower(sns.regplot, lowess=True, ci=False,\n",
    "            line_kws={'color': 'red', 'lw': 1},\n",
    "            scatter_kws={'color': 'black', 's': 20})\n",
    "g.map_diag(sns.histplot,\n",
    "           kde=True,\n",
    "           color = 'red',\n",
    "           edgecolor = 'k',\n",
    "           facecolor = 'lightgrey')\n",
    "g.map_diag(sns.rugplot, color='black')\n",
    "g.map_upper(corrdot)\n",
    "g.map_upper(corrfunc)\n",
    "g.fig.subplots_adjust(wspace=0, hspace=0)\n",
    "\n",
    "# Remove axis labels\n",
    "for ax in g.axes.flatten():\n",
    "    ax.set_ylabel('')\n",
    "    ax.set_xlabel('')\n",
    "\n",
    "# Add titles to the diagonal axes/subplots\n",
    "for ax, col in zip(np.diag(g.axes), data_sel.columns):\n",
    "    ax.set_title(col, y=0.85, fontsize=22)"
   ]
  },
  {
   "cell_type": "code",
   "execution_count": null,
   "metadata": {},
   "outputs": [],
   "source": [
    "# Same thing but more appealling and adding bubble charts\n",
    "\n",
    "import matplotlib.pyplot as plt\n",
    "import seaborn as sns\n",
    "\n",
    "def corrdot(*args, **kwargs):\n",
    "    corr_r = args[0].corr(args[1], 'pearson')\n",
    "    corr_text = f\"{corr_r:2.2f}\".replace(\"0.\", \".\")\n",
    "    ax = plt.gca()\n",
    "    ax.set_axis_off()\n",
    "    marker_size = abs(corr_r) * 10000\n",
    "    ax.scatter([.5], [.5], marker_size, [corr_r], alpha=0.6, cmap=\"coolwarm\",\n",
    "               vmin=-1, vmax=1, transform=ax.transAxes)\n",
    "    font_size = abs(corr_r) * 40 + 5\n",
    "    ax.annotate(corr_text, [.5, .5,],  xycoords=\"axes fraction\",\n",
    "                ha='center', va='center', fontsize=font_size)\n",
    "\n",
    "sns.set(style='white', font_scale=1.6)\n",
    "g = sns.PairGrid(data_sel, aspect=1.4, diag_sharey=False)\n",
    "g.map_lower(sns.regplot, lowess=True, ci=False, line_kws={'color': 'black'})\n",
    "g.map_diag(sns.histplot, kde_kws={'color': 'black'})\n",
    "g.map_upper(corrdot);"
   ]
  },
  {
   "cell_type": "code",
   "execution_count": null,
   "metadata": {},
   "outputs": [],
   "source": [
    "# A tabular chart with correlation values, the overall shape of the relationship, emphasized with a color gradient\n",
    "\n",
    "from biokit import Corrplot # \n",
    "corr = data_sel.corr(method='spearman')\n",
    "c = Corrplot(corr)\n",
    "c.plot(method='ellipse', grid=True, shrink=1, rotation=45, upper='text', lower='ellipse')\n",
    "fig = plt.gcf()\n",
    "fig.set_size_inches(10, 8)"
   ]
  }
 ],
 "metadata": {
  "kernelspec": {
   "display_name": "Python 3",
   "language": "python",
   "name": "python3"
  },
  "language_info": {
   "codemirror_mode": {
    "name": "ipython",
    "version": 3
   },
   "file_extension": ".py",
   "mimetype": "text/x-python",
   "name": "python",
   "nbconvert_exporter": "python",
   "pygments_lexer": "ipython3",
   "version": "3.11.2"
  },
  "orig_nbformat": 4
 },
 "nbformat": 4,
 "nbformat_minor": 2
}

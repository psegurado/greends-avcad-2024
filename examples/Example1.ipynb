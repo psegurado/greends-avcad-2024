{
 "cells": [
  {
   "cell_type": "markdown",
   "metadata": {},
   "source": [
    "# Analysis and Visualization of Complex Data\n",
    "## why data visualization?\n",
    "\n",
    "1. Import packages matplotlib and numpy"
   ]
  },
  {
   "cell_type": "code",
   "execution_count": 1,
   "metadata": {},
   "outputs": [],
   "source": [
    "import numpy as np\n",
    "import matplotlib.pyplot as plt"
   ]
  },
  {
   "cell_type": "markdown",
   "metadata": {},
   "source": [
    "2. Produce datasets\n",
    "\n",
    "Produce lists:"
   ]
  },
  {
   "cell_type": "code",
   "execution_count": 2,
   "metadata": {},
   "outputs": [],
   "source": [
    "x = [10, 8, 13, 9, 11, 14, 6, 4, 12, 7, 5]\n",
    "y1 = [8.04, 6.95, 7.58, 8.81, 8.33, 9.96, 7.24, 4.26, 10.84, 4.82, 5.68]\n",
    "y2 = [9.14, 8.14, 8.74, 8.77, 9.26, 8.10, 6.13, 3.10, 9.13, 7.26, 4.74]\n",
    "y3 = [7.46, 6.77, 12.74, 7.11, 7.81, 8.84, 6.08, 5.39, 8.15, 6.42, 5.73]\n",
    "x4 = [8, 8, 8, 8, 8, 8, 8, 19, 8, 8, 8]\n",
    "y4 = [6.58, 5.76, 7.71, 8.84, 8.47, 7.04, 5.25, 12.50, 5.56, 7.91, 6.89]"
   ]
  },
  {
   "cell_type": "markdown",
   "metadata": {},
   "source": [
    "Produce dictionary:"
   ]
  },
  {
   "cell_type": "code",
   "execution_count": 3,
   "metadata": {},
   "outputs": [],
   "source": [
    "datasets = {\n",
    "    'I': (x, y1),\n",
    "    'II': (x, y2),\n",
    "    'III': (x, y3),\n",
    "    'IV': (x4, y4)\n",
    "}"
   ]
  },
  {
   "cell_type": "markdown",
   "metadata": {},
   "source": [
    "3. Plot scatterplots for each dataset, showing the regression lines, the mean, standard deviation and correlation coefficient (r)"
   ]
  },
  {
   "cell_type": "code",
   "execution_count": null,
   "metadata": {},
   "outputs": [],
   "source": [
    "fig, axs = plt.subplots(2, 2, sharex=True, sharey=True, figsize=(6, 6), # number of graphs per column and line, share axis or not and figure size\n",
    "                        gridspec_kw={'wspace': 0.08, 'hspace': 0.08}) # vertical and horizontal spaces between graph cells, respectively\n",
    "axs[0, 0].set(xlim=(0, 20), ylim=(2, 14)) # limits for x-axis and y-axis.\n",
    "axs[0, 0].set(xticks=(0, 10, 20), yticks=(4, 8, 12)) # tickmarks for x-axis and y-axis.\n",
    "for ax, (label, (x, y)) in zip(axs.flat, datasets.items()):\n",
    "    ax.text(0.1, 0.9, label, fontsize=20, transform=ax.transAxes, va='top') # Add dataset name on the top left side\n",
    "    ax.tick_params(direction='in', top=True, right=True) # add tickmarks including on top and right sides\n",
    "    ax.plot(x, y, 'o') # ass data points ('o' means circles)\n",
    "        # linear regression\n",
    "    p1, p0 = np.polyfit(x, y, deg=1)  # estimate intercept (p0) and slope (p1) \n",
    "    ax.axline(xy1=(0, p0), slope=p1, color='r', lw=2) # draw regression line (red)\n",
    "\n",
    "    # add text box for the statistics\n",
    "    stats = (f'$\\\\mu$ = {np.mean(y):.2f}\\n' # mean\n",
    "             f'$\\\\sigma$ = {np.std(y):.2f}\\n' # standard deviation\n",
    "             f'$r$ = {np.corrcoef(x, y)[0][1]:.2f}') # correlation coefficient\n",
    "    bbox = dict(boxstyle='round', fc='blanchedalmond', ec='orange', alpha=0.5) # legen box attributes\n",
    "    ax.text(0.95, 0.07, stats, fontsize=9, bbox=bbox, # text location, font size, include box \n",
    "            transform=ax.transAxes, horizontalalignment='right') # text location\n",
    "\n",
    "plt.show()\n"
   ]
  },
  {
   "cell_type": "markdown",
   "metadata": {},
   "source": [
    "#### Comment the result!"
   ]
  }
 ],
 "metadata": {
  "kernelspec": {
   "display_name": "Python 3",
   "language": "python",
   "name": "python3"
  },
  "language_info": {
   "codemirror_mode": {
    "name": "ipython",
    "version": 3
   },
   "file_extension": ".py",
   "mimetype": "text/x-python",
   "name": "python",
   "nbconvert_exporter": "python",
   "pygments_lexer": "ipython3",
   "version": "3.11.2"
  }
 },
 "nbformat": 4,
 "nbformat_minor": 2
}

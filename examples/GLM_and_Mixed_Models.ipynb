{
 "cells": [
  {
   "attachments": {},
   "cell_type": "markdown",
   "metadata": {},
   "source": [
    "# Analysis and Visualization of Complex Agro-Environmental Data\n",
    "---\n",
    "## More on regression: GLM and mixed models\n",
    "\n",
    "### 1. Run Linear Mixed Models\n",
    "\n",
    "Linear Mixed Effects models are used in regression analyses for study designs in which multiple observations are made on each ubject and therefore there might be a lack of independence among observations. As an example we will use the Iris dataset, used before as an example for simple regression analysis. In this example we found that the overall effect of petal_width on sepal_length was negative, but that considering each species separately, the relationship was inverted.\n",
    "Linear mixed models are implemented in `mixedlm()` function of the `statsmodels` module."
   ]
  },
  {
   "cell_type": "code",
   "execution_count": null,
   "metadata": {},
   "outputs": [],
   "source": [
    "# import the packages we are going to be using\n",
    "import numpy as np # for getting our distribution\n",
    "import pandas as pd # to handle data frames\n",
    "import matplotlib.pyplot as plt # for plotting\n",
    "import seaborn as sns # for plotting\n",
    "from scipy import stats # to compute statistics\n",
    "import statsmodels.api as sm\n",
    "import statsmodels.formula.api as smf\n",
    "\n",
    "# import data ('penguin' dataset)\n",
    "data = pd.read_csv('penguins_lter.csv')\n",
    "data.drop(data.iloc[:,14:18], axis=1, inplace=True)\n",
    "data = data.dropna()\n",
    "\n",
    "# rename variables\n",
    "data.rename(columns={'Body Mass (g)':'body_mass'}, inplace=True) # inplace=\"True\" means that df will be updated\n",
    "data.rename(columns={'Culmen Depth (mm)':'culmen_depth'}, inplace=True) \n",
    "data.rename(columns={'Culmen Length (mm)':'culmen_length'}, inplace=True) \n",
    "data.rename(columns={'Flipper Length (mm)':'flipper_length'}, inplace=True)\n"
   ]
  },
  {
   "cell_type": "code",
   "execution_count": null,
   "metadata": {},
   "outputs": [],
   "source": [
    "# Plot by group (Species)\n",
    "x=data[\"culmen_depth\"]\n",
    "y=data[\"body_mass\"]\n",
    "\n",
    "sns.scatterplot(x=x, y=y, hue=data[\"Species\"])\n",
    "plt.show()"
   ]
  },
  {
   "cell_type": "code",
   "execution_count": null,
   "metadata": {},
   "outputs": [],
   "source": [
    "# Run simple linear regression\n",
    "x2 = x\n",
    "x2 = sm.add_constant(x2) # adding a constant (Intercept)\n",
    "\n",
    "model = sm.OLS(y, x2).fit()\n",
    "predictions = model.predict(x2) \n",
    "\n",
    "print_model = model.summary()\n",
    "print(print_model)"
   ]
  },
  {
   "cell_type": "code",
   "execution_count": null,
   "metadata": {},
   "outputs": [],
   "source": [
    "# Run  linear mixed model\n",
    "# We will consider the  default random effects structure (a random intercept for each group).\n",
    "\n",
    "mmodel = smf.mixedlm(formula='body_mass ~ culmen_depth', data=data, groups=data[\"Species\"])\n",
    "mmodelf = mmodel.fit()\n",
    "print(mmodelf.summary())"
   ]
  },
  {
   "attachments": {},
   "cell_type": "markdown",
   "metadata": {},
   "source": [
    "Now compare the two results above, especially the regression coefficient of culmen depth"
   ]
  },
  {
   "attachments": {},
   "cell_type": "markdown",
   "metadata": {},
   "source": [
    "### 2. Run logistic regression\n",
    "\n",
    "Logistic regression is a Generalized Linear Model of the binomial family. It is suitable either for binary data (yes/no) or for proportions of a given event. It uses the logit link function to model the linear predictor. To predict values in the scale of the response (values between 0 and 1), the inverse of the link function is applied to the linear predictor. The predicted values will be the probability of the event to occur. The parameters are usually estimated using a maximum likelihood estimation approach.\n",
    "\n",
    "In the next example we will use the `EFIplus_medit.csv` database to explore if the presence of the Brown Trout is significantly influenced by the Annual Mean Temperature."
   ]
  },
  {
   "cell_type": "code",
   "execution_count": null,
   "metadata": {},
   "outputs": [],
   "source": [
    "# Import data table (change path to the file accordingly)\n",
    "df = pd.read_csv('EFIplus_medit.zip',compression='zip', sep=\";\")\n",
    "df = df.dropna()"
   ]
  },
  {
   "cell_type": "code",
   "execution_count": null,
   "metadata": {},
   "outputs": [],
   "source": [
    "# Run logistic regression\n",
    "# To use a formula with statsmodels.formula.api (smf) we need to create a species name with no spaces (replace by underscores)\n",
    "df[['Salmo_trutta_fario']] = df[['Salmo trutta fario']]\n",
    "log_reg = smf.logit(\"Salmo_trutta_fario ~ temp_ann\", data=df).fit()\n",
    "log_reg.summary()"
   ]
  },
  {
   "cell_type": "code",
   "execution_count": null,
   "metadata": {},
   "outputs": [],
   "source": [
    "# visualize the response\n",
    "sns.regplot(x='temp_ann', y='Salmo_trutta_fario', data=df, logistic=True, ci=99, color=\"black\", line_kws=dict(color=\"red\")), \n",
    "plt.show()\n"
   ]
  },
  {
   "attachments": {},
   "cell_type": "markdown",
   "metadata": {},
   "source": [
    "## References\n",
    "\n",
    "statsmodels 0.13.5: user guide. Generalized Linear Models. https://www.statsmodels.org/dev/glm.html\n",
    "\n",
    "statsmodels 0.13.5: user guide. Linear Mixed Effects Models. https://www.statsmodels.org/stable/mixed_linear.html\n",
    "\n",
    "statsmodels 0.13.5: examples. Linear Mixed Effects Models. https://www.statsmodels.org/stable/examples/notebooks/generated/mixed_lm_example.html"
   ]
  }
 ],
 "metadata": {
  "kernelspec": {
   "display_name": "Python 3",
   "language": "python",
   "name": "python3"
  },
  "language_info": {
   "codemirror_mode": {
    "name": "ipython",
    "version": 3
   },
   "file_extension": ".py",
   "mimetype": "text/x-python",
   "name": "python",
   "nbconvert_exporter": "python",
   "pygments_lexer": "ipython3",
   "version": "3.11.2"
  },
  "orig_nbformat": 4
 },
 "nbformat": 4,
 "nbformat_minor": 2
}

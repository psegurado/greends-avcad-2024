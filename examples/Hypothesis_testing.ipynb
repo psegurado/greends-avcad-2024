{
 "cells": [
  {
   "attachments": {},
   "cell_type": "markdown",
   "metadata": {},
   "source": [
    "# Analysis and Visualization of Complex Agro-Environmental Data\n",
    "---\n",
    "## Hypothesis testing\n",
    "\n",
    "Most hypothesis testing functions in Python are provided by the stats submodule of SciPy. Other modules such as statsmodels and scikit have some advantages on the provided outputs and have additional relevant functions for hypothesis testing.\n",
    "\n",
    "##### Import modules:"
   ]
  },
  {
   "cell_type": "code",
   "execution_count": null,
   "metadata": {},
   "outputs": [],
   "source": [
    "import numpy as np\n",
    "import pandas as pd\n",
    "import scipy.stats as sts\n",
    "import statsmodels.stats as stm\n",
    "import scikit_posthocs as sp\n",
    "import seaborn as sns\n",
    "import matplotlib.pyplot as plt\n"
   ]
  },
  {
   "attachments": {},
   "cell_type": "markdown",
   "metadata": {},
   "source": [
    "##### Simulate populations (N = 100000)"
   ]
  },
  {
   "cell_type": "code",
   "execution_count": null,
   "metadata": {},
   "outputs": [],
   "source": [
    "# seed the random number generator\n",
    "np.random.seed(24)\n",
    "# generate univariate observations\n",
    "pop1 = np.random.normal(50,20,100000)\n",
    "pop2 = np.random.normal(70,25,100000)\n",
    "pop3 = np.random.exponential(50, 100000)\n",
    "pop4 = np.random.exponential(100, 100000)"
   ]
  },
  {
   "attachments": {},
   "cell_type": "markdown",
   "metadata": {},
   "source": [
    "### Parametric one-sample tests\n",
    "#### One-sample t-test\n",
    "\n",
    "1. Define H0 : The population mean is 40\n",
    "\n",
    "2. Take a sample from population (pop1)"
   ]
  },
  {
   "cell_type": "code",
   "execution_count": null,
   "metadata": {},
   "outputs": [],
   "source": [
    "# Take random samples from data (n=30)\n",
    "import random\n",
    "sample1 = random.sample(list(pop1), 30)\n",
    "sns.histplot(sample1)\n",
    "plt.show()"
   ]
  },
  {
   "attachments": {},
   "cell_type": "markdown",
   "metadata": {},
   "source": [
    "3. Compute the statistic and check *p-value*"
   ]
  },
  {
   "cell_type": "code",
   "execution_count": null,
   "metadata": {},
   "outputs": [],
   "source": [
    "# perform one sample t-test. \n",
    "# H0: The population mean is 40\n",
    "stat, p = sts.ttest_1samp(a=sample1, popmean=40)\n",
    "print('t-stat=%.3f, p-value=%.3f' % (stat, p))"
   ]
  },
  {
   "attachments": {},
   "cell_type": "markdown",
   "metadata": {},
   "source": [
    "### Parametric two-sample tests\n",
    "#### Two-sample *t* test (two-tailed)\n",
    "\n",
    "1. Define H0 : The samples are drawn from populations with equal means\n",
    "\n",
    "2. Take sample from populations (pop1 and pop2)"
   ]
  },
  {
   "cell_type": "code",
   "execution_count": null,
   "metadata": {},
   "outputs": [],
   "source": [
    "# Take random samples from data (n=30)\n",
    "import random\n",
    "np.random.seed(123)\n",
    "sample1 = random.sample(list(pop1), 30)\n",
    "sample2 = random.sample(list(pop2), 30)"
   ]
  },
  {
   "attachments": {},
   "cell_type": "markdown",
   "metadata": {},
   "source": [
    "3. Check assumptions: outliers, overal normality, homogeneity of variances"
   ]
  },
  {
   "cell_type": "code",
   "execution_count": null,
   "metadata": {},
   "outputs": [],
   "source": [
    "# outliers\n",
    "sns.stripplot(sample1, label=\"sample 1\")\n",
    "sns.stripplot(sample2, label=\"sample 2\")\n",
    "plt.legend()\n",
    "plt.show()"
   ]
  },
  {
   "cell_type": "code",
   "execution_count": null,
   "metadata": {},
   "outputs": [],
   "source": [
    "# normality\n",
    "sns.kdeplot(sample1, label=\"sample 1\")\n",
    "sns.kdeplot(sample2, label=\"sample 2\")\n",
    "plt.legend(frameon=False)\n",
    "plt.show()"
   ]
  },
  {
   "cell_type": "code",
   "execution_count": null,
   "metadata": {},
   "outputs": [],
   "source": [
    "# Homogeneity of variances\n",
    "# Leven's test - tests the null hypothesis that the population variances are equal\n",
    "stat, p = sts.levene(sample1, sample2, center='median')\n",
    "print('Statistics=%.3f, p=%.3f' % (stat, p)) # print outputs\n",
    "alpha=0.05\n",
    "if p > alpha:\n",
    " print('fail to reject H0. Rejecting H0 has an error probability >0.05')\n",
    "else:\n",
    " print('reject H0 with an error probability <0.05)')"
   ]
  },
  {
   "attachments": {},
   "cell_type": "markdown",
   "metadata": {},
   "source": [
    "4. Compute the t-statistic and check *p-value*"
   ]
  },
  {
   "cell_type": "code",
   "execution_count": null,
   "metadata": {},
   "outputs": [],
   "source": [
    "# t-test - tests the null hypothesis that sample 1 and 2 are derived from populations with the same mean\n",
    "stat, p = sts.ttest_ind(sample1, sample2, )\n",
    "print('Statistics=%.3f, p=%.3f' % (stat, p)) # print outputs\n",
    "alpha=0.05\n",
    "if p > alpha:\n",
    " print('fail to reject H0. Rejecting H0 has an error probability >0.05')\n",
    "else:\n",
    " print('reject H0 with an error probability <0.05)')"
   ]
  },
  {
   "attachments": {},
   "cell_type": "markdown",
   "metadata": {},
   "source": [
    "#### Two-sample *t* test (one-tailed)\n",
    "\n",
    "H0 : Population 1 has a mean > or = to Population 2"
   ]
  },
  {
   "cell_type": "code",
   "execution_count": null,
   "metadata": {},
   "outputs": [],
   "source": [
    "stat, p = sts.ttest_ind(sample1, sample2, alternative='greater')\n",
    "print('Statistics=%.3f, p=%.3f' % (stat, p)) # print outputs\n",
    "alpha=0.05\n",
    "if p > alpha:\n",
    " print('fail to reject H0. Rejecting H0 has an error probability >0.05')\n",
    "else:\n",
    " print('reject H0 with an error probability <0.05)')"
   ]
  },
  {
   "cell_type": "markdown",
   "metadata": {},
   "source": [
    "##### `Now try to run the last two tests analysis with the same code but now using  big data (the whole population or a big sample)`"
   ]
  },
  {
   "attachments": {},
   "cell_type": "markdown",
   "metadata": {},
   "source": [
    "#### Paired two-sample *t* test (two-tailed)\n",
    "\n",
    "H0 : The samples are drawn from populations with equal means"
   ]
  },
  {
   "cell_type": "code",
   "execution_count": null,
   "metadata": {},
   "outputs": [],
   "source": [
    "stat, p = sts.ttest_rel(sample1, sample2)\n",
    "print('t-stat=%.3f, p-value=%.3f' % (stat, p))\n",
    "alpha=0.05\n",
    "if p > alpha:\n",
    " print('fail to reject H0. Rejecting H0 has an error probability >0.05')\n",
    "else:\n",
    " print('reject H0 with an error probability <0.05)')"
   ]
  },
  {
   "attachments": {},
   "cell_type": "markdown",
   "metadata": {},
   "source": [
    "### Parametric multiple sample tests\n",
    "#### One-way ANOVA\n",
    "1. Define H0 : The samples are drawn from populations with equal means\n",
    "2. Take sample from populations pop1 - pop4"
   ]
  },
  {
   "cell_type": "code",
   "execution_count": null,
   "metadata": {},
   "outputs": [],
   "source": [
    "# Take random samples from data (n=20)\n",
    "import random\n",
    "sample1 = random.sample(list(pop1), 50)\n",
    "sample2 = random.sample(list(pop2), 50)\n",
    "sample3 = random.sample(list(pop3), 50)\n",
    "sample4 = random.sample(list(pop4), 50)\n",
    "sns.kdeplot(sample1, label='Pop1')\n",
    "sns.kdeplot(sample2, label='Pop2')\n",
    "sns.kdeplot(sample3, label='Pop3')\n",
    "sns.kdeplot(sample4, label='Pop4')\n",
    "plt.legend(frameon=False, loc='upper right')\n",
    "plt.show()"
   ]
  },
  {
   "attachments": {},
   "cell_type": "markdown",
   "metadata": {},
   "source": [
    "3. Compute the statistic and check the *p-value*"
   ]
  },
  {
   "cell_type": "code",
   "execution_count": null,
   "metadata": {},
   "outputs": [],
   "source": [
    "stat, p = sts.f_oneway(sample1, sample2, sample3, sample4)\n",
    "print('F-statistics=%.3f, p=%.6f' % (stat, p))\n",
    "alpha=0.05\n",
    "if p > alpha:\n",
    " print('fail to reject H0. Rejecting H0 has an error probability >0.05')\n",
    "else:\n",
    " print('reject H0 with an error probability <0.05)')"
   ]
  },
  {
   "attachments": {},
   "cell_type": "markdown",
   "metadata": {},
   "source": [
    "The SciPy does not provide the usual ANOVA table. An alternative is to use the statsmodel api that includes a more complete output:"
   ]
  },
  {
   "cell_type": "code",
   "execution_count": null,
   "metadata": {},
   "outputs": [],
   "source": [
    "import statsmodels.api as sm\n",
    "from statsmodels.formula.api import ols\n",
    "\n",
    "# the statsmodels ANOVA needs to convert data into a DataFrame\n",
    "list_sample = [sample1, sample2, sample2, sample4]\n",
    "df = pd.DataFrame(list_sample)\n",
    "df = df.T\n",
    "df.columns = [\"sample1\", \"sample2\", \"sample3\", \"sample4\"]\n",
    "df = df.stack()\n",
    "df=df.reset_index()\n",
    "df.rename(columns = {'level_1':'group', 0:'value'}, inplace = True)\n",
    "df.drop('level_0', inplace=True, axis=1)\n",
    "df"
   ]
  },
  {
   "cell_type": "code",
   "execution_count": null,
   "metadata": {},
   "outputs": [],
   "source": [
    "mod = ols('value ~ group',\n",
    "                data=df).fit()\n",
    "                \n",
    "aov_table = sm.stats.anova_lm(mod, typ=2) # typ is the type of anova to perform ('I','II' or 'III' = 1,2,3) - type 2 does not consider interactions, which is the case.\n",
    "print(aov_table) # provides the usual ANOVA table"
   ]
  },
  {
   "attachments": {},
   "cell_type": "markdown",
   "metadata": {},
   "source": [
    "#### Two-way ANOVA\n",
    "\n",
    "Tests whether two factors affect the mean of three or more groups. It also tests whether there is an interaction between the two factors (if one factor changes the effect of the other factor).\n",
    "\n",
    "Possible H0: \n",
    "1. There is no difference in the means of factor A.\n",
    "2. There is no difference in means of factor B.\n",
    "3. There is no interaction between factors A and B."
   ]
  },
  {
   "cell_type": "code",
   "execution_count": null,
   "metadata": {},
   "outputs": [],
   "source": [
    "# create data (example taken from https://www.statology.org/two-way-anova-python/) - influence of plant growth by sunlight exposure and watering frequency\n",
    "df2 = pd.DataFrame({'water': np.repeat(['daily', 'weekly'], 15),\n",
    "                   'sun': np.tile(np.repeat(['low', 'med', 'high'], 5), 2),\n",
    "                   'height': [6, 6, 6, 5, 6, 5, 5, 6, 4, 5,\n",
    "                              6, 6, 7, 8, 7, 3, 4, 4, 4, 5,\n",
    "                              4, 4, 4, 4, 4, 5, 6, 6, 7, 8]})\n",
    "print(df2)"
   ]
  },
  {
   "cell_type": "code",
   "execution_count": null,
   "metadata": {},
   "outputs": [],
   "source": [
    "#perform two-way ANOVA\n",
    "model = ols('height ~ C(water) + C(sun) + C(water):C(sun)', data=df2).fit()\n",
    "sm.stats.anova_lm(model, typ=2)"
   ]
  },
  {
   "attachments": {},
   "cell_type": "markdown",
   "metadata": {},
   "source": [
    "#### Repeated measures ANOVA\n",
    "\n",
    "Used when the responses from the same subjects (experimental units) are measured repeatedly over a period of time or under different experimental conditions.\n",
    "\n",
    "H0: Treatment or time groups means are equal"
   ]
  },
  {
   "cell_type": "code",
   "execution_count": null,
   "metadata": {},
   "outputs": [],
   "source": [
    "#create data - Ex: Measurements (time of response to stressor) taken over time for the same fish individuals\n",
    "df3 = pd.DataFrame({'fish': np.repeat([1, 2, 3, 4, 5], 4),\n",
    "                   'time': np.tile([1, 2, 3, 4], 5),\n",
    "                   'time of response': [30, 28, 16, 34,\n",
    "                                14, 18, 10, 22,\n",
    "                                24, 20, 18, 30,\n",
    "                                38, 34, 20, 44, \n",
    "                                26, 28, 14, 30]})\n",
    "df3"
   ]
  },
  {
   "cell_type": "code",
   "execution_count": null,
   "metadata": {},
   "outputs": [],
   "source": [
    "rmanova = stm.anova.AnovaRM(data=df3, depvar='time of response', subject='fish', within=['time']).fit()\n",
    "print(rmanova)"
   ]
  },
  {
   "attachments": {},
   "cell_type": "markdown",
   "metadata": {},
   "source": [
    "### Post-hoc or multiple comparison tests\n",
    "\n",
    "#### Tukey's test\n",
    "\n",
    "To check which pairs of groups differ in their mean values. Can be used also as a stand alone test.\n",
    "Implemented in statsmodels.stats.multicomp"
   ]
  },
  {
   "cell_type": "code",
   "execution_count": null,
   "metadata": {},
   "outputs": [],
   "source": [
    "# perform Tukey's test using the df dataframe defined above)\n",
    "tukey = stm.multicomp.pairwise_tukeyhsd(endog=df['value'],\n",
    "                          groups=df['group'],\n",
    "                          alpha=0.05)\n",
    "#display results\n",
    "print(tukey)"
   ]
  }
 ],
 "metadata": {
  "kernelspec": {
   "display_name": "Python 3",
   "language": "python",
   "name": "python3"
  },
  "language_info": {
   "codemirror_mode": {
    "name": "ipython",
    "version": 3
   },
   "file_extension": ".py",
   "mimetype": "text/x-python",
   "name": "python",
   "nbconvert_exporter": "python",
   "pygments_lexer": "ipython3",
   "version": "3.11.2"
  },
  "orig_nbformat": 4
 },
 "nbformat": 4,
 "nbformat_minor": 2
}

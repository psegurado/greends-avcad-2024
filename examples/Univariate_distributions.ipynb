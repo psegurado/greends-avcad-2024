{
 "cells": [
  {
   "attachments": {},
   "cell_type": "markdown",
   "metadata": {},
   "source": [
    "# Analysis and Visualization of Complex Agro-Environmental Data\n",
    "---\n",
    "## Visualizing statistical distributions\n",
    "### Uniform distribution\n",
    "A uniform distribution - also known as a rectangular distribution - is a distribution that has constant probability between sampling bounds (minimum and maximum values).\n"
   ]
  },
  {
   "cell_type": "code",
   "execution_count": 1,
   "metadata": {},
   "outputs": [],
   "source": [
    "import matplotlib.pyplot as plt\n",
    "import seaborn as sns\n",
    "from scipy.stats import uniform"
   ]
  },
  {
   "cell_type": "code",
   "execution_count": null,
   "metadata": {},
   "outputs": [],
   "source": [
    "number = 10000\n",
    "start = 20\n",
    "width = 25\n",
    "\n",
    "uniform_data = uniform.rvs(size=number, loc=start, scale=width)\n",
    "axis = sns.histplot(uniform_data,)\n",
    "axis.set(xlabel='Uniform Distribution', ylabel='Frequency')"
   ]
  },
  {
   "cell_type": "code",
   "execution_count": 3,
   "metadata": {},
   "outputs": [],
   "source": [
    "# set seaborn styles\n",
    "sns.set(color_codes=True) # assigning colors to plots using matplotlib color codes\n",
    "sns.set(rc={'figure.figsize':(10,6)}) # figure size\n",
    "sns.set(style='white') # set background as white (if this is omited a default seaborn grey background with white gridlines - ggplot style - is set)"
   ]
  },
  {
   "cell_type": "code",
   "execution_count": null,
   "metadata": {},
   "outputs": [],
   "source": [
    "uniform_data = uniform.rvs(size=number, loc=start, scale=width)\n",
    "axis = sns.histplot(\n",
    "    uniform_data,\n",
    "    bins=100,\n",
    "    facecolor = 'skyblue',\n",
    "    kde=True,\n",
    "    color = 'darkred', \n",
    "    kde_kws=dict(cut=3))\n",
    "axis.set(xlabel='Uniform Distribution', ylabel='Frequency')\n"
   ]
  },
  {
   "cell_type": "code",
   "execution_count": null,
   "metadata": {},
   "outputs": [],
   "source": [
    "# Several options for the background\n",
    "for style in ['white', 'dark', 'whitegrid', 'darkgrid', 'ticks']:\n",
    "    sns.set_style(style)\n",
    "    sns.histplot(\n",
    "    uniform_data,\n",
    "    bins=100,\n",
    "    facecolor = 'skyblue',\n",
    "    kde=True,\n",
    "    color = 'darkred', \n",
    "    kde_kws=dict(cut=3))\n",
    "    plt.show()"
   ]
  },
  {
   "attachments": {},
   "cell_type": "markdown",
   "metadata": {},
   "source": [
    "### Binomial distribution\n",
    "Binomial distribution describes the distribution of binary data from a finite sample. Thus it gives the probability of getting r events out of n trials."
   ]
  },
  {
   "cell_type": "code",
   "execution_count": 10,
   "metadata": {},
   "outputs": [],
   "source": [
    "from scipy.stats import binom"
   ]
  },
  {
   "cell_type": "code",
   "execution_count": null,
   "metadata": {},
   "outputs": [],
   "source": [
    "binom_data = binom.rvs(n=10, p=0.5, size=10000) # e.g. flipping 10 coins 10000 times and counting each time the number of heads (or tails). Try changing the p (between 0 and 1)\n",
    "axis = sns.histplot(binom_data, color='skyblue',)\n",
    "axis.set(xlabel='Binomial Distribution', ylabel='Frequency')"
   ]
  },
  {
   "attachments": {},
   "cell_type": "markdown",
   "metadata": {},
   "source": [
    "### Poisson distribution\n",
    "\n",
    "A Poisson distribution is a discrete probability distribution. It gives the probability of an event happening a certain number of times (k) within a given interval of time or space. The Poisson distribution has only one parameter, λ (lambda), which is the mean number of events."
   ]
  },
  {
   "cell_type": "code",
   "execution_count": 12,
   "metadata": {},
   "outputs": [],
   "source": [
    "from scipy.stats import poisson"
   ]
  },
  {
   "cell_type": "code",
   "execution_count": null,
   "metadata": {},
   "outputs": [],
   "source": [
    "poisson_data = poisson.rvs(1.5, size=1000)\n",
    "axis = sns.histplot(poisson_data, color='skyblue',)\n",
    "axis.set(xlabel='Poisson Distribution', ylabel='Frequency')"
   ]
  },
  {
   "attachments": {},
   "cell_type": "markdown",
   "metadata": {},
   "source": [
    "### Exponential distribution\n",
    "\n",
    "The exponential distribution is often concerned with the amount of time until some specific event occurs."
   ]
  },
  {
   "cell_type": "code",
   "execution_count": 14,
   "metadata": {},
   "outputs": [],
   "source": [
    "from scipy.stats import expon"
   ]
  },
  {
   "cell_type": "code",
   "execution_count": null,
   "metadata": {},
   "outputs": [],
   "source": [
    "expon_data = expon.rvs(scale=1, loc=0, size=1000)\n",
    "axis = sns.histplot(\n",
    "    expon_data,\n",
    "    bins=100,\n",
    "    kde=True,\n",
    "    color='skyblue',\n",
    "    line_kws={'linewidth':2, 'alpha':0.6},\n",
    "    kde_kws=dict(cut=3))\n",
    "axis.set(xlabel='Exponential Distribution', ylabel='Frequency')"
   ]
  },
  {
   "attachments": {},
   "cell_type": "markdown",
   "metadata": {},
   "source": [
    "### Normal (or Gaussian) distribution\n",
    "\n",
    "A symmetrical distribution defined by the mean and standard deviation. Normal distributions are important in statistics and are often used in the natural and social sciences to represent real-valued random variables whose distributions are not known. "
   ]
  },
  {
   "cell_type": "code",
   "execution_count": 16,
   "metadata": {},
   "outputs": [],
   "source": [
    "from scipy.stats import norm"
   ]
  },
  {
   "cell_type": "code",
   "execution_count": null,
   "metadata": {},
   "outputs": [],
   "source": [
    "normal_data = norm.rvs(size=90000, loc=20, scale=30)\n",
    "axis = sns.histplot(\n",
    "    normal_data,\n",
    "    bins=100,\n",
    "    kde=True,\n",
    "    color='skyblue',\n",
    "    line_kws={'linewidth':2, 'alpha':0.6})\n",
    "axis.set(xlabel='normal Distribution', ylabel='Frequency')\n"
   ]
  },
  {
   "attachments": {},
   "cell_type": "markdown",
   "metadata": {},
   "source": [
    "### Central Limit Theorem (CLT)\n",
    "The normal distribution is related to the Central Limit Theorem (CLT) which states that if you have a population with mean μ and standard deviation σ and take sufficiently large random samples from the population with replacement, then the distribution of the sample means will be approximately normally distributed, even if the population is not normally distributed.\n"
   ]
  },
  {
   "cell_type": "code",
   "execution_count": null,
   "metadata": {},
   "outputs": [],
   "source": [
    "import numpy\n",
    " \n",
    "# number of samples\n",
    "num = [1, 10, 50, 100]\n",
    "\n",
    "# list of sample means\n",
    "means = [] \n",
    " \n",
    "# Generating 1, 10, 50, 100 random numbers from -40 to 40\n",
    "# taking their mean and appending it to list means.\n",
    "for j in num:\n",
    "    # Generating seed so that we can get same result\n",
    "    # every time the loop is run...\n",
    "    numpy.random.seed(1)\n",
    "    x = [numpy.mean(\n",
    "        numpy.random.randint( # Return random integers from the “discrete uniform” distribution\n",
    "            -40, 40, j)) for _i in range(10000)]\n",
    "    means.append(x)\n",
    "k = 0\n",
    " \n",
    "# plotting all the means in one figure\n",
    "fig, ax = plt.subplots(2, 2, figsize =(8, 8))\n",
    "for i in range(0, 2):\n",
    "    for j in range(0, 2):\n",
    "        # Histogram for each x stored in means\n",
    "        ax[i, j].hist(means[k], 10, density = True)\n",
    "        ax[i, j].set_title(label = num[k])\n",
    "        k = k + 1\n",
    "plt.show()"
   ]
  }
 ],
 "metadata": {
  "kernelspec": {
   "display_name": "Python 3",
   "language": "python",
   "name": "python3"
  },
  "language_info": {
   "codemirror_mode": {
    "name": "ipython",
    "version": 3
   },
   "file_extension": ".py",
   "mimetype": "text/x-python",
   "name": "python",
   "nbconvert_exporter": "python",
   "pygments_lexer": "ipython3",
   "version": "3.11.2"
  },
  "orig_nbformat": 4
 },
 "nbformat": 4,
 "nbformat_minor": 2
}

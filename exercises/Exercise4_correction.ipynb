{
 "cells": [
  {
   "attachments": {},
   "cell_type": "markdown",
   "metadata": {},
   "source": [
    "### Exercise #4 - correction"
   ]
  },
  {
   "cell_type": "code",
   "execution_count": null,
   "metadata": {},
   "outputs": [],
   "source": [
    "import pandas as pd\n",
    "import numpy as np\n",
    "import zipfile\n",
    "import seaborn as sns # For plotting\n",
    "import matplotlib.pyplot as plt # For showing plots\n",
    "from statsmodels.graphics.gofplots import qqplot"
   ]
  },
  {
   "attachments": {},
   "cell_type": "markdown",
   "metadata": {},
   "source": [
    "#### Exercise 4.1\n",
    "\n",
    "Using an appropriate visualization, check the effect of Mean Annual Temperature (Temp_ann) on the presence of Salmo trutta fario (Brown Trout).\n",
    "\n",
    "Import and clean data"
   ]
  },
  {
   "cell_type": "code",
   "execution_count": null,
   "metadata": {},
   "outputs": [],
   "source": [
    "df = pd.read_csv('../examples/EFIplus_medit.zip',compression='zip', sep=\";\")"
   ]
  },
  {
   "cell_type": "code",
   "execution_count": null,
   "metadata": {},
   "outputs": [],
   "source": [
    "# clean up the dataset to remove unnecessary columns (eg. REG) \n",
    "df.drop(df.iloc[:,5:15], axis=1, inplace=True)\n",
    "\n",
    "# let's rename some columns so that they make sense\n",
    "df.rename(columns={'Sum of Run1_number_all':'Total_fish_individuals'}, inplace=True) # inplace=\"True\" means that df will be updated\n",
    "\n",
    "# for sake of consistency, let's also make all column labels of type string\n",
    "df.columns = list(map(str, df.columns))"
   ]
  },
  {
   "cell_type": "code",
   "execution_count": null,
   "metadata": {},
   "outputs": [],
   "source": [
    "df2 = df.dropna()"
   ]
  },
  {
   "attachments": {},
   "cell_type": "markdown",
   "metadata": {},
   "source": [
    "Some possible visualization settings"
   ]
  },
  {
   "cell_type": "code",
   "execution_count": null,
   "metadata": {},
   "outputs": [],
   "source": [
    "# Resize figure\n",
    "# sns.set(rc={'figure.figsize':(8,3)}) # will change the setting for the whole graphs when applied\n",
    "\n",
    "# Alternative\n",
    "# from matplotlib import rcParams\n",
    "# figure size in inches\n",
    "# rcParams['figure.figsize'] = 8,3\n",
    "\n",
    "# To restore settings run:\n",
    "# import matplotlib as mpl\n",
    "# mpl.rc_file_defaults()"
   ]
  },
  {
   "cell_type": "code",
   "execution_count": null,
   "metadata": {},
   "outputs": [],
   "source": [
    "sns.stripplot(data=df, y='Salmo trutta fario', x='temp_ann', orient='h',\n",
    "    jitter=0.1, # the ammount of jitter (i.e. random point dispersion along the x-axis).\n",
    "    linewidth=0, # no line around the points\n",
    "    color='#9e2a2b', # HEX color picked from here: https://coolors.co/palettes/trending - don't forget to start by \"#\"\n",
    "    alpha=.3,\n",
    "    s=2, # point size\n",
    "    )\n",
    "plt.ylabel('Salmo trutta fario', fontdict={'size': 12, 'style': 'italic'})\n",
    "plt.xlabel('Mean Annual Temperature')\n",
    "plt.show()"
   ]
  },
  {
   "cell_type": "code",
   "execution_count": null,
   "metadata": {},
   "outputs": [],
   "source": [
    "sns.set_theme(rc={'figure.figsize':(4,5)}) # Resize figure\n",
    "sns.set_style(style='white')\n",
    "\n",
    "# Create boxplots with a notch\n",
    "sns.boxplot(data=df, x='Salmo trutta fario', y='temp_ann',\n",
    "        notch=True,\n",
    "        palette=['lightgray', 'skyblue'],\n",
    "        width=0.4,\n",
    "        linewidth=1,\n",
    "        ).set_xticklabels(['Absence', 'Presence'])\n",
    "plt.xlabel('Brown trout occurrence', fontdict={'size': 12})\n",
    "plt.ylabel('Mean Annual Temperature', fontdict={'size': 12})\n",
    "\n",
    "plt.show()"
   ]
  },
  {
   "cell_type": "code",
   "execution_count": null,
   "metadata": {},
   "outputs": [],
   "source": [
    "# To restore matplotlib settings:\n",
    "import matplotlib as mpl\n",
    "mpl.rc_file_defaults()"
   ]
  },
  {
   "cell_type": "code",
   "execution_count": null,
   "metadata": {},
   "outputs": [],
   "source": [
    "\n",
    "sns.histplot(data=df[df['Salmo trutta fario']==0], x='temp_ann', color='gray', alpha=0.5, edgecolor=None, label=\"Absence of Brown trout\")\n",
    "sns.histplot(data=df[df['Salmo trutta fario']==1], x='temp_ann', alpha=0.4, edgecolor=None, label=\"Presence of Brown trout\")\n",
    "plt.legend(frameon=False)\n",
    "plt.xlabel('Mean Annual Temperature')\n",
    "plt.show()\n"
   ]
  },
  {
   "cell_type": "code",
   "execution_count": null,
   "metadata": {},
   "outputs": [],
   "source": [
    "sns.kdeplot(data=df[df['Salmo trutta fario']==0], x='temp_ann', color='gray', fill=True, label=\"Absence of Brown trout\")\n",
    "sns.kdeplot(data=df[df['Salmo trutta fario']==1], x='temp_ann', fill=True, label=\"Presence of Brown trout\")\n",
    "plt.legend(frameon=False, loc='upper left')\n",
    "plt.xlabel('Mean Annual Temperature')\n",
    "plt.show()"
   ]
  },
  {
   "cell_type": "code",
   "execution_count": null,
   "metadata": {},
   "outputs": [],
   "source": [
    "sns.violinplot(data=df, x='Salmo trutta fario', y='temp_ann')\n",
    "plt.ylim(0, 20)\n",
    "plt.show()"
   ]
  },
  {
   "cell_type": "code",
   "execution_count": null,
   "metadata": {},
   "outputs": [],
   "source": [
    "sns.scatterplot(data=df, x='Salmo trutta fario', y='temp_ann')\n",
    "plt.ylim(0, 20)\n",
    "plt.show()"
   ]
  },
  {
   "attachments": {},
   "cell_type": "markdown",
   "metadata": {},
   "source": [
    "#### Exercise 4.2\n",
    "Test, using both visualization and hypothesis testing methods, if the actual_river_slope is drawn from a normal distribution."
   ]
  },
  {
   "cell_type": "code",
   "execution_count": null,
   "metadata": {},
   "outputs": [],
   "source": [
    "sns.histplot(df2['Actual_river_slope'])\n",
    "plt.show()"
   ]
  },
  {
   "cell_type": "code",
   "execution_count": null,
   "metadata": {},
   "outputs": [],
   "source": [
    "from statsmodels.graphics.gofplots import qqplot\n",
    "\n",
    "qqplot(pd.Series(df2['Actual_river_slope']), line='s')\n",
    "plt.show()"
   ]
  },
  {
   "cell_type": "code",
   "execution_count": null,
   "metadata": {},
   "outputs": [],
   "source": [
    "# import function\n",
    "from scipy.stats import shapiro\n",
    "\n",
    "df2 = df.dropna() # drops rows when at least one element is a missing value\n",
    "df2.info()\n",
    "\n",
    "# normality test\n",
    "stat, p = shapiro(pd.Series(df2['Actual_river_slope']))\n",
    "print('Statistics=%.3f, p=%.3f' % (stat, p)) # print outputs\n",
    "# interpret. H0: 'the sample was drawn from a Gaussian distribution'.\n",
    "alpha = 0.05\n",
    "if p > alpha:\n",
    " print('Sample is not significantly different from Gaussian (fail to reject H0. Rejecting H0 has an error probability >0.05)')\n",
    "else:\n",
    " print('Sample is significantly different from Gaussian (reject H0 with an error probability <0.05)')"
   ]
  },
  {
   "attachments": {},
   "cell_type": "markdown",
   "metadata": {},
   "source": [
    "#### Exercise 4.3\n",
    "\n",
    "Take 100 samples of 2000 observations with replacement, compute the mean for each sample and plot the resulting histogram of means. Test if these 100 mean values are drawn from a normal distribution.\n"
   ]
  },
  {
   "cell_type": "code",
   "execution_count": null,
   "metadata": {},
   "outputs": [],
   "source": [
    "mean = []\n",
    "for i in range(0,100):\n",
    "    temp = df['Actual_river_slope']\n",
    "    sampler = np.random.randint(0, len(temp), 2000) # generate 2000 random integer numbers with replacement to be used as random indices\n",
    "    sample = temp.take(sampler) # take 2000 random observations from temp\n",
    "    mean.append(sample.mean())\n",
    "\n",
    "sns.histplot(mean, kde=True)\n",
    "plt.show()"
   ]
  },
  {
   "cell_type": "code",
   "execution_count": null,
   "metadata": {},
   "outputs": [],
   "source": [
    "qqplot(pd.Series(mean), line='s')\n",
    "plt.show()"
   ]
  },
  {
   "cell_type": "code",
   "execution_count": null,
   "metadata": {},
   "outputs": [],
   "source": [
    "# import function\n",
    "from scipy.stats import shapiro\n",
    "from scipy.stats import kstest\n",
    "\n",
    "# Shapiro-Wilk normality test \n",
    "stat, p = shapiro(mean)\n",
    "print('Shapiro-Wilk normality test:')\n",
    "print('Statistics=%.3f, p=%.3f' % (stat, p)) # print outputs\n",
    "# interpret. H0: 'the sample was drawn from a Gaussian distribution'.\n",
    "alpha = 0.05\n",
    "if p > alpha:\n",
    " print('H0 is not rejected (Rejecting H0 has an error probability >0.05)')\n",
    "else:\n",
    " print('reject H0 (Rejecting H0 has an error probability <0.05)')"
   ]
  }
 ],
 "metadata": {
  "kernelspec": {
   "display_name": "Python 3",
   "language": "python",
   "name": "python3"
  },
  "language_info": {
   "codemirror_mode": {
    "name": "ipython",
    "version": 3
   },
   "file_extension": ".py",
   "mimetype": "text/x-python",
   "name": "python",
   "nbconvert_exporter": "python",
   "pygments_lexer": "ipython3",
   "version": "3.11.2"
  },
  "orig_nbformat": 4
 },
 "nbformat": 4,
 "nbformat_minor": 2
}

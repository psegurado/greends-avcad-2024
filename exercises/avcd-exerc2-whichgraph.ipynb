{
 "cells": [
  {
   "attachments": {},
   "cell_type": "markdown",
   "metadata": {},
   "source": [
    "# Analysis and Visualization of Complex Agro-Environmental Data\n",
    "---\n",
    "## Exercise 02 - Best charts to represent different data or dataset types.\n",
    "\n",
    "Each type of data or datasets is best visualized by certain kinds of charts, depending on both the targeted audience as well as the personal preferences of the data visualizer. In this exercise you will first simulate different types of data and datasets in python. Randomizations are useful to understand certain statistical concepts and also as a basis for random sampling, which may be required when dealing with big data. Based on these simulated data, the exercise will consist on choosing the type of chart that you find more adequate to represent the different types of data and datasets.\n",
    "\n",
    "The objectives of this exercise are to:\n",
    "1. identify each type of variables and tables that were created.\n",
    "\n",
    "2. try your best to interpret each line of the code provided by inserting a note in front of each line (it might be usefull to create a jupiter notebook from the markdown file)\n",
    "\n",
    "2. based on these simulated data, draw sketches of the charts that you find more adequate to represent the different types of data and datasets. You should identify the different axis of the plot, if applicable.\n",
    "\n",
    "You will use two modules that provide pseudo-random number generators to implement random sampling routines. Have a look [here](https://docs.python.org/3/library/random.html) (random module) and [here](https://numpy.org/doc/stable/reference/random/index.html) (numpy.random module). Both allow to simulate data and take random samples, although np.random allows more pseudo-random generator methods to be implemented.\n",
    "\n",
    "To run the simulations, you should first import pandas, numpy and random modules (in case you still did not installed these modules, you will need to install beforehand).\n"
   ]
  },
  {
   "cell_type": "code",
   "execution_count": null,
   "metadata": {},
   "outputs": [],
   "source": [
    "import pandas as pd\n",
    "import numpy as np\n",
    "import random"
   ]
  },
  {
   "cell_type": "code",
   "execution_count": null,
   "metadata": {},
   "outputs": [],
   "source": [
    "# Simulate var1\n",
    "var1 = []\n",
    "random.seed(24) # optional: used to fix the seed of the pseudo-random number generator (use any number of your choice)\n",
    "levels = [\"Permanent crops\", \"Irrigated crops\", \"Managed Forest\", \"Natural Forest\", \"Agro-Forestry system\", \"Urban\", \"Pasture\", \"Shrubland\" ]\n",
    "for _ in range(100): # a loop is needed because random.sample selects unique elements (with no replacement)\n",
    "    var1 += random.sample(levels, 1) # var1.append(random.sample(levels, 1)) would also work\n",
    "print(var1)"
   ]
  },
  {
   "cell_type": "code",
   "execution_count": null,
   "metadata": {},
   "outputs": [],
   "source": [
    "# alternative to run a random sampling with replacement (using numpy)\n",
    "levels = np.array([\"Permanent crops\", \"Irrigated crops\", \"Managed Forest\", \"Natural Forest\", \"Agro-Forestry system\", \"Urban\", \"Pasture\", \"Shrubland\"])\n",
    "sampler = np.random.randint(0, len(levels), 100) # 100 random values within an interval (0 to 7)\n",
    "var1 = levels.take(sampler) # use sampler to select values from \"levels\"; take - returns elements from array along the mentioned axis and indices\n",
    "print(var1)"
   ]
  },
  {
   "cell_type": "code",
   "execution_count": null,
   "metadata": {},
   "outputs": [],
   "source": [
    "sampler = np.random.randint(0, len(levels), 100)\n",
    "type(sampler)"
   ]
  },
  {
   "cell_type": "code",
   "execution_count": null,
   "metadata": {},
   "outputs": [],
   "source": [
    "# Simulate var2\n",
    "np.random.seed(24) # optional: used to fix the seed of the pseudo-random number generator (use any number of your choice)\n",
    "var2 = np.random.uniform(0, 100, 100)\n",
    "print(var2)"
   ]
  },
  {
   "cell_type": "code",
   "execution_count": null,
   "metadata": {},
   "outputs": [],
   "source": [
    "# Simulate table1\n",
    "table1 = pd.DataFrame(var1).value_counts(sort=True)\n",
    "table1 = table1.rename_axis(\"landuse\")\n",
    "table1 = table1.reset_index(name=\"Frequency\")\n",
    "print(table1)"
   ]
  },
  {
   "cell_type": "code",
   "execution_count": null,
   "metadata": {},
   "outputs": [],
   "source": [
    "# Simulate table2\n",
    "table2 = pd.DataFrame(list(zip(var1, var2)), columns = [\"landuse\", \"cover\"])\n",
    "print(table2)"
   ]
  },
  {
   "attachments": {},
   "cell_type": "markdown",
   "metadata": {},
   "source": [
    "Note: The zip() function returns a zip object, which is an iterator of tuples where the first item in each passed iterator is paired together, and then the second item in each passed iterator are paired together, etc. The tuple() function displays a readable version of the result - try running: print(tuple(zip(var1,var2)))"
   ]
  },
  {
   "cell_type": "code",
   "execution_count": null,
   "metadata": {},
   "outputs": [],
   "source": [
    "print(tuple(zip(var1,var2)))"
   ]
  },
  {
   "cell_type": "code",
   "execution_count": null,
   "metadata": {},
   "outputs": [],
   "source": [
    "# Simulate table3\n",
    "np.random.seed(24) # optional: used to fix the seed of the pseudo-random number generator (use any number of your choice)\n",
    "year = list(range(1970,2021))\n",
    "temp = np.random.normal(17,2,51)\n",
    "table3 = pd.DataFrame(list(zip(year, temp)), columns = [\"Year\", \"Temperature\"])\n",
    "print(table3)"
   ]
  },
  {
   "cell_type": "code",
   "execution_count": null,
   "metadata": {},
   "outputs": [],
   "source": [
    "# Simulate table4\n",
    "xx = np.array([16,21])\n",
    "yy = np.array([300, 1200])\n",
    "means = [xx.mean(), yy.mean()]  \n",
    "stds = [xx.std() / 3, yy.std() / 3]\n",
    "corr = -0.7 # correlation\n",
    "covs = [[stds[0]**2          , stds[0]*stds[1]*corr], \n",
    "        [stds[0]*stds[1]*corr,           stds[1]**2]] # covariance matrix\n",
    "table4 = pd.DataFrame(np.random.multivariate_normal(means, covs, 100), columns = [\"Mean Anual Temperature\", \"Total Precipitation\"])\n",
    "print(table4)"
   ]
  },
  {
   "cell_type": "code",
   "execution_count": null,
   "metadata": {},
   "outputs": [],
   "source": [
    "# Simulate table5\n",
    "col1 = pd.Series(list(range(1900,2010,10))).repeat(8)\n",
    "col2 = [\"Permanent crops\", \"Irrigated crops\", \"Managed Forest\", \"Natural Forest\", \"Agro-Forestry system\", \"Urban\", \"Pasture\", \"Shrubland\" ]*11\n",
    "col3 = np.random.uniform(0, 100, 90)\n",
    "table5 = pd.DataFrame(list(zip(col1, col2, col3)), columns = [\"Year\", \"Landuse\", \"Cover\"])\n",
    "print(table5)"
   ]
  }
 ],
 "metadata": {
  "kernelspec": {
   "display_name": "Python 3",
   "language": "python",
   "name": "python3"
  },
  "language_info": {
   "codemirror_mode": {
    "name": "ipython",
    "version": 3
   },
   "file_extension": ".py",
   "mimetype": "text/x-python",
   "name": "python",
   "nbconvert_exporter": "python",
   "pygments_lexer": "ipython3",
   "version": "3.11.2"
  },
  "orig_nbformat": 4,
  "vscode": {
   "interpreter": {
    "hash": "f370ef58eb856835018c6f17435ba4383e967280d683e004a318f3d8dd5b0859"
   }
  }
 },
 "nbformat": 4,
 "nbformat_minor": 2
}

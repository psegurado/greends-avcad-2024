{
 "cells": [
  {
   "cell_type": "code",
   "execution_count": 31,
   "metadata": {},
   "outputs": [],
   "source": [
    "#ex06\n",
    "#import modules\n",
    "import pandas as pd\n",
    "import numpy as np\n",
    "import matplotlib.pyplot as plt\n",
    "from scipy import stats\n",
    "import scipy.stats as sts\n",
    "import statsmodels.stats as stm\n",
    "import scikit_posthocs as sp\n",
    "import seaborn as sns\n",
    "\n",
    "#load dataset\n",
    "df = pd.read_csv('EFIplus_medit.zip',compression='zip', sep=\";\")\n",
    "# clean up the dataset to remove unnecessary columns (eg. REG) \n",
    "df.drop(df.iloc[:,5:15], axis=1, inplace=True)\n",
    "# handle missing values:\n",
    "df.dropna()\n",
    "\n",
    "# let's rename some columns so that they make sense\n",
    "df.rename(columns={'Sum of Run1_number_all':'Total_fish_individuals'}, inplace=True) # inplace=\"True\" means that df will be updated\n",
    "\n",
    "# for sake of consistency, let's also make all column labels of type string\n",
    "df.columns = list(map(str, df.columns))"
   ]
  },
  {
   "cell_type": "code",
   "execution_count": 8,
   "metadata": {},
   "outputs": [
    {
     "name": "stdout",
     "output_type": "stream",
     "text": [
      "Chi-squared Test statistic: 496.3723854072799\n",
      "P-value: 2.9162328651936495e-107\n",
      "Degrees of freedom: 3\n",
      "Expected frequencies: \n",
      "[[  28.39193774   43.60806226]\n",
      " [  72.95150669  112.04849331]\n",
      " [ 341.88625025  525.11374975]\n",
      " [1532.77030533 2354.22969467]]\n"
     ]
    }
   ],
   "source": [
    "#6.1 \n",
    "contingency_table = pd.crosstab(df['Country'], df['Salmo trutta fario'])\n",
    "chi2, p, dof, expected = sts.chi2_contingency(contingency_table)\n",
    "\n",
    "#H0:The frequency of sites with presence and absence of Salmo trutta fario is independent of the country.\n",
    "\n",
    "print(f\"Chi-squared Test statistic: {chi2}\")\n",
    "print(f\"P-value: {p}\")\n",
    "print(f\"Degrees of freedom: {dof}\")\n",
    "print(f\"Expected frequencies: \\n{expected}\")\n"
   ]
  },
  {
   "cell_type": "code",
   "execution_count": 14,
   "metadata": {},
   "outputs": [
    {
     "name": "stdout",
     "output_type": "stream",
     "text": [
      "Kruskal-Wallis H-test results:\n",
      "H-statistic=868.726, p=0.000000\n",
      "Reject H0. There are significant differences in mean elevation among the eight most sampled catchments.\n",
      "ANOVA results:\n",
      "F-statistic=166.490, p=0.000000\n",
      "Reject H0. There are significant differences in mean elevation among the eight most sampled catchments.\n"
     ]
    }
   ],
   "source": [
    "#6.2 Run the non-parametric equivalent of the test you used in exercise 5.3 \n",
    "# non-paramentric good for data that DOES NOT DOES NOT FOLLOW NORMAL DISTRIBUTION or WEIRD DATA\n",
    "\n",
    "#Null hypothesis: There are no significant differences in mean elevation among the 8 most sampled catchments\n",
    "\n",
    "#replace fway w krastal\n",
    "from scipy.stats import kruskal\n",
    "from scipy.stats import f_oneway\n",
    "import pandas as pd\n",
    "\n",
    "# Filter the data to include only the eight most sampled catchments\n",
    "counts = df['Catchment_name'].value_counts()\n",
    "top_8_sites = counts.nlargest(8).index\n",
    "top_8_sites_df = df[df['Catchment_name'].isin(top_8_sites)].dropna()\n",
    "\n",
    "# Create a list of elevation data for each catchment\n",
    "elevation = [top_8_sites_df[top_8_sites_df['Catchment_name'] == catchment]['Elevation_mean_catch'].values \n",
    "             for catchment in top_8_sites]\n",
    "\n",
    "# Perform the Kruskal-Wallis H-test\n",
    "stat, p = kruskal(*elevation)\n",
    "\n",
    "print('Kruskal-Wallis H-test results:')\n",
    "print('H-statistic=%.3f, p=%.6f' % (stat, p))\n",
    "\n",
    "alpha = 0.05\n",
    "if p > alpha:\n",
    "    print('Fail to reject H0. There are no significant differences in mean elevation among the eight most sampled catchments.')\n",
    "else:\n",
    "    print('Reject H0. There are significant differences in mean elevation among the eight most sampled catchments.')\n",
    "\n",
    "# ANOVA test = Two or more groups have the same population mean\n",
    "stat, p = f_oneway(*elevation)\n",
    "print('ANOVA results:')\n",
    "print('F-statistic=%.3f, p=%.6f' % (stat, p))\n",
    "\n",
    "alpha = 0.05\n",
    "if p > alpha:\n",
    "    print('Fail to reject H0. There are no significant differences in mean elevation among the eight most sampled catchments.')\n",
    "else:\n",
    "    print('Reject H0. There are significant differences in mean elevation among the eight most sampled catchments.')\n",
    "\n",
    "\n",
    "\n"
   ]
  },
  {
   "cell_type": "code",
   "execution_count": 47,
   "metadata": {},
   "outputs": [
    {
     "name": "stdout",
     "output_type": "stream",
     "text": [
      "Chi-squared test for 'fixed acidity':\n",
      "Chi-squared statistic: 11.184607460907158, p-value: 0.0037264332708660647\n",
      "Chi-squared test for 'volatile acidity':\n",
      "Chi-squared statistic: 109.09271177835417, p-value: 2.0455901764083764e-24\n",
      "Chi-squared test for 'residual sugar':\n",
      "Chi-squared statistic: 1.058317045209553, p-value: 0.5891004759044617\n",
      "Chi-squared test for 'chlorides':\n",
      "Chi-squared statistic: 3.195137673117301, p-value: 0.20238795857226552\n",
      "Chi-squared test for 'free sulfur dioxide':\n",
      "Chi-squared statistic: 6.973395802930409, p-value: 0.03060175552824865\n",
      "Chi-squared test for 'total sulfur dioxide':\n",
      "Chi-squared statistic: 84.70389190695666, p-value: 4.0437432636901795e-19\n",
      "Chi-squared test for 'density':\n",
      "Chi-squared statistic: 45.95504807655456, p-value: 1.0495136765272779e-10\n",
      "Chi-squared test for 'pH':\n",
      "Chi-squared statistic: 1.0972961103370333, p-value: 0.5777303421937462\n",
      "Chi-squared test for 'sulphates':\n",
      "Chi-squared statistic: 4.494846069660519, p-value: 0.10567118495821066\n",
      "Chi-squared test for 'alcohol':\n",
      "Chi-squared statistic: 264.7301990121799, p-value: 3.27015010512867e-58\n"
     ]
    }
   ],
   "source": [
    "#6.3 Using the winequality_red.csv file in the examples folder of the github repository, test which wine parameters discriminate the best between wine quality scores categorized into two classes using value 5 as the threshold value (quality>5=“good” and quality<5=“bad”).\n",
    "\n",
    "\n",
    "import pandas as pd\n",
    "from scipy.stats import chi2_contingency\n",
    "\n",
    "# Load the CSV file into a DataFrame\n",
    "df = pd.read_csv('winequality_red.csv')\n",
    "\n",
    "# Define a binary target variable indicating good or bad quality\n",
    "df['quality_class'] = df['quality'].apply(lambda x: 'good' if x > 5 else 'bad')\n",
    "\n",
    "\n",
    "# Perform Chi-squared test for 'quality_class' and each individual continuous parameter\n",
    "parameters = [\"fixed acidity\", \"volatile acidity\", \"residual sugar\", \"chlorides\", \"free sulfur dioxide\",\n",
    "              \"total sulfur dioxide\", \"density\", \"pH\", \"sulphates\", \"alcohol\"]\n",
    "\n",
    "for param in parameters:\n",
    "    # Create a contingency table\n",
    "    contingency_table = pd.crosstab(df['quality_class'], pd.cut(df[param], bins=3))\n",
    "    \n",
    "    # Perform Chi-squared test\n",
    "    chi2, p, _, _ = chi2_contingency(contingency_table)\n",
    "    print(f\"Chi-squared test for '{param}':\")\n",
    "    print(f\"Chi-squared statistic: {chi2}, p-value: {p}\")"
   ]
  },
  {
   "cell_type": "code",
   "execution_count": 50,
   "metadata": {},
   "outputs": [
    {
     "name": "stdout",
     "output_type": "stream",
     "text": [
      "Independent samples t-test for pH between 'good' and 'bad' quality wines:\n",
      "t-statistic: -0.13043758140804423\n",
      "p-value: 0.8962366625632214\n",
      "Independent samples t-test for residual sugar between 'good' and 'bad' quality wines:\n",
      "t-statistic: -0.08633714492778152\n",
      "p-value: 0.9312092342607453\n"
     ]
    }
   ],
   "source": [
    "from scipy.stats import ttest_ind\n",
    "\n",
    "# Extract 'pH' values for 'good' and 'bad' quality wines\n",
    "good_ph = df[df['quality'] > 5]['pH']\n",
    "bad_ph = df[df['quality'] <= 5]['pH']\n",
    "\n",
    "# Perform independent samples t-test\n",
    "t_statistic, p_value = ttest_ind(good_ph, bad_ph)\n",
    "\n",
    "# Display the results\n",
    "print(\"Independent samples t-test for pH between 'good' and 'bad' quality wines:\")\n",
    "print(f\"t-statistic: {t_statistic}\")\n",
    "print(f\"p-value: {p_value}\")\n",
    "\n",
    "\n",
    "from scipy.stats import ttest_ind\n",
    "\n",
    "# Extract 'residual sugar' values for 'good' and 'bad' quality wines\n",
    "good_res_sugar = df[df['quality'] > 5]['residual sugar']\n",
    "bad_res_sugar = df[df['quality'] <= 5]['residual sugar']\n",
    "\n",
    "# Perform independent samples t-test\n",
    "t_statistic, p_value = ttest_ind(good_res_sugar, bad_res_sugar)\n",
    "\n",
    "# Display the results\n",
    "print(\"Independent samples t-test for residual sugar between 'good' and 'bad' quality wines:\")\n",
    "print(f\"t-statistic: {t_statistic}\")\n",
    "print(f\"p-value: {p_value}\")\n",
    "\n"
   ]
  },
  {
   "cell_type": "markdown",
   "metadata": {},
   "source": [
    "So, the best discriminators of wine quality are pH and residual sugar. (Because they have the highest p values)\n",
    "\n",
    "H0 = no difference in the mean 'pH' values between the two groups (good and bad). \n",
    "If the p-value is less than a chosen significance level (e.g., 0.05), you would reject the null hypothesis, indicating that there is a statistically significant difference in the mean 'pH' values between 'good' and 'bad' quality wines."
   ]
  }
 ],
 "metadata": {
  "kernelspec": {
   "display_name": "Python 3",
   "language": "python",
   "name": "python3"
  },
  "language_info": {
   "codemirror_mode": {
    "name": "ipython",
    "version": 3
   },
   "file_extension": ".py",
   "mimetype": "text/x-python",
   "name": "python",
   "nbconvert_exporter": "python",
   "pygments_lexer": "ipython3",
   "version": "3.11.5"
  }
 },
 "nbformat": 4,
 "nbformat_minor": 2
}

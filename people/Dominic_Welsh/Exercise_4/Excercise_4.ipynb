{
 "cells": [
  {
   "cell_type": "code",
   "execution_count": 18,
   "metadata": {},
   "outputs": [],
   "source": [
    "import pandas as pd\n",
    "import zipfile\n",
    "import seaborn as sns\n",
    "import matplotlib.pyplot as plt\n",
    "from statsmodels.graphics.gofplots import qqplot\n",
    "import scipy\n",
    "import numpy as np"
   ]
  },
  {
   "cell_type": "code",
   "execution_count": 19,
   "metadata": {},
   "outputs": [],
   "source": [
    "df = pd.read_csv('../../../examples/EFIplus_medit.zip',compression='zip', sep=\";\")"
   ]
  },
  {
   "cell_type": "code",
   "execution_count": 20,
   "metadata": {},
   "outputs": [
    {
     "data": {
      "text/html": [
       "<div>\n",
       "<style scoped>\n",
       "    .dataframe tbody tr th:only-of-type {\n",
       "        vertical-align: middle;\n",
       "    }\n",
       "\n",
       "    .dataframe tbody tr th {\n",
       "        vertical-align: top;\n",
       "    }\n",
       "\n",
       "    .dataframe thead th {\n",
       "        text-align: right;\n",
       "    }\n",
       "</style>\n",
       "<table border=\"1\" class=\"dataframe\">\n",
       "  <thead>\n",
       "    <tr style=\"text-align: right;\">\n",
       "      <th></th>\n",
       "      <th>Site_code</th>\n",
       "      <th>Latitude</th>\n",
       "      <th>Longitude</th>\n",
       "      <th>Country</th>\n",
       "      <th>Catchment_name</th>\n",
       "      <th>Galiza</th>\n",
       "      <th>Subsample</th>\n",
       "      <th>Calib_EFI_Medit</th>\n",
       "      <th>Calib_connect</th>\n",
       "      <th>Calib_hydrol</th>\n",
       "      <th>...</th>\n",
       "      <th>Squalius malacitanus</th>\n",
       "      <th>Squalius pyrenaicus</th>\n",
       "      <th>Squalius torgalensis</th>\n",
       "      <th>Thymallus thymallus</th>\n",
       "      <th>Tinca tinca</th>\n",
       "      <th>Zingel asper</th>\n",
       "      <th>Squalius sp</th>\n",
       "      <th>Barbatula sp</th>\n",
       "      <th>Phoxinus sp</th>\n",
       "      <th>Iberochondrostoma_sp</th>\n",
       "    </tr>\n",
       "  </thead>\n",
       "  <tbody>\n",
       "    <tr>\n",
       "      <th>0</th>\n",
       "      <td>ES_01_0002</td>\n",
       "      <td>38.102003</td>\n",
       "      <td>-4.096070</td>\n",
       "      <td>Spain</td>\n",
       "      <td>Guadalquivir</td>\n",
       "      <td>0</td>\n",
       "      <td>1</td>\n",
       "      <td>0</td>\n",
       "      <td>1</td>\n",
       "      <td>0</td>\n",
       "      <td>...</td>\n",
       "      <td>0</td>\n",
       "      <td>0</td>\n",
       "      <td>0</td>\n",
       "      <td>0</td>\n",
       "      <td>0</td>\n",
       "      <td>0</td>\n",
       "      <td>0</td>\n",
       "      <td>0</td>\n",
       "      <td>0</td>\n",
       "      <td>0</td>\n",
       "    </tr>\n",
       "    <tr>\n",
       "      <th>1</th>\n",
       "      <td>ES_02_0001</td>\n",
       "      <td>40.530188</td>\n",
       "      <td>-1.887796</td>\n",
       "      <td>Spain</td>\n",
       "      <td>Tejo</td>\n",
       "      <td>0</td>\n",
       "      <td>1</td>\n",
       "      <td>1</td>\n",
       "      <td>1</td>\n",
       "      <td>1</td>\n",
       "      <td>...</td>\n",
       "      <td>0</td>\n",
       "      <td>0</td>\n",
       "      <td>0</td>\n",
       "      <td>0</td>\n",
       "      <td>0</td>\n",
       "      <td>0</td>\n",
       "      <td>0</td>\n",
       "      <td>0</td>\n",
       "      <td>0</td>\n",
       "      <td>0</td>\n",
       "    </tr>\n",
       "    <tr>\n",
       "      <th>2</th>\n",
       "      <td>ES_02_0002</td>\n",
       "      <td>40.595432</td>\n",
       "      <td>-1.928079</td>\n",
       "      <td>Spain</td>\n",
       "      <td>Tejo</td>\n",
       "      <td>0</td>\n",
       "      <td>1</td>\n",
       "      <td>1</td>\n",
       "      <td>1</td>\n",
       "      <td>1</td>\n",
       "      <td>...</td>\n",
       "      <td>0</td>\n",
       "      <td>0</td>\n",
       "      <td>0</td>\n",
       "      <td>0</td>\n",
       "      <td>0</td>\n",
       "      <td>0</td>\n",
       "      <td>0</td>\n",
       "      <td>0</td>\n",
       "      <td>0</td>\n",
       "      <td>0</td>\n",
       "    </tr>\n",
       "    <tr>\n",
       "      <th>3</th>\n",
       "      <td>ES_02_0003</td>\n",
       "      <td>40.656184</td>\n",
       "      <td>-1.989831</td>\n",
       "      <td>Spain</td>\n",
       "      <td>Tejo</td>\n",
       "      <td>0</td>\n",
       "      <td>1</td>\n",
       "      <td>1</td>\n",
       "      <td>1</td>\n",
       "      <td>1</td>\n",
       "      <td>...</td>\n",
       "      <td>0</td>\n",
       "      <td>0</td>\n",
       "      <td>0</td>\n",
       "      <td>0</td>\n",
       "      <td>0</td>\n",
       "      <td>0</td>\n",
       "      <td>0</td>\n",
       "      <td>0</td>\n",
       "      <td>0</td>\n",
       "      <td>0</td>\n",
       "    </tr>\n",
       "    <tr>\n",
       "      <th>4</th>\n",
       "      <td>ES_02_0004</td>\n",
       "      <td>40.676402</td>\n",
       "      <td>-2.036274</td>\n",
       "      <td>Spain</td>\n",
       "      <td>Tejo</td>\n",
       "      <td>0</td>\n",
       "      <td>1</td>\n",
       "      <td>1</td>\n",
       "      <td>1</td>\n",
       "      <td>1</td>\n",
       "      <td>...</td>\n",
       "      <td>0</td>\n",
       "      <td>0</td>\n",
       "      <td>0</td>\n",
       "      <td>0</td>\n",
       "      <td>0</td>\n",
       "      <td>0</td>\n",
       "      <td>0</td>\n",
       "      <td>0</td>\n",
       "      <td>0</td>\n",
       "      <td>0</td>\n",
       "    </tr>\n",
       "  </tbody>\n",
       "</table>\n",
       "<p>5 rows × 164 columns</p>\n",
       "</div>"
      ],
      "text/plain": [
       "    Site_code   Latitude  Longitude Country Catchment_name  Galiza  Subsample  \\\n",
       "0  ES_01_0002  38.102003  -4.096070   Spain   Guadalquivir       0          1   \n",
       "1  ES_02_0001  40.530188  -1.887796   Spain           Tejo       0          1   \n",
       "2  ES_02_0002  40.595432  -1.928079   Spain           Tejo       0          1   \n",
       "3  ES_02_0003  40.656184  -1.989831   Spain           Tejo       0          1   \n",
       "4  ES_02_0004  40.676402  -2.036274   Spain           Tejo       0          1   \n",
       "\n",
       "   Calib_EFI_Medit  Calib_connect  Calib_hydrol  ...  Squalius malacitanus  \\\n",
       "0                0              1             0  ...                     0   \n",
       "1                1              1             1  ...                     0   \n",
       "2                1              1             1  ...                     0   \n",
       "3                1              1             1  ...                     0   \n",
       "4                1              1             1  ...                     0   \n",
       "\n",
       "   Squalius pyrenaicus  Squalius torgalensis  Thymallus thymallus  \\\n",
       "0                    0                     0                    0   \n",
       "1                    0                     0                    0   \n",
       "2                    0                     0                    0   \n",
       "3                    0                     0                    0   \n",
       "4                    0                     0                    0   \n",
       "\n",
       "   Tinca tinca Zingel asper Squalius sp  Barbatula sp Phoxinus sp  \\\n",
       "0            0            0           0             0           0   \n",
       "1            0            0           0             0           0   \n",
       "2            0            0           0             0           0   \n",
       "3            0            0           0             0           0   \n",
       "4            0            0           0             0           0   \n",
       "\n",
       "   Iberochondrostoma_sp  \n",
       "0                     0  \n",
       "1                     0  \n",
       "2                     0  \n",
       "3                     0  \n",
       "4                     0  \n",
       "\n",
       "[5 rows x 164 columns]"
      ]
     },
     "execution_count": 20,
     "metadata": {},
     "output_type": "execute_result"
    }
   ],
   "source": [
    "df.head()\n"
   ]
  },
  {
   "cell_type": "code",
   "execution_count": 21,
   "metadata": {},
   "outputs": [],
   "source": [
    "# clean up the dataset to remove unnecessary columns (eg. REG) \n",
    "df.drop(df.iloc[:,5:15], axis=1, inplace=True)\n",
    "\n",
    "# let's rename some columns so that they make sense\n",
    "df.rename(columns={'Sum of Run1_number_all':'Total_fish_individuals'}, inplace=True) # inplace=\"True\" means that df will be updated\n",
    "\n",
    "# for sake of consistency, let's also make all column labels of type string\n",
    "df.columns = list(map(str, df.columns))"
   ]
  },
  {
   "cell_type": "code",
   "execution_count": 22,
   "metadata": {},
   "outputs": [
    {
     "name": "stdout",
     "output_type": "stream",
     "text": [
      "Site_code\n",
      "Latitude\n",
      "Longitude\n",
      "Country\n",
      "Catchment_name\n",
      "Water_source_type\n",
      "Flow_regime\n",
      "Altitude\n",
      "Geological_typology\n",
      "Actual_river_slope\n",
      "Natural_sediment\n",
      "Elevation_mean_catch\n",
      "prec_ann_catch\n",
      "temp_ann\n",
      "temp_jan\n",
      "temp_jul\n",
      "Barriers_catchment_down\n",
      "Barriers_river_segment_up\n",
      "Barriers_river_segment_down\n",
      "Barriers_number_river_segment_up\n",
      "Barriers_number_river_segment_down\n",
      "Barriers_distance_river_segment_up\n",
      "Barriers_distance_river_segment_down\n",
      "Impoundment\n",
      "Hydropeaking\n",
      "Water_abstraction\n",
      "Hydro_mod\n",
      "Temperature_impact\n",
      "Velocity_increase\n",
      "Reservoir_flushing\n",
      "Sedimentation\n",
      "Channelisation\n",
      "Cross_sec\n",
      "Instream_habitat\n",
      "Riparian_vegetation\n",
      "Embankment\n",
      "Floodprotection\n",
      "Floodplain\n",
      "Toxic_substances\n",
      "Acidification\n",
      "Water_quality_index\n",
      "Eutrophication\n",
      "Organic_pollution\n",
      "Organic_siltation\n",
      "Total_fish_individuals\n",
      "Total_sp\n",
      "Abramis brama\n",
      "Achondrostoma arcasii\n",
      "Achondrostoma occidentale\n",
      "Achondrostoma oligolepis\n",
      "Acipenser naccarii\n",
      "Alburnoides bipunctatus\n",
      "Alburnus albidus\n",
      "Alburnus alburnus\n",
      "Alosa alosa\n",
      "Alosa fallax\n",
      "Ameiurus melas\n",
      "Anaecypris hispanica\n",
      "Anguilla anguilla\n",
      "Atherina boyeri\n",
      "Australoheros facetus\n",
      "Barbatula barbatula\n",
      "Barbatula quignardi\n",
      "Barbus barbus\n",
      "Barbus bocagei\n",
      "Barbus comizo\n",
      "Barbus graellsii\n",
      "Barbus haasi\n",
      "Barbus meridionalis\n",
      "Barbus microcephalus\n",
      "Barbus plebejus\n",
      "Barbus sclateri\n",
      "Barbus tyberinus\n",
      "Blicca bjoerkna\n",
      "Carassius auratus\n",
      "Carassius carassius\n",
      "Chelon labrosus\n",
      "Chondrostoma genei\n",
      "Chondrostoma nasus\n",
      "Chondrostoma soetta\n",
      "Chondrostoma toxostoma\n",
      "Cobitis calderoni\n",
      "Cobitis paludica\n",
      "Cobitis taenia\n",
      "Cottus gobio\n",
      "Cottus hispaniolensis\n",
      "Cyprinus carpio\n",
      "Dicentrarchus labrax\n",
      "Esox lucius\n",
      "Gambusia affinis\n",
      "Gambusia holbrooki\n",
      "Gasterosteus aculeatus\n",
      "Gasterosteus gymnurus\n",
      "Gobio gobio\n",
      "Gobio lozanoi\n",
      "Gymnocephalus cernuus\n",
      "Hypophthalmichthys molitrix\n",
      "Iberochondrostoma almacai\n",
      "Iberochondrostoma lemmingii\n",
      "Iberochondrostoma lusitanicum\n",
      "Lampetra fluviatilis\n",
      "Lampetra planeri\n",
      "Lepomis gibbosus\n",
      "Leuciscus cephalus\n",
      "Leuciscus leuciscus\n",
      "Leuciscus lucumonis\n",
      "Leuciscus souffia\n",
      "Liza aurata\n",
      "Liza ramada\n",
      "Luciobarbus guiraonis\n",
      "Micropterus salmoides\n",
      "Mugil cephalus\n",
      "Oncorhynchus mykiss\n",
      "Pachychilon pictum\n",
      "Padogobius martensii\n",
      "Padogobius nigricans\n",
      "Parachondrostoma arrigonis\n",
      "Parachondrostoma miegii\n",
      "Parachondrostoma turiense\n",
      "Perca fluviatilis\n",
      "Petromyzon marinus\n",
      "Phoxinus bigerri\n",
      "Phoxinus phoxinus\n",
      "Platichthys flesus\n",
      "Pseudochondrostoma duriense\n",
      "Pseudochondrostoma polylepis\n",
      "Pseudochondrostoma willkommii\n",
      "Pseudorasbora parva\n",
      "Rhodeus amarus\n",
      "Rutilus aula\n",
      "Rutilus rubilio\n",
      "Rutilus rutilus\n",
      "Salaria fluviatilis\n",
      "Salmo salar\n",
      "Salmo trutta fario\n",
      "Salmo trutta macrostigma\n",
      "Salvelinus fontinalis\n",
      "Sander lucioperca\n",
      "Scardinius erythrophthalmus\n",
      "Silurus glanis\n",
      "Squalius alburnoides\n",
      "Squalius aradensis\n",
      "Squalius carolitertii\n",
      "Squalius laietanus\n",
      "Squalius malacitanus\n",
      "Squalius pyrenaicus\n",
      "Squalius torgalensis\n",
      "Thymallus thymallus\n",
      "Tinca tinca\n",
      "Zingel asper\n",
      "Squalius sp\n",
      "Barbatula sp\n",
      "Phoxinus sp\n",
      "Iberochondrostoma_sp\n"
     ]
    }
   ],
   "source": [
    "for name in df.columns:\n",
    "    print(name)"
   ]
  },
  {
   "cell_type": "markdown",
   "metadata": {},
   "source": [
    "# Step 1"
   ]
  },
  {
   "cell_type": "code",
   "execution_count": 23,
   "metadata": {},
   "outputs": [
    {
     "data": {
      "text/html": [
       "<div>\n",
       "<style scoped>\n",
       "    .dataframe tbody tr th:only-of-type {\n",
       "        vertical-align: middle;\n",
       "    }\n",
       "\n",
       "    .dataframe tbody tr th {\n",
       "        vertical-align: top;\n",
       "    }\n",
       "\n",
       "    .dataframe thead th {\n",
       "        text-align: right;\n",
       "    }\n",
       "</style>\n",
       "<table border=\"1\" class=\"dataframe\">\n",
       "  <thead>\n",
       "    <tr style=\"text-align: right;\">\n",
       "      <th></th>\n",
       "      <th>Site_code</th>\n",
       "      <th>Latitude</th>\n",
       "      <th>Longitude</th>\n",
       "      <th>Country</th>\n",
       "      <th>Catchment_name</th>\n",
       "      <th>Water_source_type</th>\n",
       "      <th>Flow_regime</th>\n",
       "      <th>Altitude</th>\n",
       "      <th>Geological_typology</th>\n",
       "      <th>Actual_river_slope</th>\n",
       "      <th>...</th>\n",
       "      <th>Squalius malacitanus</th>\n",
       "      <th>Squalius pyrenaicus</th>\n",
       "      <th>Squalius torgalensis</th>\n",
       "      <th>Thymallus thymallus</th>\n",
       "      <th>Tinca tinca</th>\n",
       "      <th>Zingel asper</th>\n",
       "      <th>Squalius sp</th>\n",
       "      <th>Barbatula sp</th>\n",
       "      <th>Phoxinus sp</th>\n",
       "      <th>Iberochondrostoma_sp</th>\n",
       "    </tr>\n",
       "  </thead>\n",
       "  <tbody>\n",
       "    <tr>\n",
       "      <th>1</th>\n",
       "      <td>ES_02_0001</td>\n",
       "      <td>40.530188</td>\n",
       "      <td>-1.887796</td>\n",
       "      <td>Spain</td>\n",
       "      <td>Tejo</td>\n",
       "      <td>Groundwater</td>\n",
       "      <td>Permanent</td>\n",
       "      <td>1253</td>\n",
       "      <td>Calcareous</td>\n",
       "      <td>13.406</td>\n",
       "      <td>...</td>\n",
       "      <td>0</td>\n",
       "      <td>0</td>\n",
       "      <td>0</td>\n",
       "      <td>0</td>\n",
       "      <td>0</td>\n",
       "      <td>0</td>\n",
       "      <td>0</td>\n",
       "      <td>0</td>\n",
       "      <td>0</td>\n",
       "      <td>0</td>\n",
       "    </tr>\n",
       "    <tr>\n",
       "      <th>2</th>\n",
       "      <td>ES_02_0002</td>\n",
       "      <td>40.595432</td>\n",
       "      <td>-1.928079</td>\n",
       "      <td>Spain</td>\n",
       "      <td>Tejo</td>\n",
       "      <td>Groundwater</td>\n",
       "      <td>Permanent</td>\n",
       "      <td>1155</td>\n",
       "      <td>Calcareous</td>\n",
       "      <td>9.398</td>\n",
       "      <td>...</td>\n",
       "      <td>0</td>\n",
       "      <td>0</td>\n",
       "      <td>0</td>\n",
       "      <td>0</td>\n",
       "      <td>0</td>\n",
       "      <td>0</td>\n",
       "      <td>0</td>\n",
       "      <td>0</td>\n",
       "      <td>0</td>\n",
       "      <td>0</td>\n",
       "    </tr>\n",
       "    <tr>\n",
       "      <th>3</th>\n",
       "      <td>ES_02_0003</td>\n",
       "      <td>40.656184</td>\n",
       "      <td>-1.989831</td>\n",
       "      <td>Spain</td>\n",
       "      <td>Tejo</td>\n",
       "      <td>Groundwater</td>\n",
       "      <td>Permanent</td>\n",
       "      <td>1074</td>\n",
       "      <td>Calcareous</td>\n",
       "      <td>8.186</td>\n",
       "      <td>...</td>\n",
       "      <td>0</td>\n",
       "      <td>0</td>\n",
       "      <td>0</td>\n",
       "      <td>0</td>\n",
       "      <td>0</td>\n",
       "      <td>0</td>\n",
       "      <td>0</td>\n",
       "      <td>0</td>\n",
       "      <td>0</td>\n",
       "      <td>0</td>\n",
       "    </tr>\n",
       "    <tr>\n",
       "      <th>4</th>\n",
       "      <td>ES_02_0004</td>\n",
       "      <td>40.676402</td>\n",
       "      <td>-2.036274</td>\n",
       "      <td>Spain</td>\n",
       "      <td>Tejo</td>\n",
       "      <td>Groundwater</td>\n",
       "      <td>Permanent</td>\n",
       "      <td>1018</td>\n",
       "      <td>Calcareous</td>\n",
       "      <td>11.736</td>\n",
       "      <td>...</td>\n",
       "      <td>0</td>\n",
       "      <td>0</td>\n",
       "      <td>0</td>\n",
       "      <td>0</td>\n",
       "      <td>0</td>\n",
       "      <td>0</td>\n",
       "      <td>0</td>\n",
       "      <td>0</td>\n",
       "      <td>0</td>\n",
       "      <td>0</td>\n",
       "    </tr>\n",
       "    <tr>\n",
       "      <th>5</th>\n",
       "      <td>ES_02_0005</td>\n",
       "      <td>40.732830</td>\n",
       "      <td>-2.078003</td>\n",
       "      <td>Spain</td>\n",
       "      <td>Tejo</td>\n",
       "      <td>Pluvial</td>\n",
       "      <td>Permanent</td>\n",
       "      <td>979</td>\n",
       "      <td>Calcareous</td>\n",
       "      <td>2.670</td>\n",
       "      <td>...</td>\n",
       "      <td>0</td>\n",
       "      <td>0</td>\n",
       "      <td>0</td>\n",
       "      <td>0</td>\n",
       "      <td>0</td>\n",
       "      <td>0</td>\n",
       "      <td>0</td>\n",
       "      <td>0</td>\n",
       "      <td>0</td>\n",
       "      <td>0</td>\n",
       "    </tr>\n",
       "  </tbody>\n",
       "</table>\n",
       "<p>5 rows × 154 columns</p>\n",
       "</div>"
      ],
      "text/plain": [
       "    Site_code   Latitude  Longitude Country Catchment_name Water_source_type  \\\n",
       "1  ES_02_0001  40.530188  -1.887796   Spain           Tejo       Groundwater   \n",
       "2  ES_02_0002  40.595432  -1.928079   Spain           Tejo       Groundwater   \n",
       "3  ES_02_0003  40.656184  -1.989831   Spain           Tejo       Groundwater   \n",
       "4  ES_02_0004  40.676402  -2.036274   Spain           Tejo       Groundwater   \n",
       "5  ES_02_0005  40.732830  -2.078003   Spain           Tejo           Pluvial   \n",
       "\n",
       "  Flow_regime  Altitude Geological_typology  Actual_river_slope  ...  \\\n",
       "1   Permanent      1253          Calcareous              13.406  ...   \n",
       "2   Permanent      1155          Calcareous               9.398  ...   \n",
       "3   Permanent      1074          Calcareous               8.186  ...   \n",
       "4   Permanent      1018          Calcareous              11.736  ...   \n",
       "5   Permanent       979          Calcareous               2.670  ...   \n",
       "\n",
       "   Squalius malacitanus  Squalius pyrenaicus  Squalius torgalensis  \\\n",
       "1                     0                    0                     0   \n",
       "2                     0                    0                     0   \n",
       "3                     0                    0                     0   \n",
       "4                     0                    0                     0   \n",
       "5                     0                    0                     0   \n",
       "\n",
       "   Thymallus thymallus  Tinca tinca  Zingel asper  Squalius sp  Barbatula sp  \\\n",
       "1                    0            0             0            0             0   \n",
       "2                    0            0             0            0             0   \n",
       "3                    0            0             0            0             0   \n",
       "4                    0            0             0            0             0   \n",
       "5                    0            0             0            0             0   \n",
       "\n",
       "   Phoxinus sp  Iberochondrostoma_sp  \n",
       "1            0                     0  \n",
       "2            0                     0  \n",
       "3            0                     0  \n",
       "4            0                     0  \n",
       "5            0                     0  \n",
       "\n",
       "[5 rows x 154 columns]"
      ]
     },
     "execution_count": 23,
     "metadata": {},
     "output_type": "execute_result"
    }
   ],
   "source": [
    "dfsalmo = df[df['Salmo trutta fario'] > 0]\n",
    "dfsalmo.head()"
   ]
  },
  {
   "cell_type": "code",
   "execution_count": 24,
   "metadata": {},
   "outputs": [
    {
     "data": {
      "image/png": "[encoded data removed]",
      "text/plain": [
       "<Figure size 640x480 with 1 Axes>"
      ]
     },
     "metadata": {},
     "output_type": "display_data"
    }
   ],
   "source": [
    "sns.boxplot(dfsalmo, x='temp_ann')\n",
    "plt.show()"
   ]
  },
  {
   "cell_type": "code",
   "execution_count": 25,
   "metadata": {},
   "outputs": [
    {
     "data": {
      "image/png": "[encoded data removed]",
      "text/plain": [
       "<Figure size 640x480 with 1 Axes>"
      ]
     },
     "metadata": {},
     "output_type": "display_data"
    }
   ],
   "source": [
    "sns.histplot(dfsalmo, x='temp_ann', kde=True)\n",
    "plt.show()"
   ]
  },
  {
   "cell_type": "markdown",
   "metadata": {},
   "source": [
    "# Step 2"
   ]
  },
  {
   "cell_type": "code",
   "execution_count": 26,
   "metadata": {},
   "outputs": [],
   "source": [
    "dfriver = df['Actual_river_slope']"
   ]
  },
  {
   "cell_type": "code",
   "execution_count": 27,
   "metadata": {},
   "outputs": [
    {
     "data": {
      "image/png": "[encoded data removed]",
      "text/plain": [
       "<Figure size 640x480 with 1 Axes>"
      ]
     },
     "metadata": {},
     "output_type": "display_data"
    }
   ],
   "source": [
    "sns.histplot(dfriver)\n",
    "plt.show()"
   ]
  },
  {
   "cell_type": "code",
   "execution_count": 28,
   "metadata": {},
   "outputs": [
    {
     "data": {
      "image/png": "[encoded data removed]",
      "text/plain": [
       "<Figure size 640x480 with 1 Axes>"
      ]
     },
     "metadata": {},
     "output_type": "display_data"
    }
   ],
   "source": [
    "sns.boxplot(dfriver)\n",
    "plt.show()"
   ]
  },
  {
   "cell_type": "code",
   "execution_count": 29,
   "metadata": {},
   "outputs": [
    {
     "data": {
      "image/png": "[encoded data removed]",
      "text/plain": [
       "<Figure size 640x480 with 1 Axes>"
      ]
     },
     "metadata": {},
     "output_type": "display_data"
    }
   ],
   "source": [
    "qqplot(dfriver, line='s')\n",
    "plt.show()"
   ]
  },
  {
   "cell_type": "markdown",
   "metadata": {},
   "source": [
    "Both histogram and boxplots do not look normal, and the qqplot is far off from a normal diagonal line"
   ]
  },
  {
   "cell_type": "markdown",
   "metadata": {},
   "source": [
    "Shapiro-Wilk Test reliable with about 1000 or less observations. The warning given is p-value may not be accurate for over 5000 observations. Either way, incorrect p-value because too many data points"
   ]
  },
  {
   "cell_type": "code",
   "execution_count": 30,
   "metadata": {},
   "outputs": [
    {
     "name": "stdout",
     "output_type": "stream",
     "text": [
      "Statistics=nan, p=1.000\n",
      "Sample is not significantly different from Gaussian (fail to reject H0. Rejecting H0 has an error probability >0.05)\n"
     ]
    },
    {
     "name": "stderr",
     "output_type": "stream",
     "text": [
      "/Library/Frameworks/Python.framework/Versions/3.12/lib/python3.12/site-packages/scipy/stats/_morestats.py:1882: UserWarning: p-value may not be accurate for N > 5000.\n",
      "  warnings.warn(\"p-value may not be accurate for N > 5000.\")\n"
     ]
    }
   ],
   "source": [
    "stat, p = scipy.stats.shapiro(dfriver)\n",
    "print('Statistics=%.3f, p=%.3f' % (stat, p)) # print outputs with 3 decimal places\n",
    "# interpret. H0: 'the sample was drawn from a Gaussian distribution'.\n",
    "alpha = 0.05\n",
    "if p > alpha:\n",
    " print('Sample is not significantly different from Gaussian (fail to reject H0. Rejecting H0 has an error probability >0.05)')\n",
    "else:\n",
    " print('Sample is significantly different from Gaussian (reject H0 with an error probability <0.05)')"
   ]
  },
  {
   "cell_type": "markdown",
   "metadata": {},
   "source": [
    "The following 3 tests all show the actual_river_slope is not a normal distribution"
   ]
  },
  {
   "cell_type": "code",
   "execution_count": 31,
   "metadata": {},
   "outputs": [
    {
     "name": "stdout",
     "output_type": "stream",
     "text": [
      "Statistics=nan, p=nan\n",
      "Sample is significantly different from Gaussian (reject H0 with an error probability <0.05)\n"
     ]
    }
   ],
   "source": [
    "stat, p = scipy.stats.normaltest(dfriver)\n",
    "print('Statistics=%.3f, p=%.3f' % (stat, p)) # print outputs\n",
    "# interpret\n",
    "alpha = 0.05\n",
    "if p > alpha:\n",
    " print('Sample is not significantly different from Gaussian (fail to reject H0. Rejecting H0 has an error probability >0.05)')\n",
    "else:\n",
    " print('Sample is significantly different from Gaussian (reject H0 with an error probability <0.05)')"
   ]
  },
  {
   "cell_type": "code",
   "execution_count": 32,
   "metadata": {},
   "outputs": [
    {
     "name": "stdout",
     "output_type": "stream",
     "text": [
      "Statistics=nan, p=nan\n",
      "Sample is significantly different from Gaussian (reject H0 with an error probability <0.05)\n"
     ]
    }
   ],
   "source": [
    "# K-S test\n",
    "stat, p = scipy.stats.kstest(dfriver, 'norm')\n",
    "print('Statistics=%.3f, p=%.3f' % (stat, p)) # print outputs\n",
    "# interpret\n",
    "alpha = 0.05\n",
    "if p > alpha:\n",
    " print('Sample is not significantly different from Gaussian (fail to reject H0. Rejecting H0 has an error probability >0.05)')\n",
    "else:\n",
    " print('Sample is significantly different from Gaussian (reject H0 with an error probability <0.05)')"
   ]
  },
  {
   "cell_type": "code",
   "execution_count": 33,
   "metadata": {},
   "outputs": [
    {
     "name": "stdout",
     "output_type": "stream",
     "text": [
      "Statistic: nan\n",
      "critical values: [0.576 0.655 0.786 0.917 1.091]\n",
      "significance level (%): [15.  10.   5.   2.5  1. ]\n",
      "Fit results:   params: FitParams(loc=14.58243175879397, scale=22.596125027736853)\n",
      " success: False\n",
      " message: 'Optimization converged to parameter values that are inconsistent with the data.'\n",
      "15.000: 0.576, data does not look normal (reject H0)\n",
      "10.000: 0.655, data does not look normal (reject H0)\n",
      "5.000: 0.786, data does not look normal (reject H0)\n",
      "2.500: 0.917, data does not look normal (reject H0)\n",
      "1.000: 1.091, data does not look normal (reject H0)\n"
     ]
    }
   ],
   "source": [
    "result = scipy.stats.anderson(dfriver)\n",
    "\n",
    "print('Statistic: %.3f' % result.statistic)\n",
    "print('critical values:', result.critical_values)\n",
    "print('significance level (%):', result.significance_level)\n",
    "print('Fit results:', result.fit_result)\n",
    "\n",
    "p = 0\n",
    "for i in range(len(result.critical_values)):\n",
    "    slevel, cvalues = result.significance_level[i], result.critical_values[i]\n",
    "    if result.statistic < result.critical_values[i]:\n",
    "        print('%.3f: %.3f, data looks normal (fail to reject H0)' % (slevel, cvalues))\n",
    "    else:\n",
    "        print('%.3f: %.3f, data does not look normal (reject H0)' % (slevel, cvalues))"
   ]
  },
  {
   "cell_type": "markdown",
   "metadata": {},
   "source": [
    "# Step 3"
   ]
  },
  {
   "cell_type": "code",
   "execution_count": 86,
   "metadata": {},
   "outputs": [
    {
     "data": {
      "image/png": "[encoded data removed]",
      "text/plain": [
       "<Figure size 800x600 with 1 Axes>"
      ]
     },
     "metadata": {},
     "output_type": "display_data"
    },
    {
     "name": "stdout",
     "output_type": "stream",
     "text": [
      "K2 Test\n",
      "Statistics=1.329, p=0.515\n",
      "Sample is not significantly different from Gaussian (fail to reject H0. Rejecting H0 has an error probability >0.05)\n"
     ]
    }
   ],
   "source": [
    "sample_size = 2000\n",
    "num_samples = 100\n",
    "sample_slope_means = []\n",
    "\n",
    "df_river_cleaned = df.dropna(subset=['Actual_river_slope'])\n",
    "\n",
    "for _ in range(num_samples):\n",
    "    sample = np.random.choice(df_river_cleaned['Actual_river_slope'], size=sample_size, replace=True)\n",
    "    sample_slope_means.append(np.mean(sample))\n",
    "\n",
    "df_means = pd.DataFrame(sample_slope_means, columns=['Mean'])\n",
    "\n",
    "plt.figure(figsize=(8, 6))\n",
    "sns.histplot(df_means['Mean'], kde=True, stat='density')\n",
    "plt.show()\n",
    "\n",
    "print(\"K2 Test\")\n",
    "stat, p = scipy.stats.normaltest(df_means['Mean'])\n",
    "print('Statistics=%.3f, p=%.3f' % (stat, p))\n",
    "alpha = 0.05\n",
    "if p > alpha:\n",
    " print('Sample is not significantly different from Gaussian (fail to reject H0. Rejecting H0 has an error probability >0.05)')\n",
    "else:\n",
    " print('Sample is significantly different from Gaussian (reject H0 with an error probability <0.05)')\n"
   ]
  }
 ],
 "metadata": {
  "kernelspec": {
   "display_name": "Python 3",
   "language": "python",
   "name": "python3"
  },
  "language_info": {
   "codemirror_mode": {
    "name": "ipython",
    "version": 3
   },
   "file_extension": ".py",
   "mimetype": "text/x-python",
   "name": "python",
   "nbconvert_exporter": "python",
   "pygments_lexer": "ipython3",
   "version": "3.12.0"
  }
 },
 "nbformat": 4,
 "nbformat_minor": 2
}

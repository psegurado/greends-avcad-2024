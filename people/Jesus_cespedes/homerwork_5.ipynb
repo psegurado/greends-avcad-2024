{
 "cells": [
  {
   "cell_type": "code",
   "execution_count": 3,
   "metadata": {},
   "outputs": [],
   "source": [
    "import pandas as pd\n",
    "import zipfile\n",
    "import seaborn as sns # For plotting\n",
    "import matplotlib.pyplot as plt # For showing plots"
   ]
  },
  {
   "cell_type": "code",
   "execution_count": 4,
   "metadata": {},
   "outputs": [],
   "source": [
    "df = pd.read_csv('EFIplus_medit.zip',compression='zip', sep=\";\")"
   ]
  },
  {
   "cell_type": "code",
   "execution_count": 5,
   "metadata": {},
   "outputs": [
    {
     "name": "stdout",
     "output_type": "stream",
     "text": [
      "<class 'pandas.core.frame.DataFrame'>\n",
      "RangeIndex: 5011 entries, 0 to 5010\n",
      "Columns: 164 entries, Site_code to Iberochondrostoma_sp\n",
      "dtypes: float64(38), int64(120), object(6)\n",
      "memory usage: 6.3+ MB\n"
     ]
    }
   ],
   "source": [
    "df2 = df.dropna(how='all') # drops rows when all elements are missing values\n",
    "df2.info()"
   ]
  },
  {
   "cell_type": "code",
   "execution_count": 6,
   "metadata": {},
   "outputs": [
    {
     "name": "stdout",
     "output_type": "stream",
     "text": [
      "<class 'pandas.core.frame.DataFrame'>\n",
      "Index: 2822 entries, 18 to 5010\n",
      "Columns: 164 entries, Site_code to Iberochondrostoma_sp\n",
      "dtypes: float64(38), int64(120), object(6)\n",
      "memory usage: 3.6+ MB\n"
     ]
    },
    {
     "data": {
      "text/html": [
       "<div>\n",
       "<style scoped>\n",
       "    .dataframe tbody tr th:only-of-type {\n",
       "        vertical-align: middle;\n",
       "    }\n",
       "\n",
       "    .dataframe tbody tr th {\n",
       "        vertical-align: top;\n",
       "    }\n",
       "\n",
       "    .dataframe thead th {\n",
       "        text-align: right;\n",
       "    }\n",
       "</style>\n",
       "<table border=\"1\" class=\"dataframe\">\n",
       "  <thead>\n",
       "    <tr style=\"text-align: right;\">\n",
       "      <th></th>\n",
       "      <th>Site_code</th>\n",
       "      <th>Latitude</th>\n",
       "      <th>Longitude</th>\n",
       "      <th>Country</th>\n",
       "      <th>Catchment_name</th>\n",
       "      <th>Galiza</th>\n",
       "      <th>Subsample</th>\n",
       "      <th>Calib_EFI_Medit</th>\n",
       "      <th>Calib_connect</th>\n",
       "      <th>Calib_hydrol</th>\n",
       "      <th>...</th>\n",
       "      <th>Squalius malacitanus</th>\n",
       "      <th>Squalius pyrenaicus</th>\n",
       "      <th>Squalius torgalensis</th>\n",
       "      <th>Thymallus thymallus</th>\n",
       "      <th>Tinca tinca</th>\n",
       "      <th>Zingel asper</th>\n",
       "      <th>Squalius sp</th>\n",
       "      <th>Barbatula sp</th>\n",
       "      <th>Phoxinus sp</th>\n",
       "      <th>Iberochondrostoma_sp</th>\n",
       "    </tr>\n",
       "  </thead>\n",
       "  <tbody>\n",
       "    <tr>\n",
       "      <th>18</th>\n",
       "      <td>ES_03_0001</td>\n",
       "      <td>41.957268</td>\n",
       "      <td>-2.926857</td>\n",
       "      <td>Spain</td>\n",
       "      <td>Douro</td>\n",
       "      <td>0</td>\n",
       "      <td>1</td>\n",
       "      <td>1</td>\n",
       "      <td>1</td>\n",
       "      <td>1</td>\n",
       "      <td>...</td>\n",
       "      <td>0</td>\n",
       "      <td>0</td>\n",
       "      <td>0</td>\n",
       "      <td>0</td>\n",
       "      <td>0</td>\n",
       "      <td>0</td>\n",
       "      <td>1</td>\n",
       "      <td>0</td>\n",
       "      <td>0</td>\n",
       "      <td>0</td>\n",
       "    </tr>\n",
       "    <tr>\n",
       "      <th>19</th>\n",
       "      <td>ES_03_0002</td>\n",
       "      <td>41.850818</td>\n",
       "      <td>-2.591150</td>\n",
       "      <td>Spain</td>\n",
       "      <td>Douro</td>\n",
       "      <td>0</td>\n",
       "      <td>1</td>\n",
       "      <td>0</td>\n",
       "      <td>1</td>\n",
       "      <td>0</td>\n",
       "      <td>...</td>\n",
       "      <td>0</td>\n",
       "      <td>0</td>\n",
       "      <td>0</td>\n",
       "      <td>0</td>\n",
       "      <td>0</td>\n",
       "      <td>0</td>\n",
       "      <td>1</td>\n",
       "      <td>0</td>\n",
       "      <td>0</td>\n",
       "      <td>0</td>\n",
       "    </tr>\n",
       "    <tr>\n",
       "      <th>28</th>\n",
       "      <td>ES_03_0012</td>\n",
       "      <td>41.498026</td>\n",
       "      <td>-5.528753</td>\n",
       "      <td>Spain</td>\n",
       "      <td>Douro</td>\n",
       "      <td>0</td>\n",
       "      <td>1</td>\n",
       "      <td>0</td>\n",
       "      <td>1</td>\n",
       "      <td>0</td>\n",
       "      <td>...</td>\n",
       "      <td>0</td>\n",
       "      <td>0</td>\n",
       "      <td>0</td>\n",
       "      <td>0</td>\n",
       "      <td>0</td>\n",
       "      <td>0</td>\n",
       "      <td>1</td>\n",
       "      <td>0</td>\n",
       "      <td>0</td>\n",
       "      <td>0</td>\n",
       "    </tr>\n",
       "    <tr>\n",
       "      <th>32</th>\n",
       "      <td>ES_03_0016</td>\n",
       "      <td>41.586853</td>\n",
       "      <td>-3.072064</td>\n",
       "      <td>Spain</td>\n",
       "      <td>Douro</td>\n",
       "      <td>0</td>\n",
       "      <td>1</td>\n",
       "      <td>0</td>\n",
       "      <td>1</td>\n",
       "      <td>0</td>\n",
       "      <td>...</td>\n",
       "      <td>0</td>\n",
       "      <td>0</td>\n",
       "      <td>0</td>\n",
       "      <td>0</td>\n",
       "      <td>0</td>\n",
       "      <td>0</td>\n",
       "      <td>1</td>\n",
       "      <td>0</td>\n",
       "      <td>0</td>\n",
       "      <td>0</td>\n",
       "    </tr>\n",
       "    <tr>\n",
       "      <th>43</th>\n",
       "      <td>ES_03_0029</td>\n",
       "      <td>41.830177</td>\n",
       "      <td>-3.782420</td>\n",
       "      <td>Spain</td>\n",
       "      <td>Douro</td>\n",
       "      <td>0</td>\n",
       "      <td>1</td>\n",
       "      <td>0</td>\n",
       "      <td>1</td>\n",
       "      <td>0</td>\n",
       "      <td>...</td>\n",
       "      <td>0</td>\n",
       "      <td>0</td>\n",
       "      <td>0</td>\n",
       "      <td>0</td>\n",
       "      <td>0</td>\n",
       "      <td>0</td>\n",
       "      <td>1</td>\n",
       "      <td>0</td>\n",
       "      <td>0</td>\n",
       "      <td>0</td>\n",
       "    </tr>\n",
       "  </tbody>\n",
       "</table>\n",
       "<p>5 rows × 164 columns</p>\n",
       "</div>"
      ],
      "text/plain": [
       "     Site_code   Latitude  Longitude Country Catchment_name  Galiza  \\\n",
       "18  ES_03_0001  41.957268  -2.926857   Spain          Douro       0   \n",
       "19  ES_03_0002  41.850818  -2.591150   Spain          Douro       0   \n",
       "28  ES_03_0012  41.498026  -5.528753   Spain          Douro       0   \n",
       "32  ES_03_0016  41.586853  -3.072064   Spain          Douro       0   \n",
       "43  ES_03_0029  41.830177  -3.782420   Spain          Douro       0   \n",
       "\n",
       "    Subsample  Calib_EFI_Medit  Calib_connect  Calib_hydrol  ...  \\\n",
       "18          1                1              1             1  ...   \n",
       "19          1                0              1             0  ...   \n",
       "28          1                0              1             0  ...   \n",
       "32          1                0              1             0  ...   \n",
       "43          1                0              1             0  ...   \n",
       "\n",
       "    Squalius malacitanus  Squalius pyrenaicus  Squalius torgalensis  \\\n",
       "18                     0                    0                     0   \n",
       "19                     0                    0                     0   \n",
       "28                     0                    0                     0   \n",
       "32                     0                    0                     0   \n",
       "43                     0                    0                     0   \n",
       "\n",
       "    Thymallus thymallus  Tinca tinca Zingel asper Squalius sp  Barbatula sp  \\\n",
       "18                    0            0            0           1             0   \n",
       "19                    0            0            0           1             0   \n",
       "28                    0            0            0           1             0   \n",
       "32                    0            0            0           1             0   \n",
       "43                    0            0            0           1             0   \n",
       "\n",
       "   Phoxinus sp  Iberochondrostoma_sp  \n",
       "18           0                     0  \n",
       "19           0                     0  \n",
       "28           0                     0  \n",
       "32           0                     0  \n",
       "43           0                     0  \n",
       "\n",
       "[5 rows x 164 columns]"
      ]
     },
     "execution_count": 6,
     "metadata": {},
     "output_type": "execute_result"
    }
   ],
   "source": [
    "df2 = df.dropna() # drops rows when at least one element is a missing value\n",
    "df2.info()\n",
    "df2.head()"
   ]
  },
  {
   "cell_type": "code",
   "execution_count": 7,
   "metadata": {},
   "outputs": [],
   "source": [
    "import numpy as np\n",
    "import pandas as pd\n",
    "import scipy.stats as sts\n",
    "import statsmodels.stats as stm\n",
    "import scikit_posthocs as sp\n",
    "import seaborn as sns\n",
    "import matplotlib.pyplot as plt"
   ]
  },
  {
   "cell_type": "code",
   "execution_count": 8,
   "metadata": {},
   "outputs": [
    {
     "name": "stdout",
     "output_type": "stream",
     "text": [
      "[9.3, 10.4, 12.6, 11.2, 11.1, 12.4, 10.7, 10.0, 12.0, 9.9, 10.0, 10.4, 11.9, 16.4, 16.5, 10.0, 10.0, 10.0, 14.6, 12.8, 12.5, 13.3, 10.7, 13.9, 13.9, 13.0, 12.6, 13.0, 13.0, 13.4, 13.5, 13.6, 13.4, 12.0, 12.0, 12.1, 12.3, 12.3, 12.3, 12.3, 12.4, 12.4, 12.2, 12.3, 12.3, 13.5, 13.5, 13.6, 13.5, 13.5, 13.7, 11.2, 12.6, 13.4, 12.2, 12.1, 13.6, 9.3, 8.9, 11.8, 6.7, 12.0, 12.0, 11.3, 12.5, 12.6, 12.5, 11.1, 11.6, 12.6, 12.7, 14.0, 12.5, 13.6, 9.6, 12.4, 12.2, 11.8, 12.4, 10.3, 10.4, 10.5, 12.9, 12.4, 12.4, 12.5, 14.2, 15.5, 10.5, 10.5, 10.5, 10.6, 10.6, 10.7, 10.8, 11.5, 10.3, 11.6, 12.1, 12.2, 12.3, 12.7, 12.8, 12.8, 12.8, 12.8, 12.7, 12.8, 13.0, 12.8, 11.7, 12.1, 12.6, 11.1, 9.2, 11.4, 11.8, 12.1, 12.5, 12.2, 11.3, 12.2, 12.5, 12.2, 11.9, 11.9, 12.3, 12.8, 11.9, 12.4, 12.9, 13.3, 11.9, 12.3, 12.4, 13.4, 13.5, 13.2, 13.4, 13.3, 13.4, 13.9, 13.7, 13.9, 14.0, 13.8, 14.2, 14.2, 13.9, 14.2, 12.9, 11.1, 12.0, 11.8, 12.4, 12.8, 13.2, 13.2, 13.7, 13.1, 13.4, 13.7, 13.9, 13.7, 13.5, 13.5, 13.9, 13.1, 14.0, 13.9, 11.0, 11.1, 12.1, 12.0, 13.8, 14.1, 13.9, 14.1, 14.3, 14.2, 12.9, 14.0, 11.5, 13.1, 13.4, 13.9, 13.8, 14.1, 13.9, 14.0, 11.4, 13.3, 14.1, 14.1, 14.2, 14.2, 13.7, 14.0, 13.3, 14.0, 14.2, 11.3, 12.5, 13.1, 13.4, 13.1, 13.9, 14.1, 14.2, 11.3, 11.8, 13.2, 12.7, 13.6, 13.4, 13.6, 14.1, 13.2, 13.7, 14.1, 12.9, 13.0, 13.2, 13.6, 13.4, 13.4, 13.0, 14.1, 12.1, 12.8, 13.2, 13.7, 13.9, 13.2, 14.0, 13.9, 12.7, 12.5, 13.0, 12.9, 13.4, 13.1, 13.8, 14.0, 12.7, 13.5, 13.7, 14.1, 12.9, 13.6, 13.9, 13.9, 13.9, 14.2, 14.1, 14.2, 13.6, 12.6, 14.0, 14.0, 11.1, 11.2, 11.3, 11.5, 11.8, 12.2, 12.4, 12.4, 13.3, 13.5, 13.7, 12.6, 12.3, 12.4, 12.4, 12.6, 12.7, 12.7, 14.3, 13.0, 13.9, 14.0, 14.3, 11.7, 12.1, 12.4, 12.4, 12.6, 13.3, 12.9, 13.5, 13.7, 13.8, 14.0, 12.0, 12.3, 12.4, 12.4, 12.4, 12.5, 12.4, 12.3, 13.5, 12.5, 12.9, 13.5, 13.4, 12.7, 13.4, 13.5, 14.1, 14.1, 14.2, 13.5, 13.3, 13.9, 14.0, 14.2, 14.2, 14.2, 14.2, 14.2, 14.3, 14.3, 13.9, 14.1, 13.8, 14.1, 14.2, 14.0, 14.2, 14.3, 14.3, 13.4, 13.6, 13.8, 13.9, 14.1, 13.8, 14.1, 14.2, 14.1, 14.4, 14.6, 13.2, 13.9, 14.0, 13.9, 14.0, 13.8, 13.9, 14.3, 13.7, 13.2, 13.6, 13.8, 13.9, 14.0, 14.1, 14.5, 14.5, 14.6, 13.1, 13.8, 13.7, 13.8, 13.9, 14.0, 13.7, 13.7, 14.2, 14.2, 14.6, 14.8, 12.9, 12.9, 13.2, 13.2, 13.2, 13.5, 13.2, 13.4, 13.6, 13.5, 14.8, 14.7, 13.2, 14.3, 14.6, 12.4, 12.7, 12.2, 12.5, 12.7, 12.9, 13.1, 12.9, 13.2, 13.4, 13.5, 13.3, 13.3, 13.3, 13.5, 13.6, 13.7, 13.7, 13.7, 13.7, 13.8, 13.8, 13.4, 13.7, 14.4, 13.2, 13.4, 13.3, 13.4, 13.6, 13.6, 13.7, 12.9, 12.8, 13.2, 13.5, 13.2, 13.7, 13.8, 13.9, 13.9, 13.5, 13.9, 13.5, 13.2, 13.2, 13.7, 14.5, 14.1, 13.6, 14.8, 14.8, 14.7, 12.2, 12.5, 12.5, 12.6, 12.6, 12.8, 13.4, 13.4, 12.4, 12.4, 12.4, 12.6, 12.2, 12.7, 12.9, 12.8, 12.6, 13.2, 12.7, 12.7, 12.8, 12.9, 13.2, 13.4, 12.7, 13.1, 13.2, 12.1, 12.2, 12.6, 12.7, 13.0, 13.2, 13.3, 13.5, 13.5, 13.4, 13.5, 13.8, 13.2, 13.9, 14.5, 14.4, 14.5, 14.5, 14.6, 14.7, 14.5, 13.5, 13.6, 13.3, 13.4, 13.7, 13.7, 14.2, 12.3, 12.6, 12.7, 12.8, 12.8, 13.1, 13.2, 13.4, 13.7, 14.0, 14.3, 14.5, 12.6, 12.9, 13.2, 11.6, 12.5, 12.7, 12.9, 13.1, 13.5, 14.1, 14.0, 14.1, 14.5, 14.6, 13.8, 13.9, 14.0, 13.9, 14.5, 14.5, 14.6, 13.6, 13.8, 14.5, 14.6, 13.9, 14.2, 14.4, 14.2, 14.5, 14.7, 14.0, 14.6, 13.5, 13.8, 14.0, 14.7, 14.7, 14.8, 14.8, 13.7, 14.6, 14.5, 14.5, 14.5, 14.4, 14.7, 14.8, 14.7, 12.4, 12.8, 13.1, 13.2, 13.2, 14.0, 14.1, 14.7, 14.4, 14.6, 14.8, 14.8, 14.7, 13.2, 13.9, 14.0, 13.6, 13.9, 14.4, 14.2, 14.7, 14.7, 13.2, 14.1, 14.8, 11.3, 12.3, 12.5, 12.6, 13.2, 13.1, 13.4, 14.1, 14.4, 14.3, 14.4, 14.7, 14.7, 14.6, 12.7, 13.1, 13.4, 11.9, 13.4, 13.4, 13.3, 13.9, 12.0, 13.1, 12.9, 13.3, 13.7, 14.3, 14.5, 14.5, 14.5, 14.7, 14.7, 14.2, 14.7, 14.8, 11.6, 12.2, 13.0, 13.1, 13.3, 13.4, 13.6, 13.6, 14.5, 13.0, 12.9, 14.1, 11.6, 13.3, 11.9, 13.2, 13.7, 14.8, 14.5, 13.4, 14.8, 13.9, 14.9, 15.0, 15.0, 13.3, 13.8, 14.1, 15.0, 14.7, 15.0, 12.3, 12.3, 12.5, 12.5, 12.6, 12.6, 12.7, 12.7, 12.7, 12.1, 12.3, 12.0, 12.4, 11.7, 12.4, 12.5, 11.9, 12.2, 12.4, 12.6, 12.0, 12.1, 12.6, 12.7, 12.6, 11.5, 12.0, 11.7, 12.2, 12.4, 12.5, 12.6, 12.0, 12.4, 12.5, 12.6, 12.6, 12.7, 12.3, 12.2, 12.3, 12.4, 12.4, 11.8, 12.2, 12.4, 12.4, 12.4, 12.4, 12.5, 12.6, 12.6, 12.7, 12.7, 12.7, 12.2, 12.3, 12.6, 12.1, 12.5, 12.5, 12.6, 12.6, 12.6, 12.5, 12.7, 12.5, 12.5, 12.6, 12.2, 12.2, 12.5, 12.9, 12.8, 13.1, 12.6, 12.4, 12.5, 12.8, 12.3, 12.5, 12.4, 12.5, 12.8, 12.2, 12.5, 12.3, 12.5, 12.7, 13.0, 12.2, 12.5, 12.7, 12.9, 12.8, 12.4, 12.1, 12.9, 11.2, 11.6, 11.9, 12.0, 11.5, 12.5, 12.6, 12.8, 12.4, 12.5, 13.0, 13.0, 13.1, 13.0, 11.6, 11.7, 12.6, 12.0, 12.4, 12.2, 12.4, 12.7, 12.7, 13.0, 13.0, 12.4, 11.1, 11.0, 11.0, 12.2, 11.9, 12.3, 12.6, 12.2, 12.8, 12.9, 13.0, 12.2, 13.0, 13.0, 10.4, 13.0, 11.7, 12.9, 13.3, 12.7, 11.7, 12.8, 13.0, 9.6, 11.1, 11.6, 12.3, 13.1, 13.0, 12.2, 9.5, 10.4, 10.6, 11.5, 11.1, 9.6, 9.9, 10.0, 9.9, 9.1, 9.7, 10.8, 11.7, 8.6, 9.5, 10.0, 10.9, 11.9, 9.0, 9.8, 10.3, 10.7, 10.8, 12.3, 12.4, 13.1, 9.7, 10.1, 9.6, 10.1, 13.2, 10.9, 11.3, 9.6, 9.8, 10.0, 11.0, 10.9, 10.4, 10.8, 10.9, 11.6, 12.0, 11.6, 12.0, 12.2, 12.7, 12.8, 12.9, 13.5, 13.5, 10.8, 12.0, 9.4, 10.6, 11.7, 11.2, 12.4, 11.0, 11.5, 13.0, 11.5, 11.7, 10.2, 10.5, 10.8, 10.7, 13.1, 10.8, 11.4, 12.6, 13.1, 13.2, 13.5, 13.6, 13.5, 13.3, 11.4, 12.3, 13.1, 13.2, 12.2, 13.0, 13.3, 13.3, 13.4, 13.0, 12.7, 13.0, 13.6, 13.7, 13.0, 13.0, 13.6, 14.2, 13.0, 13.2, 13.4, 14.3, 12.7, 14.0, 13.4, 13.8, 12.8, 13.3, 13.6, 14.3, 14.3, 14.0, 14.2, 14.6, 13.2, 14.8, 11.9, 14.3, 11.1, 11.6, 13.6, 14.7, 14.6, 12.3, 13.2, 13.0, 12.7, 13.4, 13.8, 14.5, 14.7, 14.7, 12.0, 12.2, 12.4, 12.9, 12.3, 12.3, 13.0, 12.5, 12.6, 12.8, 13.4, 13.2, 11.2, 12.1, 12.5, 13.1, 11.8, 13.1, 13.1, 13.3, 14.0, 12.4, 12.7, 13.0, 13.0, 13.5, 13.5, 13.4, 10.8, 11.0, 11.5, 12.0, 11.7, 12.2, 12.6, 12.5, 12.2, 12.9, 13.1, 13.3, 13.6, 13.8, 14.1, 12.0, 12.4, 12.3, 12.5, 13.4, 13.5, 13.8, 13.4, 13.7, 12.8, 13.8, 12.0, 12.2, 12.6, 14.6, 14.8, 13.9, 14.8, 12.8, 14.4, 14.7, 14.8, 14.6, 14.8, 14.8, 14.8, 14.9, 14.9, 14.9, 15.0, 15.0, 15.0, 14.2, 14.5, 13.7, 14.7, 14.8, 14.9, 14.6, 14.8, 14.8, 14.9, 14.9, 14.8, 14.8, 14.8, 14.7, 14.8, 13.6, 14.5, 14.7, 11.5, 12.1, 12.2, 12.5, 13.3, 11.0, 11.4, 12.0, 11.2, 12.2, 12.2, 10.6, 12.2, 10.2, 11.3, 12.0, 12.3, 11.9, 12.5, 10.9, 11.1, 11.3, 11.8, 13.4, 11.0, 10.9, 11.4, 13.2, 13.4, 11.7, 13.0, 13.1, 10.9, 12.9, 13.0, 13.2, 13.4, 13.6, 13.6, 12.4, 12.6, 12.2, 12.9, 11.3, 12.6, 13.1, 12.7, 13.5, 11.9, 13.4, 11.0, 11.8, 11.7, 11.0, 11.5, 12.5, 12.2, 9.9, 11.4, 11.0, 11.1, 10.5, 11.5, 10.9, 10.6, 14.0, 14.5, 14.8, 11.8, 12.5, 12.6, 10.8, 12.1, 14.1, 14.0, 13.9, 14.0, 14.1, 13.5, 11.5, 14.0, 13.4, 13.8, 14.1, 14.2, 11.2, 13.0, 14.1, 14.2, 14.2, 14.1, 13.8, 13.3, 14.0, 13.8, 14.0, 11.4, 13.1, 13.1, 13.9, 14.0, 14.3, 11.8, 13.0, 12.7, 13.8, 14.2, 14.2, 14.3, 14.4, 14.0, 14.5, 14.6, 14.6, 14.7, 14.5, 13.3, 13.7, 14.2, 14.6, 13.9, 13.9, 14.5, 13.5, 13.9, 13.7, 14.2, 14.2, 14.6, 14.5, 14.5, 14.7, 14.8, 14.8, 13.7, 14.6, 14.5, 14.5, 14.7, 14.7, 14.6, 14.8, 12.0, 12.3, 12.4, 12.4, 13.1, 12.9, 13.3, 13.7, 12.1, 12.4, 12.4, 12.4, 11.8, 12.8, 13.5, 13.2, 12.7, 13.5, 14.1, 14.2, 12.8, 13.0, 13.1, 13.4, 14.0, 14.3, 13.1, 14.3, 14.1, 12.0, 12.4, 12.5, 12.9, 13.2, 14.1, 14.2, 14.2, 14.5, 14.4, 14.5, 12.3, 12.4, 13.0, 12.3, 13.4, 13.1, 13.3, 13.9, 14.2, 13.1, 13.2, 13.3, 14.4, 13.3, 14.6, 14.5, 14.5, 14.7, 8.4, 9.4, 8.3, 9.4, 9.8, 8.5, 10.2, 10.9, 11.9, 12.3, 11.9, 12.7, 12.7, 11.2, 12.4, 9.9, 10.9, 12.4, 12.8, 7.1, 7.6, 8.4, 8.9, 9.4, 9.7, 10.2, 10.3, 10.6, 10.7, 10.7, 11.0, 10.6, 10.4, 11.4, 11.4, 11.6, 11.3, 11.7, 12.0, 12.4, 12.4, 12.6, 12.7, 12.7, 12.8, 12.9, 13.0, 13.0, 12.5, 13.0, 13.3, 13.3, 7.6, 8.0, 7.9, 8.0, 7.4, 8.8, 7.1, 8.9, 9.2, 9.7, 9.9, 6.9, 7.6, 8.3, 9.2, 7.4, 8.2, 10.3, 10.1, 9.8, 8.3, 7.7, 10.5, 8.8, 8.8, 9.0, 9.0, 9.1, 10.9, 8.2, 8.3, 9.9, 10.9, 10.0, 11.3, 11.6, 11.7, 12.5, 10.8, 11.6, 9.5, 9.1, 10.0, 9.8, 10.2, 10.5, 10.6, 10.7, 10.8, 11.3, 11.4, 11.6, 11.7, 11.9, 12.1, 12.2, 12.3, 12.6, 12.6, 10.1, 10.2, 9.4, 10.4, 10.2, 9.2, 9.9, 8.8, 11.8, 11.9, 9.5, 10.8, 11.2, 11.8, 10.5, 11.8, 9.9, 10.7, 11.3, 10.9, 11.5, 10.6, 9.4, 10.1, 10.9, 10.2, 9.9, 10.4, 11.0, 10.9, 11.1, 9.9, 8.3, 8.6, 9.5, 9.0, 9.0, 10.2, 10.0, 10.5, 10.9, 10.8, 10.6, 10.5, 11.1, 11.6, 12.0, 11.9, 12.4, 12.3, 12.8, 13.1, 9.1, 9.8, 9.9, 9.7, 9.5, 10.7, 8.1, 8.0, 10.5, 10.2, 10.8, 12.0, 11.9, 7.0, 11.5, 12.8, 12.4, 8.7, 9.0, 9.4, 9.8, 10.0, 10.1, 10.5, 10.7, 11.2, 11.5, 11.8, 11.9, 11.9, 11.9, 12.6, 12.6, 12.7, 12.8, 12.9, 13.0, 9.5, 10.1, 10.2, 10.2, 10.6, 10.8, 8.9, 9.0, 8.4, 9.5, 10.5, 10.4, 10.6, 11.9, 11.5, 12.2, 9.9, 10.3, 10.6, 10.1, 10.5, 10.9, 11.5, 11.7, 11.7, 12.4, 12.6, 12.7, 12.8, 12.7, 8.4, 10.2, 9.9, 9.9, 11.0, 10.9, 10.9, 11.2, 11.8, 12.0, 10.8, 12.4, 11.8, 10.5, 10.6, 11.4, 11.7, 10.3, 10.9, 10.5, 11.2, 11.5, 12.0, 11.8, 11.6, 11.6, 10.7, 11.6, 10.6, 10.7, 11.3, 11.6, 11.2, 12.2, 12.2, 12.7, 12.5, 12.4, 13.0, 12.5, 11.4, 11.8, 11.8, 10.6, 11.0, 10.9, 11.5, 12.4, 12.6, 12.7, 10.2, 9.9, 11.2, 12.2, 12.4, 8.7, 9.1, 8.5, 8.7, 9.8, 9.7, 10.5, 10.9, 10.8, 10.0, 10.1, 8.6, 10.0, 11.3, 8.6, 9.5, 9.6, 9.7, 11.6, 8.0, 11.4, 9.3, 9.9, 10.9, 11.4, 11.4, 11.6, 11.6, 10.1, 10.1, 10.7, 12.6, 12.8, 12.5, 12.1, 12.5, 13.1, 13.8, 14.5, 12.8, 14.1, 14.2, 13.9, 14.2, 14.0, 14.2, 14.3, 14.2, 14.3, 12.5, 13.4, 14.1, 13.9, 14.0, 14.1, 14.1, 13.5, 14.2, 13.9, 13.5, 13.8, 13.8, 13.8, 13.4, 14.1, 12.2, 12.4, 12.7, 13.6, 13.3, 13.7, 14.3, 12.9, 14.1, 13.5, 13.3, 14.2, 12.5, 13.6, 13.7, 13.7, 14.2, 14.4, 14.6, 12.7, 13.2, 14.3, 14.3, 13.5, 13.6, 14.4, 14.3, 14.4, 13.5, 14.2, 14.0, 14.6, 11.7, 12.5, 14.6, 14.3, 14.3, 13.8, 14.6, 14.6, 13.7, 13.8, 13.9, 13.5, 13.0, 13.3, 12.9, 13.7, 14.4, 13.7, 11.4, 12.3, 13.8, 14.2, 14.4, 14.0, 14.2, 14.1, 12.8, 14.3, 13.2, 14.2, 13.2, 13.5, 14.2, 14.2, 14.0, 14.2, 14.2, 14.4, 14.3, 13.5, 13.7, 14.3, 13.4, 14.1, 13.7, 12.7, 12.6, 14.5, 14.2, 12.6, 13.7, 12.4, 14.2, 14.5, 14.0, 12.5, 14.4, 13.7, 11.7, 12.7, 13.3, 13.0, 13.5, 14.3, 13.5, 14.3, 11.5, 12.5, 13.7, 13.1, 13.9, 13.6, 13.2, 13.2, 13.4, 13.8, 13.5, 13.2, 13.1, 13.7, 14.4, 12.5, 13.0, 14.6, 14.6, 14.2, 14.3, 14.0, 13.9, 13.4, 14.2, 14.1, 14.1, 14.2, 14.2, 13.6, 14.3, 13.3, 14.4, 14.2, 14.7, 15.0, 12.6, 14.9, 14.6, 13.2, 11.2, 14.0, 12.1, 13.0, 12.6, 12.4, 12.7, 13.6, 12.3, 13.3, 13.0, 10.3, 12.6, 12.0, 13.8, 11.0, 13.1, 11.6, 11.7, 13.0, 12.0, 12.9, 12.3, 14.2, 11.9, 11.0, 13.6, 13.5, 11.9, 13.3, 10.1, 12.5, 13.0, 13.4, 10.9, 11.3, 12.9, 13.6, 12.3, 13.4, 10.9, 13.9, 11.6, 10.6, 10.5, 13.4, 11.4, 13.0, 13.8, 10.5, 13.9, 14.1, 10.5, 8.8, 13.5, 13.1, 14.1, 11.4, 11.2, 13.2, 12.0, 14.1, 14.0, 13.8, 13.9, 12.4, 13.8, 14.2, 13.5, 13.5, 11.8, 13.9, 12.9, 13.5, 13.3, 14.2, 13.8, 13.8, 13.8, 14.2, 13.4, 14.4, 11.9, 13.5, 12.8, 13.4, 13.6, 13.4, 13.2, 12.8, 13.4, 13.8, 13.4, 13.9, 14.4, 14.1, 13.7, 13.6, 11.2, 12.9, 12.6, 13.9, 10.5, 8.3, 10.7, 11.8, 11.8, 14.1, 13.6, 13.7, 14.0, 14.3, 14.1, 12.9, 13.2, 14.1, 12.5, 12.2, 8.6, 9.9, 11.6, 10.7, 10.8, 11.6, 13.5, 13.4, 12.8, 12.9, 11.2, 14.1, 13.9, 14.2, 14.0, 14.0, 14.0, 13.3, 13.6, 13.1, 13.9, 13.8, 13.6, 13.9, 13.7, 13.8, 13.5, 13.1, 11.8, 12.5, 11.7, 14.1, 14.0, 14.0, 14.3, 13.3, 13.1, 12.9, 11.8, 12.0, 12.7, 12.1, 11.6, 12.1, 13.0, 12.9, 12.5, 11.3, 11.7, 11.2, 13.4, 13.3, 13.1, 13.2, 12.3, 12.6, 12.5, 12.1, 11.5, 11.2, 11.6, 11.1, 12.2, 11.5, 12.1, 12.0, 12.6, 16.6, 16.4, 15.4, 17.2, 17.3, 16.9, 12.0, 16.0, 15.2, 13.8, 15.9, 12.6, 12.8, 13.2, 12.9, 12.7, 13.3, 13.5, 12.5, 13.7, 13.8, 13.8, 13.9, 13.9, 14.1, 14.1, 13.9, 12.7, 12.9, 13.5, 13.3, 13.4, 13.2, 13.7, 13.1, 13.2, 14.4, 14.4, 14.0, 14.1, 14.2, 14.6, 13.0, 13.8, 13.2, 14.1, 14.4, 14.5, 14.6, 14.3, 14.5, 13.3, 12.9, 13.0, 15.2, 13.3, 13.7, 14.5, 14.4, 10.5, 14.4, 14.9, 10.8, 14.6, 14.8, 14.6, 14.6, 11.6, 14.0, 10.8, 9.4, 10.8, 14.7, 14.8, 14.4, 14.5, 14.5, 14.8, 14.8, 12.4, 13.8, 15.4, 13.3, 15.4, 13.3, 13.0, 13.8, 12.2, 13.7, 14.6, 15.1, 13.5, 12.7, 12.7, 13.6, 15.3, 12.9, 12.4, 13.6, 13.2, 13.4, 14.5, 13.5, 13.8, 12.7, 13.9, 15.3, 15.3, 15.1, 15.1, 13.7, 14.3, 15.0, 14.7, 13.8, 13.8, 11.9, 11.6, 11.2, 12.1, 12.1, 12.7, 12.6, 15.0, 14.8, 14.3, 13.8, 13.5, 13.1, 14.7, 13.6, 15.4, 14.3, 13.3, 15.0, 12.5, 15.3, 15.3, 12.2, 11.6, 13.8, 14.7, 11.2, 13.1, 13.1, 15.0, 13.7, 13.0, 14.5, 12.7, 14.7, 13.7, 13.3, 15.1, 14.9, 10.1, 14.6, 13.5, 12.4, 13.3, 12.5, 14.7, 15.3, 15.3, 15.1, 14.4, 14.6, 14.7, 14.7, 14.7, 14.6, 11.2, 12.1, 14.5, 13.9, 12.0, 14.4, 14.2, 14.3, 13.8, 12.5, 12.8, 12.8, 14.8, 12.7, 15.2, 13.8, 12.7, 13.3, 14.5, 14.6, 13.6, 11.7, 13.6, 14.3, 14.7, 14.5, 15.2, 12.5, 14.7, 13.6, 13.7, 14.5, 14.5, 12.8, 11.7, 12.1, 12.7, 11.4, 13.7, 13.9, 14.7, 12.5, 11.9, 12.8, 14.4, 14.4, 13.9, 13.4, 13.9, 13.2, 12.3, 12.6, 13.3, 13.8, 13.7, 12.4, 15.4, 10.1, 14.6, 12.1, 13.3, 13.3, 15.2, 14.9, 14.9, 14.4, 14.7, 15.5, 12.6, 12.6, 12.6, 12.5, 12.6, 12.6, 12.4, 12.2, 12.3, 12.3, 11.6, 12.0, 12.0, 12.5, 12.3, 14.2, 13.8, 13.7, 14.7, 14.7, 13.3, 13.2, 12.5, 13.5, 14.0, 13.5, 14.1, 13.0, 12.9, 13.6, 13.7, 12.0, 12.8, 12.5, 12.7, 11.7, 11.9, 13.1, 13.3, 14.1, 15.0, 14.1, 14.3, 14.1, 14.2, 14.0, 13.1, 12.9, 12.7, 12.5, 11.5, 13.1, 12.7, 14.1, 15.5, 15.7, 15.4, 15.5, 14.9, 14.9, 16.9, 17.0, 16.9, 16.8, 17.2, 16.9, 16.9, 17.1, 17.0, 17.1, 17.0, 17.0, 16.7, 17.0, 17.4, 17.5, 16.9, 16.8, 17.2, 16.1, 16.3, 15.7, 16.7, 15.2, 15.2, 16.4, 17.3, 17.5, 16.1, 16.7, 16.5, 16.7, 16.9, 16.3, 16.7, 16.6, 16.8, 17.0, 16.3, 16.8, 17.0, 16.7, 17.0, 16.8, 16.8, 16.8, 17.1, 17.2, 17.0, 17.0, 17.1, 16.7, 17.0, 17.2, 16.2, 16.1, 17.0, 16.4, 17.2, 16.7, 17.1, 16.8, 16.9, 17.2, 16.6, 16.8, 17.2, 17.1, 16.9, 16.9, 17.1, 17.0, 16.7, 17.5, 17.3, 17.1, 16.8, 16.9, 16.8, 17.3, 17.3, 16.8, 17.0, 16.8, 16.9, 16.8, 17.0, 16.8, 17.1, 16.6, 17.2, 16.8, 17.0, 16.9, 16.9, 17.3, 17.2, 17.0, 17.2, 15.7, 15.7, 15.9, 14.1, 14.3, 14.3, 14.8, 14.9, 14.7, 14.7, 14.8, 14.8, 13.4, 14.3, 14.8, 14.8, 14.8, 14.1, 14.7, 14.4, 14.7, 14.7, 14.3, 14.8, 14.5, 14.6, 14.1, 14.8, 13.8, 14.5, 12.4, 14.4, 14.6, 14.5, 14.7, 14.8, 13.7, 13.8, 14.4, 14.9, 14.5, 14.8, 14.7, 12.9, 14.2, 15.8, 15.9, 15.1, 15.8, 15.7, 15.6, 15.5, 14.6, 12.9, 14.8, 13.5, 13.5, 13.6, 13.6, 14.2, 14.3, 17.0, 16.8, 16.7, 16.9, 16.8, 15.2, 14.8, 14.7, 14.5, 14.6, 14.9, 13.7, 14.5, 15.8, 15.9, 15.8, 16.0, 15.8, 15.9, 15.7, 15.9, 15.8, 15.9, 16.0, 16.0, 15.8, 16.2, 14.6, 14.6, 15.2, 15.6, 15.4, 11.0, 12.0, 10.4, 13.3, 14.1, 15.3, 15.2, 15.6, 16.1, 15.8, 16.0, 14.7, 16.1, 15.7, 16.2, 15.8, 15.9, 16.0, 16.1, 15.9, 16.2, 15.7, 14.7, 14.5, 15.6, 15.5, 15.4, 14.9, 15.9, 16.3, 16.2, 16.1, 16.2, 15.5, 15.0, 14.7, 14.7, 14.0, 14.4, 15.0, 15.1, 14.8, 13.5, 12.8, 12.8, 14.8, 15.4, 11.7, 12.0, 14.7, 14.1, 14.4, 14.2, 12.8, 12.8, 16.2, 16.1, 16.0, 15.9, 17.0, 16.7, 16.7, 16.4, 16.6, 16.7, 16.6, 16.8, 16.6, 16.9, 16.8, 16.7, 16.9, 16.8, 16.9, 16.7, 16.4, 16.0, 17.1, 17.1, 17.1, 17.1, 17.1, 17.2, 16.9, 16.6, 16.4, 16.6, 16.7, 16.6, 16.6, 16.5, 17.1, 17.4, 16.4, 16.3, 16.9, 17.0, 16.9, 16.6, 16.4, 16.7, 15.8, 16.7, 16.7, 16.6, 16.6, 16.8, 17.0, 16.6, 17.2, 16.8, 17.0, 17.0, 17.2, 16.6, 15.8, 15.7, 15.7, 15.6, 15.7, 15.7, 15.7, 15.7, 15.6, 15.2, 15.6, 15.6, 15.5, 15.0, 15.6, 15.4, 15.5, 15.6, 15.3, 15.9, 15.0, 15.6, 15.7, 15.7, 15.8, 15.6, 17.3, 16.9, 16.7, 17.1, 16.5, 16.6, 16.5, 16.5, 17.0, 17.0, 16.4, 16.5, 14.5, 16.3, 16.5, 16.9, 16.4, 16.0, 16.3, 16.0, 14.4, 14.8, 15.4, 16.7, 16.7, 15.7, 16.1, 16.3, 16.1, 16.2, 12.9, 15.2, 15.5, 15.1, 14.8, 15.3, 15.5, 15.1, 15.4, 14.5, 15.0, 13.3, 16.7, 16.3, 16.2, 14.4, 13.8, 13.4, 16.2, 15.7, 16.4, 16.7, 15.9, 16.0, 15.3, 16.9, 17.1, 17.1, 17.0, 16.6, 17.0, 16.9, 16.9, 16.9, 17.0, 15.7, 16.2, 15.9, 15.4, 16.7, 17.0, 16.9, 17.2, 16.2, 16.8, 16.6, 16.7, 16.5, 16.8, 16.3, 15.7, 16.0, 15.7, 14.5, 14.6, 14.6, 15.9, 14.3, 15.1, 16.6, 16.8, 16.7, 16.6, 16.9, 14.5, 14.2, 16.0, 15.6, 15.7, 15.4, 13.8, 14.6, 14.6, 14.7, 14.6, 14.8, 15.0, 16.1, 16.0, 15.0, 14.9, 16.5, 15.0, 16.1, 16.1, 16.6, 16.4, 16.8, 15.0, 16.8, 16.8, 15.4, 14.6, 15.0, 16.2, 16.6, 16.1, 16.6, 16.6, 16.4, 17.0, 17.0, 16.1, 16.7, 14.9, 15.8, 15.4, 16.5, 14.8, 15.5, 14.7, 16.0, 16.5, 16.0, 17.1, 16.7, 16.2, 16.5, 16.7, 16.8, 16.6, 16.9, 17.1, 16.5, 16.8, 15.2, 15.3, 16.5, 16.0, 16.3, 15.6, 14.4, 15.3, 14.9, 15.5, 15.0, 15.8, 15.8, 15.7, 15.5, 16.8, 14.8, 13.4, 17.0, 16.7, 16.8, 17.1, 15.0, 15.3, 15.8, 14.7, 16.7, 16.7, 16.4, 16.8, 16.7, 16.6, 17.1, 17.0, 17.1, 17.0, 16.8, 17.0, 17.1, 17.1, 17.0, 17.0, 17.0, 17.1, 16.9, 17.0, 17.0, 17.1, 17.0, 17.1, 17.1, 17.1, 17.0, 17.1, 15.0, 15.2, 9.9, 10.5, 15.0, 15.1, 15.5, 14.4, 14.6, 14.5, 13.6, 13.0, 14.4, 14.3, 15.2, 12.3, 17.2, 17.1, 17.1, 16.7, 16.7, 16.8, 15.1, 14.3, 14.4, 14.8, 13.7, 14.3, 11.9, 14.0, 15.1, 15.2, 15.2, 15.0, 15.4, 15.3, 15.1, 15.4, 15.3, 15.2, 14.9, 15.0, 13.8, 13.1, 12.7, 14.3, 14.3, 13.8, 14.6, 15.2, 15.2, 14.8, 15.6, 15.0, 14.1, 14.4, 15.3, 12.5, 15.1, 15.3, 13.6, 13.9, 13.8, 14.0, 15.1, 15.0, 14.7, 14.1, 14.6, 14.2, 14.6, 15.1, 15.0, 13.1, 13.5, 14.7, 14.9, 15.0, 15.0, 12.9, 14.8]\n"
     ]
    }
   ],
   "source": [
    "data = df2['temp_ann'].tolist()\n",
    "print(data)"
   ]
  },
  {
   "cell_type": "code",
   "execution_count": 9,
   "metadata": {},
   "outputs": [
    {
     "data": {
      "image/png": "[encoded data removed]",
      "text/plain": [
       "<Figure size 640x480 with 1 Axes>"
      ]
     },
     "metadata": {},
     "output_type": "display_data"
    }
   ],
   "source": [
    "# Take random samples from data (n=30)\n",
    "import random\n",
    "random.seed(42)\n",
    "sample1 = random.sample(data, 30)\n",
    "sns.histplot(sample1)\n",
    "plt.show()"
   ]
  },
  {
   "cell_type": "markdown",
   "metadata": {},
   "source": [
    "Compute the statistic and check *p-value*"
   ]
  },
  {
   "cell_type": "code",
   "execution_count": 10,
   "metadata": {},
   "outputs": [
    {
     "name": "stdout",
     "output_type": "stream",
     "text": [
      "t-stat=-93.879, p-value=0.000\n"
     ]
    }
   ],
   "source": [
    "# perform one sample t-test. \n",
    "# H0: The population mean is 40\n",
    "stat, p = sts.ttest_1samp(a=sample1, popmean=40)\n",
    "print('t-stat=%.3f, p-value=%.3f' % (stat, p))"
   ]
  },
  {
   "cell_type": "code",
   "execution_count": 11,
   "metadata": {},
   "outputs": [
    {
     "data": {
      "image/png": "[encoded data removed]",
      "text/plain": [
       "<Figure size 640x480 with 1 Axes>"
      ]
     },
     "metadata": {},
     "output_type": "display_data"
    }
   ],
   "source": [
    "sns.boxplot(y=sample1)\n",
    "plt.ylabel('Annual temperature')\n",
    "plt.title(\"\")\n",
    "plt.show()"
   ]
  },
  {
   "cell_type": "code",
   "execution_count": 12,
   "metadata": {},
   "outputs": [
    {
     "name": "stdout",
     "output_type": "stream",
     "text": [
      "Mean of original data: 14.020000000000003\n",
      "Standard deviation of original data: 1.4902796158215856\n",
      "Mean of standardized data: -2.135328950695718e-15\n",
      "Standard deviation of standardized data: 1.0\n",
      "95% Confidence Interval for standardized data: (-1.9599639845400563, 1.9599639845400518)\n"
     ]
    },
    {
     "data": {
      "image/png": "[encoded data removed]",
      "text/plain": [
       "<Figure size 640x480 with 1 Axes>"
      ]
     },
     "metadata": {},
     "output_type": "display_data"
    }
   ],
   "source": [
    "import numpy as np\n",
    "import scipy.stats as stats\n",
    "\n",
    "# Calculamos la media y la desviación estándar original\n",
    "mean_original = np.mean(sample1)\n",
    "std_original = np.std(sample1)\n",
    "\n",
    "# Estandarizamos los datos utilizando la puntuación Z (Z-score)\n",
    "sample1_zscore = (sample1 - mean_original) / std_original\n",
    "\n",
    "# Calculamos la nueva media y la nueva desviación estándar de los datos estandarizados\n",
    "mean_new = np.mean(sample1_zscore)\n",
    "std_new = np.std(sample1_zscore)\n",
    "\n",
    "# Calculamos el intervalo de confianza del 95% para los datos estandarizados\n",
    "ci_95 = stats.norm.interval(0.95, loc=mean_new, scale=std_new)\n",
    "\n",
    "print(\"Mean of original data:\", mean_original)\n",
    "print(\"Standard deviation of original data:\", std_original)\n",
    "print(\"Mean of standardized data:\", mean_new)\n",
    "print(\"Standard deviation of standardized data:\", std_new)\n",
    "print(\"95% Confidence Interval for standardized data:\", ci_95)\n",
    "\n",
    "# Visualizamos el histograma de los datos estandarizados\n",
    "sns.histplot(sample1_zscore)\n",
    "plt.xlabel('Z-score')\n",
    "plt.ylabel('Frequency')\n",
    "plt.title('Histogram of Standardized Data')\n",
    "plt.show()\n"
   ]
  },
  {
   "cell_type": "code",
   "execution_count": 17,
   "metadata": {},
   "outputs": [
    {
     "data": {
      "image/png": "[encoded data removed]",
      "text/plain": [
       "<Figure size 640x480 with 1 Axes>"
      ]
     },
     "metadata": {},
     "output_type": "display_data"
    }
   ],
   "source": [
    "sns.boxplot(x=\"Salmo trutta fario\", y=\"temp_ann\", data=df2)\n",
    "plt.ylabel('Annual temperature')\n",
    "plt.title(\"0 absence - 1 presence\")\n",
    "plt.show()"
   ]
  },
  {
   "cell_type": "code",
   "execution_count": null,
   "metadata": {},
   "outputs": [],
   "source": [
    "import numpy as np\n",
    "import scipy.stats as stats\n",
    "\n",
    "# Calculamos la media y la desviación estándar original\n",
    "mean_original = np.mean(sample1)\n",
    "std_original = np.std(sample1)\n",
    "\n",
    "# Estandarizamos los datos utilizando la puntuación Z (Z-score)\n",
    "sample1_zscore = (sample1 - mean_original) / std_original\n",
    "\n",
    "# Calculamos la nueva media y la nueva desviación estándar de los datos estandarizados\n",
    "mean_new = np.mean(sample1_zscore)\n",
    "std_new = np.std(sample1_zscore)\n",
    "\n",
    "# Calculamos el intervalo de confianza del 95% para los datos estandarizados\n",
    "ci_95 = stats.norm.interval(0.95, loc=mean_new, scale=std_new)\n",
    "\n",
    "print(\"Mean of original data:\", mean_original)\n",
    "print(\"Standard deviation of original data:\", std_original)\n",
    "print(\"Mean of standardized data:\", mean_new)\n",
    "print(\"Standard deviation of standardized data:\", std_new)\n",
    "print(\"95% Confidence Interval for standardized data:\", ci_95)\n",
    "\n",
    "# Visualizamos el histograma de los datos estandarizados\n",
    "sns.histplot(sample1_zscore)\n",
    "plt.xlabel('Z-score')\n",
    "plt.ylabel('Frequency')\n",
    "plt.title('Histogram of Standardized Data')\n",
    "plt.show()"
   ]
  },
  {
   "cell_type": "code",
   "execution_count": 26,
   "metadata": {},
   "outputs": [
    {
     "name": "stdout",
     "output_type": "stream",
     "text": [
      "t-stat=10.712, p-value=0.000\n",
      "H0 is rejected. There is enough evidence to say that the means are different\n"
     ]
    }
   ],
   "source": [
    "dfsub_0 = df2[(df2['Salmo trutta fario']==0)]\n",
    "dfsub_1 = df2[(df2['Salmo trutta fario']==1)]\n",
    "# Tomar muestras aleatorias de tamaño 30 de cada grupo\n",
    "dfsub_0_sample = random.sample(dfsub_0['temp_ann'].tolist(), 100)\n",
    "dfsub_1_sample = random.sample(dfsub_1['temp_ann'].tolist(), 100)\n",
    "\n",
    "# Realizar la prueba t de Student para muestras emparejadas\n",
    "stat, p = sts.ttest_rel(dfsub_0_sample, dfsub_1_sample)\n",
    "\n",
    "print('t-stat=%.3f, p-value=%.3f' % (stat, p))\n",
    "alpha = 0.05\n",
    "if p > alpha:\n",
    "    print('H0 is not rejected. There is not enough evidence to say that the means are different')\n",
    "else:\n",
    "    print('H0 is rejected. There is enough evidence to say that the means are different')"
   ]
  },
  {
   "cell_type": "code",
   "execution_count": 30,
   "metadata": {},
   "outputs": [
    {
     "name": "stdout",
     "output_type": "stream",
     "text": [
      "Mean of original data: 14.020000000000003\n",
      "Standard deviation of original data: 1.4902796158215856\n",
      "Mean of standardized data: -2.135328950695718e-15\n",
      "Standard deviation of standardized data: 1.0\n",
      "95% Confidence Interval for standardized data: (-1.9599639845400563, 1.9599639845400518)\n"
     ]
    },
    {
     "data": {
      "image/png": "[encoded data removed]",
      "text/plain": [
       "<Figure size 640x480 with 1 Axes>"
      ]
     },
     "metadata": {},
     "output_type": "display_data"
    }
   ],
   "source": [
    "import numpy as np\n",
    "import scipy.stats as stats\n",
    "\n",
    "# Calculamos la media y la desviación estándar original\n",
    "mean_original = np.mean(sample1)\n",
    "std_original = np.std(sample1)\n",
    "\n",
    "# Estandarizamos los datos utilizando la puntuación Z (Z-score)\n",
    "sample1_zscore = (sample1 - mean_original) / std_original\n",
    "\n",
    "# Calculamos la nueva media y la nueva desviación estándar de los datos estandarizados\n",
    "mean_new = np.mean(sample1_zscore)\n",
    "std_new = np.std(sample1_zscore)\n",
    "\n",
    "# Calculamos el intervalo de confianza del 95% para los datos estandarizados\n",
    "ci_95 = stats.norm.interval(0.95, loc=mean_new, scale=std_new)\n",
    "\n",
    "print(\"Mean of original data:\", mean_original)\n",
    "print(\"Standard deviation of original data:\", std_original)\n",
    "print(\"Mean of standardized data:\", mean_new)\n",
    "print(\"Standard deviation of standardized data:\", std_new)\n",
    "print(\"95% Confidence Interval for standardized data:\", ci_95)\n",
    "\n",
    "# Visualizamos el histograma de los datos estandarizados\n",
    "sns.histplot(sample1_zscore)\n",
    "plt.xlabel('Z-score')\n",
    "plt.ylabel('Frequency')\n",
    "plt.title('Histogram of Standardized Data')\n",
    "plt.show()\n"
   ]
  },
  {
   "cell_type": "code",
   "execution_count": 29,
   "metadata": {},
   "outputs": [
    {
     "name": "stdout",
     "output_type": "stream",
     "text": [
      "Statistics=7.588, p=0.006\n",
      "reject H0 with an error probability <0.05)\n"
     ]
    }
   ],
   "source": [
    "from scipy.stats import ttest_ind, mannwhitneyu\n",
    "\n",
    "# Obtener los subconjuntos de datos para presencia y ausencia de Salmo trutta fario\n",
    "presence_sites = df2[df2['Salmo trutta fario'] == 1]['temp_ann']\n",
    "absence_sites = df2[df2['Salmo trutta fario'] == 0]['temp_ann']\n",
    "\n",
    "\n",
    "# Estandarizar los datos\n",
    "presence_sites_std = (presence_sites - np.mean(presence_sites)) / np.std(presence_sites)\n",
    "absence_sites_std = (absence_sites - np.mean(absence_sites)) / np.std(absence_sites)\n",
    "\n",
    "# Homogeneity of variances\n",
    "# Leven's test - tests the null hypothesis that the population variances are equal\n",
    "stat, p = sts.levene(presence_sites_std, absence_sites_std, center='median')\n",
    "print('Statistics=%.3f, p=%.3f' % (stat, p)) # print outputs\n",
    "alpha=0.05\n",
    "if p > alpha:\n",
    " print('fail to reject H0. Rejecting H0 has an error probability >0.05')\n",
    "else:\n",
    " print('reject H0 with an error probability <0.05)')"
   ]
  },
  {
   "cell_type": "code",
   "execution_count": 31,
   "metadata": {},
   "outputs": [
    {
     "data": {
      "image/png": "[encoded data removed]",
      "text/plain": [
       "<Figure size 800x600 with 1 Axes>"
      ]
     },
     "metadata": {},
     "output_type": "display_data"
    }
   ],
   "source": [
    "# Crear un DataFrame para los datos estandarizados\n",
    "data_std = pd.DataFrame({'Presence': presence_sites_std, 'Absence': absence_sites_std})\n",
    "\n",
    "# Crear un diagrama de caja para los datos estandarizados\n",
    "plt.figure(figsize=(8, 6))\n",
    "sns.boxplot(data=data_std)\n",
    "plt.xlabel('Presence vs Absence')\n",
    "plt.ylabel('Standardized Annual Temperature')\n",
    "plt.title('Boxplot of Standardized Annual Temperature')\n",
    "plt.show()"
   ]
  },
  {
   "cell_type": "code",
   "execution_count": null,
   "metadata": {},
   "outputs": [],
   "source": [
    "sns.boxplot(x=\"Salmo trutta fario\", y=\"temp_ann\", data=df2)\n",
    "plt.ylabel('Annual temperature')\n",
    "plt.title(\"0 absence - 1 presence\")\n",
    "plt.show()"
   ]
  },
  {
   "cell_type": "markdown",
   "metadata": {},
   "source": [
    "### Section 3"
   ]
  },
  {
   "cell_type": "code",
   "execution_count": 32,
   "metadata": {},
   "outputs": [
    {
     "name": "stdout",
     "output_type": "stream",
     "text": [
      "col_0                  count\n",
      "Catchment_name              \n",
      "Galiza-Norte             702\n",
      "Minho                    699\n",
      "Cantabrica               345\n",
      "Douro                    272\n",
      "Tejo                     235\n",
      "Guadia                   102\n",
      "Galiza-Sul                95\n",
      "Mondego                   86\n",
      "Ebro                      61\n",
      "Vouga                     56\n",
      "Tevere                    45\n",
      "Odelouca                  40\n",
      "Oeste                     33\n",
      "Algarve-barlavento        10\n",
      "Sado                       9\n",
      "Algarve-Sotavento          6\n",
      "Mira                       5\n",
      "Campania-South             5\n",
      "Jucar                      4\n",
      "Segura                     2\n",
      "Sur                        2\n",
      "EntreDouroeVouga           2\n",
      "Catala                     2\n",
      "Guadalquivir               1\n",
      "Saline-Pescara-Sangro      1\n",
      "Tejo-Sado                  1\n",
      "Vouga-Mondego              1\n"
     ]
    }
   ],
   "source": [
    "import pandas as pd\n",
    "\n",
    "# Crear la tabla de frecuencia cruzada\n",
    "catchment_count = pd.crosstab(index=df2['Catchment_name'], columns='count')\n",
    "\n",
    "# Ordenar el DataFrame por la columna 'count' en orden descendente\n",
    "catchment_count_sorted = catchment_count.sort_values(by='count', ascending=False)\n",
    "\n",
    "# Mostrar el DataFrame ordenado\n",
    "print(catchment_count_sorted)\n",
    "\n",
    "# R/: The catchment with more values are Galiza-Norte, Minho, Cantabrica, Duro."
   ]
  },
  {
   "cell_type": "code",
   "execution_count": 35,
   "metadata": {},
   "outputs": [
    {
     "data": {
      "text/html": [
       "<div>\n",
       "<style scoped>\n",
       "    .dataframe tbody tr th:only-of-type {\n",
       "        vertical-align: middle;\n",
       "    }\n",
       "\n",
       "    .dataframe tbody tr th {\n",
       "        vertical-align: top;\n",
       "    }\n",
       "\n",
       "    .dataframe thead th {\n",
       "        text-align: right;\n",
       "    }\n",
       "</style>\n",
       "<table border=\"1\" class=\"dataframe\">\n",
       "  <thead>\n",
       "    <tr style=\"text-align: right;\">\n",
       "      <th></th>\n",
       "      <th>Site_code</th>\n",
       "      <th>Latitude</th>\n",
       "      <th>Longitude</th>\n",
       "      <th>Country</th>\n",
       "      <th>Catchment_name</th>\n",
       "      <th>Galiza</th>\n",
       "      <th>Subsample</th>\n",
       "      <th>Calib_EFI_Medit</th>\n",
       "      <th>Calib_connect</th>\n",
       "      <th>Calib_hydrol</th>\n",
       "      <th>...</th>\n",
       "      <th>Squalius malacitanus</th>\n",
       "      <th>Squalius pyrenaicus</th>\n",
       "      <th>Squalius torgalensis</th>\n",
       "      <th>Thymallus thymallus</th>\n",
       "      <th>Tinca tinca</th>\n",
       "      <th>Zingel asper</th>\n",
       "      <th>Squalius sp</th>\n",
       "      <th>Barbatula sp</th>\n",
       "      <th>Phoxinus sp</th>\n",
       "      <th>Iberochondrostoma_sp</th>\n",
       "    </tr>\n",
       "  </thead>\n",
       "  <tbody>\n",
       "    <tr>\n",
       "      <th>18</th>\n",
       "      <td>ES_03_0001</td>\n",
       "      <td>41.957268</td>\n",
       "      <td>-2.926857</td>\n",
       "      <td>Spain</td>\n",
       "      <td>Douro</td>\n",
       "      <td>0</td>\n",
       "      <td>1</td>\n",
       "      <td>1</td>\n",
       "      <td>1</td>\n",
       "      <td>1</td>\n",
       "      <td>...</td>\n",
       "      <td>0</td>\n",
       "      <td>0</td>\n",
       "      <td>0</td>\n",
       "      <td>0</td>\n",
       "      <td>0</td>\n",
       "      <td>0</td>\n",
       "      <td>1</td>\n",
       "      <td>0</td>\n",
       "      <td>0</td>\n",
       "      <td>0</td>\n",
       "    </tr>\n",
       "    <tr>\n",
       "      <th>19</th>\n",
       "      <td>ES_03_0002</td>\n",
       "      <td>41.850818</td>\n",
       "      <td>-2.591150</td>\n",
       "      <td>Spain</td>\n",
       "      <td>Douro</td>\n",
       "      <td>0</td>\n",
       "      <td>1</td>\n",
       "      <td>0</td>\n",
       "      <td>1</td>\n",
       "      <td>0</td>\n",
       "      <td>...</td>\n",
       "      <td>0</td>\n",
       "      <td>0</td>\n",
       "      <td>0</td>\n",
       "      <td>0</td>\n",
       "      <td>0</td>\n",
       "      <td>0</td>\n",
       "      <td>1</td>\n",
       "      <td>0</td>\n",
       "      <td>0</td>\n",
       "      <td>0</td>\n",
       "    </tr>\n",
       "    <tr>\n",
       "      <th>28</th>\n",
       "      <td>ES_03_0012</td>\n",
       "      <td>41.498026</td>\n",
       "      <td>-5.528753</td>\n",
       "      <td>Spain</td>\n",
       "      <td>Douro</td>\n",
       "      <td>0</td>\n",
       "      <td>1</td>\n",
       "      <td>0</td>\n",
       "      <td>1</td>\n",
       "      <td>0</td>\n",
       "      <td>...</td>\n",
       "      <td>0</td>\n",
       "      <td>0</td>\n",
       "      <td>0</td>\n",
       "      <td>0</td>\n",
       "      <td>0</td>\n",
       "      <td>0</td>\n",
       "      <td>1</td>\n",
       "      <td>0</td>\n",
       "      <td>0</td>\n",
       "      <td>0</td>\n",
       "    </tr>\n",
       "    <tr>\n",
       "      <th>32</th>\n",
       "      <td>ES_03_0016</td>\n",
       "      <td>41.586853</td>\n",
       "      <td>-3.072064</td>\n",
       "      <td>Spain</td>\n",
       "      <td>Douro</td>\n",
       "      <td>0</td>\n",
       "      <td>1</td>\n",
       "      <td>0</td>\n",
       "      <td>1</td>\n",
       "      <td>0</td>\n",
       "      <td>...</td>\n",
       "      <td>0</td>\n",
       "      <td>0</td>\n",
       "      <td>0</td>\n",
       "      <td>0</td>\n",
       "      <td>0</td>\n",
       "      <td>0</td>\n",
       "      <td>1</td>\n",
       "      <td>0</td>\n",
       "      <td>0</td>\n",
       "      <td>0</td>\n",
       "    </tr>\n",
       "    <tr>\n",
       "      <th>43</th>\n",
       "      <td>ES_03_0029</td>\n",
       "      <td>41.830177</td>\n",
       "      <td>-3.782420</td>\n",
       "      <td>Spain</td>\n",
       "      <td>Douro</td>\n",
       "      <td>0</td>\n",
       "      <td>1</td>\n",
       "      <td>0</td>\n",
       "      <td>1</td>\n",
       "      <td>0</td>\n",
       "      <td>...</td>\n",
       "      <td>0</td>\n",
       "      <td>0</td>\n",
       "      <td>0</td>\n",
       "      <td>0</td>\n",
       "      <td>0</td>\n",
       "      <td>0</td>\n",
       "      <td>1</td>\n",
       "      <td>0</td>\n",
       "      <td>0</td>\n",
       "      <td>0</td>\n",
       "    </tr>\n",
       "  </tbody>\n",
       "</table>\n",
       "<p>5 rows × 164 columns</p>\n",
       "</div>"
      ],
      "text/plain": [
       "     Site_code   Latitude  Longitude Country Catchment_name  Galiza  \\\n",
       "18  ES_03_0001  41.957268  -2.926857   Spain          Douro       0   \n",
       "19  ES_03_0002  41.850818  -2.591150   Spain          Douro       0   \n",
       "28  ES_03_0012  41.498026  -5.528753   Spain          Douro       0   \n",
       "32  ES_03_0016  41.586853  -3.072064   Spain          Douro       0   \n",
       "43  ES_03_0029  41.830177  -3.782420   Spain          Douro       0   \n",
       "\n",
       "    Subsample  Calib_EFI_Medit  Calib_connect  Calib_hydrol  ...  \\\n",
       "18          1                1              1             1  ...   \n",
       "19          1                0              1             0  ...   \n",
       "28          1                0              1             0  ...   \n",
       "32          1                0              1             0  ...   \n",
       "43          1                0              1             0  ...   \n",
       "\n",
       "    Squalius malacitanus  Squalius pyrenaicus  Squalius torgalensis  \\\n",
       "18                     0                    0                     0   \n",
       "19                     0                    0                     0   \n",
       "28                     0                    0                     0   \n",
       "32                     0                    0                     0   \n",
       "43                     0                    0                     0   \n",
       "\n",
       "    Thymallus thymallus  Tinca tinca Zingel asper Squalius sp  Barbatula sp  \\\n",
       "18                    0            0            0           1             0   \n",
       "19                    0            0            0           1             0   \n",
       "28                    0            0            0           1             0   \n",
       "32                    0            0            0           1             0   \n",
       "43                    0            0            0           1             0   \n",
       "\n",
       "   Phoxinus sp  Iberochondrostoma_sp  \n",
       "18           0                     0  \n",
       "19           0                     0  \n",
       "28           0                     0  \n",
       "32           0                     0  \n",
       "43           0                     0  \n",
       "\n",
       "[5 rows x 164 columns]"
      ]
     },
     "execution_count": 35,
     "metadata": {},
     "output_type": "execute_result"
    }
   ],
   "source": [
    "# Filtrar el DataFrame para incluir solo los ocho catchments más muestreados\n",
    "top_eight_catchments = catchment_count_sorted.head(8).index.tolist()\n",
    "df_top_eight = df2[df2['Catchment_name'].isin(top_eight_catchments)]\n",
    "\n",
    "df_top_eight.head()"
   ]
  },
  {
   "cell_type": "code",
   "execution_count": 37,
   "metadata": {},
   "outputs": [
    {
     "name": "stdout",
     "output_type": "stream",
     "text": [
      "F-statistics=157.174, p=0.000000\n",
      "Se rechaza H0. Hay suficiente evidencia para decir que al menos una de las medias es diferente.\n"
     ]
    }
   ],
   "source": [
    "from scipy.stats import f_oneway\n",
    "\n",
    "# Realizar ANOVA de una vía\n",
    "stat, p = f_oneway(*[df_top_eight[df_top_eight['Catchment_name'] == catchment]['Elevation_mean_catch'] for catchment in top_eight_catchments])\n",
    "\n",
    "print('F-statistics=%.3f, p=%.6f' % (stat, p))\n",
    "\n",
    "alpha = 0.05\n",
    "if p > alpha:\n",
    "    print('No se rechaza H0. No hay suficiente evidencia para decir que las medias son diferentes.')\n",
    "else:\n",
    "    print('Se rechaza H0. Hay suficiente evidencia para decir que al menos una de las medias es diferente.')\n"
   ]
  },
  {
   "cell_type": "code",
   "execution_count": 38,
   "metadata": {},
   "outputs": [
    {
     "name": "stdout",
     "output_type": "stream",
     "text": [
      "         Multiple Comparison of Means - Tukey HSD, FWER=0.05         \n",
      "=====================================================================\n",
      "   group1       group2     meandiff p-adj    lower     upper   reject\n",
      "---------------------------------------------------------------------\n",
      "  Cantabrica        Douro   113.406 0.0002   37.6078  189.2042   True\n",
      "  Cantabrica Galiza-Norte -219.0555    0.0 -280.5173 -157.5936   True\n",
      "  Cantabrica   Galiza-Sul   32.9023 0.9841   -75.407  141.2115  False\n",
      "  Cantabrica       Guadia -330.6163    0.0 -435.9711 -225.2614   True\n",
      "  Cantabrica        Minho  258.0052    0.0  196.4999  319.5105   True\n",
      "  Cantabrica      Mondego  -40.3519 0.9597 -153.0173   72.3134  False\n",
      "  Cantabrica         Tejo -202.1506    0.0  -281.215 -123.0862   True\n",
      "       Douro Galiza-Norte -332.4615    0.0 -399.2247 -265.6983   True\n",
      "       Douro   Galiza-Sul  -80.5038 0.3568 -191.9068   30.8993  False\n",
      "       Douro       Guadia -444.0223    0.0 -552.5552 -335.4893   True\n",
      "       Douro        Minho  144.5992    0.0    77.796  211.4023   True\n",
      "       Douro      Mondego -153.7579 0.0015 -269.4007  -38.1152   True\n",
      "       Douro         Tejo -315.5566    0.0 -398.8089 -232.3043   True\n",
      "Galiza-Norte   Galiza-Sul  251.9577    0.0  149.7675  354.1479   True\n",
      "Galiza-Norte       Guadia -111.5608 0.0149 -210.6143  -12.5073   True\n",
      "Galiza-Norte        Minho  477.0607    0.0  427.1122  527.0092   True\n",
      "Galiza-Norte      Mondego  178.7036    0.0   71.9074  285.4997   True\n",
      "Galiza-Norte         Tejo   16.9049 0.9962  -53.5446   87.3544  False\n",
      "  Galiza-Sul       Guadia -363.5185    0.0 -496.8036 -230.2334   True\n",
      "  Galiza-Sul        Minho  225.1029    0.0  122.8866  327.3193   True\n",
      "  Galiza-Sul      Mondego  -73.2542 0.7523 -212.3899   65.8815  False\n",
      "  Galiza-Sul         Tejo -235.0528    0.0 -348.7034 -121.4023   True\n",
      "      Guadia        Minho  588.6215    0.0   489.541  687.7019   True\n",
      "      Guadia      Mondego  290.2643    0.0  153.4158  427.1128   True\n",
      "      Guadia         Tejo  128.4657 0.0105    17.627  239.3043   True\n",
      "       Minho      Mondego -298.3571    0.0 -405.1783 -191.5359   True\n",
      "       Minho         Tejo -460.1558    0.0 -530.6432 -389.6684   True\n",
      "     Mondego         Tejo -161.7987 0.0008  -279.608  -43.9893   True\n",
      "---------------------------------------------------------------------\n"
     ]
    }
   ],
   "source": [
    "# perform Tukey's test using the df dataframe defined above)\n",
    "tukey = stm.multicomp.pairwise_tukeyhsd(df_top_eight['Elevation_mean_catch'], df_top_eight['Catchment_name'])\n",
    "#display results\n",
    "print(tukey)"
   ]
  },
  {
   "cell_type": "markdown",
   "metadata": {},
   "source": [
    "Well, some limitations or disadvantages can start from the standardization process, this step can make more complicated the intepretability of the results, since it alters or modifies the original units. And even amplify the effect of extreme values.\n",
    "\n",
    "In the case of ANOVA, it may be the case of interpreting multiple interactions between different factors or variables to be compared. "
   ]
  }
 ],
 "metadata": {
  "kernelspec": {
   "display_name": "Python 3",
   "language": "python",
   "name": "python3"
  },
  "language_info": {
   "codemirror_mode": {
    "name": "ipython",
    "version": 3
   },
   "file_extension": ".py",
   "mimetype": "text/x-python",
   "name": "python",
   "nbconvert_exporter": "python",
   "pygments_lexer": "ipython3",
   "version": "3.12.0"
  }
 },
 "nbformat": 4,
 "nbformat_minor": 2
}

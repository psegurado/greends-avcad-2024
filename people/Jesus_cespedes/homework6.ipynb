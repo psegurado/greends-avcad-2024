{
 "cells": [
  {
   "cell_type": "code",
   "execution_count": 5,
   "metadata": {},
   "outputs": [],
   "source": [
    "import pandas as pd\n",
    "import zipfile\n",
    "import seaborn as sns # For plotting\n",
    "import matplotlib.pyplot as plt # For showing plots\n",
    "import numpy as np\n",
    "import pandas as pd\n",
    "import scipy.stats as sts\n",
    "import scikit_posthocs as sp\n",
    "import seaborn as sns\n",
    "import matplotlib.pyplot as plt\n"
   ]
  },
  {
   "cell_type": "code",
   "execution_count": 6,
   "metadata": {},
   "outputs": [],
   "source": [
    "df = pd.read_csv('EFIplus_medit.zip',compression='zip', sep=\";\")"
   ]
  },
  {
   "cell_type": "code",
   "execution_count": 7,
   "metadata": {},
   "outputs": [
    {
     "name": "stdout",
     "output_type": "stream",
     "text": [
      "<class 'pandas.core.frame.DataFrame'>\n",
      "RangeIndex: 5011 entries, 0 to 5010\n",
      "Columns: 164 entries, Site_code to Iberochondrostoma_sp\n",
      "dtypes: float64(38), int64(120), object(6)\n",
      "memory usage: 6.3+ MB\n"
     ]
    }
   ],
   "source": [
    "df2 = df.dropna(how='all') # drops rows when all elements are missing values\n",
    "df2.info()"
   ]
  },
  {
   "cell_type": "code",
   "execution_count": 8,
   "metadata": {},
   "outputs": [
    {
     "name": "stdout",
     "output_type": "stream",
     "text": [
      "<class 'pandas.core.frame.DataFrame'>\n",
      "Index: 2822 entries, 18 to 5010\n",
      "Columns: 164 entries, Site_code to Iberochondrostoma_sp\n",
      "dtypes: float64(38), int64(120), object(6)\n",
      "memory usage: 3.6+ MB\n"
     ]
    },
    {
     "data": {
      "text/html": [
       "<div>\n",
       "<style scoped>\n",
       "    .dataframe tbody tr th:only-of-type {\n",
       "        vertical-align: middle;\n",
       "    }\n",
       "\n",
       "    .dataframe tbody tr th {\n",
       "        vertical-align: top;\n",
       "    }\n",
       "\n",
       "    .dataframe thead th {\n",
       "        text-align: right;\n",
       "    }\n",
       "</style>\n",
       "<table border=\"1\" class=\"dataframe\">\n",
       "  <thead>\n",
       "    <tr style=\"text-align: right;\">\n",
       "      <th></th>\n",
       "      <th>Site_code</th>\n",
       "      <th>Latitude</th>\n",
       "      <th>Longitude</th>\n",
       "      <th>Country</th>\n",
       "      <th>Catchment_name</th>\n",
       "      <th>Galiza</th>\n",
       "      <th>Subsample</th>\n",
       "      <th>Calib_EFI_Medit</th>\n",
       "      <th>Calib_connect</th>\n",
       "      <th>Calib_hydrol</th>\n",
       "      <th>...</th>\n",
       "      <th>Squalius malacitanus</th>\n",
       "      <th>Squalius pyrenaicus</th>\n",
       "      <th>Squalius torgalensis</th>\n",
       "      <th>Thymallus thymallus</th>\n",
       "      <th>Tinca tinca</th>\n",
       "      <th>Zingel asper</th>\n",
       "      <th>Squalius sp</th>\n",
       "      <th>Barbatula sp</th>\n",
       "      <th>Phoxinus sp</th>\n",
       "      <th>Iberochondrostoma_sp</th>\n",
       "    </tr>\n",
       "  </thead>\n",
       "  <tbody>\n",
       "    <tr>\n",
       "      <th>18</th>\n",
       "      <td>ES_03_0001</td>\n",
       "      <td>41.957268</td>\n",
       "      <td>-2.926857</td>\n",
       "      <td>Spain</td>\n",
       "      <td>Douro</td>\n",
       "      <td>0</td>\n",
       "      <td>1</td>\n",
       "      <td>1</td>\n",
       "      <td>1</td>\n",
       "      <td>1</td>\n",
       "      <td>...</td>\n",
       "      <td>0</td>\n",
       "      <td>0</td>\n",
       "      <td>0</td>\n",
       "      <td>0</td>\n",
       "      <td>0</td>\n",
       "      <td>0</td>\n",
       "      <td>1</td>\n",
       "      <td>0</td>\n",
       "      <td>0</td>\n",
       "      <td>0</td>\n",
       "    </tr>\n",
       "    <tr>\n",
       "      <th>19</th>\n",
       "      <td>ES_03_0002</td>\n",
       "      <td>41.850818</td>\n",
       "      <td>-2.591150</td>\n",
       "      <td>Spain</td>\n",
       "      <td>Douro</td>\n",
       "      <td>0</td>\n",
       "      <td>1</td>\n",
       "      <td>0</td>\n",
       "      <td>1</td>\n",
       "      <td>0</td>\n",
       "      <td>...</td>\n",
       "      <td>0</td>\n",
       "      <td>0</td>\n",
       "      <td>0</td>\n",
       "      <td>0</td>\n",
       "      <td>0</td>\n",
       "      <td>0</td>\n",
       "      <td>1</td>\n",
       "      <td>0</td>\n",
       "      <td>0</td>\n",
       "      <td>0</td>\n",
       "    </tr>\n",
       "    <tr>\n",
       "      <th>28</th>\n",
       "      <td>ES_03_0012</td>\n",
       "      <td>41.498026</td>\n",
       "      <td>-5.528753</td>\n",
       "      <td>Spain</td>\n",
       "      <td>Douro</td>\n",
       "      <td>0</td>\n",
       "      <td>1</td>\n",
       "      <td>0</td>\n",
       "      <td>1</td>\n",
       "      <td>0</td>\n",
       "      <td>...</td>\n",
       "      <td>0</td>\n",
       "      <td>0</td>\n",
       "      <td>0</td>\n",
       "      <td>0</td>\n",
       "      <td>0</td>\n",
       "      <td>0</td>\n",
       "      <td>1</td>\n",
       "      <td>0</td>\n",
       "      <td>0</td>\n",
       "      <td>0</td>\n",
       "    </tr>\n",
       "    <tr>\n",
       "      <th>32</th>\n",
       "      <td>ES_03_0016</td>\n",
       "      <td>41.586853</td>\n",
       "      <td>-3.072064</td>\n",
       "      <td>Spain</td>\n",
       "      <td>Douro</td>\n",
       "      <td>0</td>\n",
       "      <td>1</td>\n",
       "      <td>0</td>\n",
       "      <td>1</td>\n",
       "      <td>0</td>\n",
       "      <td>...</td>\n",
       "      <td>0</td>\n",
       "      <td>0</td>\n",
       "      <td>0</td>\n",
       "      <td>0</td>\n",
       "      <td>0</td>\n",
       "      <td>0</td>\n",
       "      <td>1</td>\n",
       "      <td>0</td>\n",
       "      <td>0</td>\n",
       "      <td>0</td>\n",
       "    </tr>\n",
       "    <tr>\n",
       "      <th>43</th>\n",
       "      <td>ES_03_0029</td>\n",
       "      <td>41.830177</td>\n",
       "      <td>-3.782420</td>\n",
       "      <td>Spain</td>\n",
       "      <td>Douro</td>\n",
       "      <td>0</td>\n",
       "      <td>1</td>\n",
       "      <td>0</td>\n",
       "      <td>1</td>\n",
       "      <td>0</td>\n",
       "      <td>...</td>\n",
       "      <td>0</td>\n",
       "      <td>0</td>\n",
       "      <td>0</td>\n",
       "      <td>0</td>\n",
       "      <td>0</td>\n",
       "      <td>0</td>\n",
       "      <td>1</td>\n",
       "      <td>0</td>\n",
       "      <td>0</td>\n",
       "      <td>0</td>\n",
       "    </tr>\n",
       "  </tbody>\n",
       "</table>\n",
       "<p>5 rows × 164 columns</p>\n",
       "</div>"
      ],
      "text/plain": [
       "     Site_code   Latitude  Longitude Country Catchment_name  Galiza  \\\n",
       "18  ES_03_0001  41.957268  -2.926857   Spain          Douro       0   \n",
       "19  ES_03_0002  41.850818  -2.591150   Spain          Douro       0   \n",
       "28  ES_03_0012  41.498026  -5.528753   Spain          Douro       0   \n",
       "32  ES_03_0016  41.586853  -3.072064   Spain          Douro       0   \n",
       "43  ES_03_0029  41.830177  -3.782420   Spain          Douro       0   \n",
       "\n",
       "    Subsample  Calib_EFI_Medit  Calib_connect  Calib_hydrol  ...  \\\n",
       "18          1                1              1             1  ...   \n",
       "19          1                0              1             0  ...   \n",
       "28          1                0              1             0  ...   \n",
       "32          1                0              1             0  ...   \n",
       "43          1                0              1             0  ...   \n",
       "\n",
       "    Squalius malacitanus  Squalius pyrenaicus  Squalius torgalensis  \\\n",
       "18                     0                    0                     0   \n",
       "19                     0                    0                     0   \n",
       "28                     0                    0                     0   \n",
       "32                     0                    0                     0   \n",
       "43                     0                    0                     0   \n",
       "\n",
       "    Thymallus thymallus  Tinca tinca Zingel asper Squalius sp  Barbatula sp  \\\n",
       "18                    0            0            0           1             0   \n",
       "19                    0            0            0           1             0   \n",
       "28                    0            0            0           1             0   \n",
       "32                    0            0            0           1             0   \n",
       "43                    0            0            0           1             0   \n",
       "\n",
       "   Phoxinus sp  Iberochondrostoma_sp  \n",
       "18           0                     0  \n",
       "19           0                     0  \n",
       "28           0                     0  \n",
       "32           0                     0  \n",
       "43           0                     0  \n",
       "\n",
       "[5 rows x 164 columns]"
      ]
     },
     "execution_count": 8,
     "metadata": {},
     "output_type": "execute_result"
    }
   ],
   "source": [
    "df2 = df.dropna() # drops rows when at least one element is a missing value\n",
    "df2.info()\n",
    "df2.head()"
   ]
  },
  {
   "cell_type": "code",
   "execution_count": 9,
   "metadata": {},
   "outputs": [
    {
     "name": "stdout",
     "output_type": "stream",
     "text": [
      "col_0     count\n",
      "Country        \n",
      "Spain      1905\n",
      "Portugal    866\n",
      "Italy        51\n"
     ]
    }
   ],
   "source": [
    "import pandas as pd\n",
    "\n",
    "# Crear la tabla de frecuencia cruzada\n",
    "country_count = pd.crosstab(index=df2['Country'], columns='count')\n",
    "\n",
    "# Ordenar el DataFrame por la columna 'count' en orden descendente\n",
    "country_count_sorted = country_count.sort_values(by='count', ascending=False)\n",
    "\n",
    "# Mostrar el DataFrame ordenado\n",
    "print(country_count_sorted)"
   ]
  },
  {
   "cell_type": "code",
   "execution_count": 10,
   "metadata": {},
   "outputs": [
    {
     "data": {
      "text/html": [
       "<div>\n",
       "<style scoped>\n",
       "    .dataframe tbody tr th:only-of-type {\n",
       "        vertical-align: middle;\n",
       "    }\n",
       "\n",
       "    .dataframe tbody tr th {\n",
       "        vertical-align: top;\n",
       "    }\n",
       "\n",
       "    .dataframe thead th {\n",
       "        text-align: right;\n",
       "    }\n",
       "</style>\n",
       "<table border=\"1\" class=\"dataframe\">\n",
       "  <thead>\n",
       "    <tr style=\"text-align: right;\">\n",
       "      <th>Salmo trutta fario</th>\n",
       "      <th>0</th>\n",
       "      <th>1</th>\n",
       "    </tr>\n",
       "    <tr>\n",
       "      <th>Country</th>\n",
       "      <th></th>\n",
       "      <th></th>\n",
       "    </tr>\n",
       "  </thead>\n",
       "  <tbody>\n",
       "    <tr>\n",
       "      <th>Italy</th>\n",
       "      <td>26</td>\n",
       "      <td>25</td>\n",
       "    </tr>\n",
       "    <tr>\n",
       "      <th>Portugal</th>\n",
       "      <td>614</td>\n",
       "      <td>252</td>\n",
       "    </tr>\n",
       "    <tr>\n",
       "      <th>Spain</th>\n",
       "      <td>140</td>\n",
       "      <td>1765</td>\n",
       "    </tr>\n",
       "  </tbody>\n",
       "</table>\n",
       "</div>"
      ],
      "text/plain": [
       "Salmo trutta fario    0     1\n",
       "Country                      \n",
       "Italy                26    25\n",
       "Portugal            614   252\n",
       "Spain               140  1765"
      ]
     },
     "execution_count": 10,
     "metadata": {},
     "output_type": "execute_result"
    }
   ],
   "source": [
    "import pandas as pd\n",
    "import scipy.stats as sts\n",
    "\n",
    "\n",
    "data = pd.crosstab(df2['Country'], df2['Salmo trutta fario'])\n",
    "\n",
    "data.head()"
   ]
  },
  {
   "cell_type": "code",
   "execution_count": 24,
   "metadata": {},
   "outputs": [
    {
     "name": "stdout",
     "output_type": "stream",
     "text": [
      "Las ocho cuencas más muestreadas son: ['Galiza-Norte', 'Minho', 'Cantabrica', 'Douro', 'Tejo', 'Guadia', 'Galiza-Sul', 'Mondego']\n"
     ]
    }
   ],
   "source": [
    "import pandas as pd\n",
    "\n",
    "# Lee el conjunto de datos\n",
    "data = df2  # Reemplaza \"tu_archivo.csv\" con el nombre de tu archivo\n",
    "\n",
    "# Calcula el número de muestras por cuenca\n",
    "samples_per_catchment = data['Catchment_name'].value_counts()\n",
    "\n",
    "# Selecciona las ocho cuencas más muestreadas\n",
    "eight_most_sampled_catchments = samples_per_catchment.nlargest(8).index.tolist()\n",
    "\n",
    "print(f'Las ocho cuencas más muestreadas son: {eight_most_sampled_catchments}')"
   ]
  },
  {
   "cell_type": "code",
   "execution_count": 27,
   "metadata": {},
   "outputs": [
    {
     "name": "stdout",
     "output_type": "stream",
     "text": [
      "Kruskal-Wallis Test:\n",
      "H statistic: 725.6716048145258\n",
      "p-value: 2.0095865138939658e-152\n"
     ]
    }
   ],
   "source": [
    "from scipy.stats import kruskal\n",
    "\n",
    "# Extract the elevation data for the eight most sampled catchments\n",
    "catchment_elevation_data = []\n",
    "\n",
    "for catchment in eight_most_sampled_catchments:\n",
    "    elevation_data =df2[df2['Catchment_name'] == catchment]['Altitude']\n",
    "    catchment_elevation_data.append(elevation_data)\n",
    "\n",
    "# Perform Kruskal-Wallis test\n",
    "kw_statistic, p_value = kruskal(*catchment_elevation_data)\n",
    "\n",
    "print(\"Kruskal-Wallis Test:\")\n",
    "print(\"H statistic:\", kw_statistic)\n",
    "print(\"p-value:\", p_value)\n",
    "\n",
    "\n",
    "#no hay diferencias en la elevación media entre las ocho cuencas más muestreadas."
   ]
  },
  {
   "cell_type": "code",
   "execution_count": 9,
   "metadata": {},
   "outputs": [
    {
     "data": {
      "text/html": [
       "<div>\n",
       "<style scoped>\n",
       "    .dataframe tbody tr th:only-of-type {\n",
       "        vertical-align: middle;\n",
       "    }\n",
       "\n",
       "    .dataframe tbody tr th {\n",
       "        vertical-align: top;\n",
       "    }\n",
       "\n",
       "    .dataframe thead th {\n",
       "        text-align: right;\n",
       "    }\n",
       "</style>\n",
       "<table border=\"1\" class=\"dataframe\">\n",
       "  <thead>\n",
       "    <tr style=\"text-align: right;\">\n",
       "      <th>col_0</th>\n",
       "      <th>count</th>\n",
       "    </tr>\n",
       "    <tr>\n",
       "      <th>Catchment_name</th>\n",
       "      <th></th>\n",
       "    </tr>\n",
       "  </thead>\n",
       "  <tbody>\n",
       "    <tr>\n",
       "      <th>Algarve-Sotavento</th>\n",
       "      <td>6</td>\n",
       "    </tr>\n",
       "    <tr>\n",
       "      <th>Algarve-barlavento</th>\n",
       "      <td>10</td>\n",
       "    </tr>\n",
       "    <tr>\n",
       "      <th>Campania-South</th>\n",
       "      <td>5</td>\n",
       "    </tr>\n",
       "    <tr>\n",
       "      <th>Cantabrica</th>\n",
       "      <td>345</td>\n",
       "    </tr>\n",
       "    <tr>\n",
       "      <th>Catala</th>\n",
       "      <td>2</td>\n",
       "    </tr>\n",
       "  </tbody>\n",
       "</table>\n",
       "</div>"
      ],
      "text/plain": [
       "col_0               count\n",
       "Catchment_name           \n",
       "Algarve-Sotavento       6\n",
       "Algarve-barlavento     10\n",
       "Campania-South          5\n",
       "Cantabrica            345\n",
       "Catala                  2"
      ]
     },
     "execution_count": 9,
     "metadata": {},
     "output_type": "execute_result"
    }
   ],
   "source": [
    "\n",
    "catchment_count = pd.crosstab(index = df2['Catchment_name'], columns='count')\n",
    "catchment_count.head()"
   ]
  },
  {
   "cell_type": "code",
   "execution_count": 28,
   "metadata": {},
   "outputs": [
    {
     "name": "stdout",
     "output_type": "stream",
     "text": [
      "F-statistics=250.031, p=0.000000\n",
      "Reject H0 with an error probability <0.05)\n"
     ]
    }
   ],
   "source": [
    "presence = df2[df2['Salmo trutta fario'] == 1]\n",
    "absence = df2[df2['Salmo trutta fario'] == 0]\n",
    "presence= presence['Altitude'].dropna()\n",
    "absence = absence['Altitude'].dropna()\n",
    "\n",
    "# Compute the test\n",
    "stat, p = sts.kruskal(presence, absence)\n",
    "print('F-statistics=%.3f, p=%.6f' % (stat, p))\n",
    "alpha=0.05\n",
    "if p > alpha:\n",
    " print('Fail to reject H0. Rejecting H0 has an error probability >0.05')\n",
    "else:\n",
    " print('Reject H0 with an error probability <0.05)')"
   ]
  },
  {
   "cell_type": "markdown",
   "metadata": {},
   "source": [
    "## Wine secction"
   ]
  },
  {
   "cell_type": "code",
   "execution_count": 29,
   "metadata": {},
   "outputs": [
    {
     "name": "stdout",
     "output_type": "stream",
     "text": [
      "fixed acidity: p-value = 0.0001 (Significant)\n",
      "volatile acidity: p-value = 0.0000 (Significant)\n",
      "citric acid: p-value = 0.0000 (Significant)\n",
      "chlorides: p-value = 0.0000 (Significant)\n",
      "free sulfur dioxide: p-value = 0.0135 (Significant)\n",
      "total sulfur dioxide: p-value = 0.0000 (Significant)\n",
      "density: p-value = 0.0000 (Significant)\n",
      "sulphates: p-value = 0.0000 (Significant)\n",
      "alcohol: p-value = 0.0000 (Significant)\n",
      "\n",
      "Parámetros del vino que discriminan mejor entre las dos clases de calidad:\n",
      "['fixed acidity', 'volatile acidity', 'citric acid', 'chlorides', 'free sulfur dioxide', 'total sulfur dioxide', 'density', 'sulphates', 'alcohol']\n"
     ]
    }
   ],
   "source": [
    "import pandas as pd\n",
    "from scipy.stats import f_oneway\n",
    "\n",
    "\n",
    "data = pd.read_csv('winequality_red.csv')\n",
    "\n",
    "# 2. Crear una nueva columna para categorizar la calidad del vino\n",
    "data['quality_category'] = data['quality'].apply(lambda x: 'good' if x > 5 else 'bad')\n",
    "\n",
    "# 3. Realizar ANOVA para cada parámetro del vino\n",
    "parameters = data.columns[:-2]  # Excluir 'quality' y 'quality_category'\n",
    "significant_parameters = []\n",
    "\n",
    "for param in parameters:\n",
    "    good_wine = data[data['quality_category'] == 'good'][param]\n",
    "    bad_wine = data[data['quality_category'] == 'bad'][param]\n",
    "    \n",
    "    # Realizar ANOVA\n",
    "    f_statistic, p_value = f_oneway(good_wine, bad_wine)\n",
    "    \n",
    "    # Evaluar significancia (usando un valor de corte de 0.05)\n",
    "    if p_value < 0.05:\n",
    "        significant_parameters.append(param)\n",
    "        print(f\"{param}: p-value = {p_value:.4f} (Significant)\")\n",
    "\n",
    "# 4. Mostrar los parámetros del vino que discriminan mejor entre las dos clases de calidad\n",
    "print(\"\\nParámetros del vino que discriminan mejor entre las dos clases de calidad:\")\n",
    "print(significant_parameters)\n"
   ]
  }
 ],
 "metadata": {
  "kernelspec": {
   "display_name": "Python 3",
   "language": "python",
   "name": "python3"
  },
  "language_info": {
   "codemirror_mode": {
    "name": "ipython",
    "version": 3
   },
   "file_extension": ".py",
   "mimetype": "text/x-python",
   "name": "python",
   "nbconvert_exporter": "python",
   "pygments_lexer": "ipython3",
   "version": "3.12.0"
  }
 },
 "nbformat": 4,
 "nbformat_minor": 2
}
